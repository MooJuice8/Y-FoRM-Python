{
 "cells": [
  {
   "cell_type": "markdown",
   "metadata": {},
   "source": [
    "일별시세 페이지 분석"
   ]
  },
  {
   "cell_type": "code",
   "execution_count": 4,
   "metadata": {},
   "outputs": [],
   "source": [
    "index_cd = 'KPI200'\n",
    "page_n = 1\n",
    "naver_index = 'http://finance.naver.com/sise/sise_index_day.nhn?code=' + index_cd + '&page=' + str(page_n)"
   ]
  },
  {
   "cell_type": "code",
   "execution_count": 5,
   "metadata": {
    "scrolled": false
   },
   "outputs": [
    {
     "data": {
      "text/plain": [
       "b'<html lang=\"ko\">\\n<head>\\n<meta http-equiv=\"Content-Type\" content=\"text/html; charset=euc-kr\">\\n<title>\\xb3\\xd7\\xc0\\xcc\\xb9\\xf6 \\xb1\\xdd\\xc0\\xb6</title>\\n\\n<link rel=\"stylesheet\" type=\"text/css\" href=\"https://ssl.pstatic.net/imgstock/static.pc/20220407160311/css/newstock.css\">\\n<link rel=\"stylesheet\" type=\"text/css\" href=\"https://ssl.pstatic.net/imgstock/static.pc/20220407160311/css/common.css\">\\n<link rel=\"stylesheet\" type=\"text/css\" href=\"https://ssl.pstatic.net/imgstock/static.pc/20220407160311/css/layout.css\">\\n<link rel=\"stylesheet\" type=\"text/css\" href=\"https://ssl.pstatic.net/imgstock/static.pc/20220407160311/css/main.css\">\\n<link rel=\"stylesheet\" type=\"text/css\" href=\"https://ssl.pstatic.net/imgstock/static.pc/20220407160311/css/newstock2.css\">\\n<link rel=\"stylesheet\" type=\"text/css\" href=\"https://ssl.pstatic.net/imgstock/static.pc/20220407160311/css/newstock3.css\">\\n<link rel=\"stylesheet\" type=\"text/css\" href=\"https://ssl.pstatic.net/imgstock/static.pc/20220407160311/css/world.css\">\\n</head>\\n<body>\\n<script type=\"text/javascript\" src=\"https://ssl.pstatic.net/imgstock/static.pc/20220407160311/js/jindo.min.ns.1.5.3.euckr.js\"></script>\\n<script type=\"text/javascript\" src=\"https://ssl.pstatic.net/imgstock/static.pc/20220407160311/js/lcslog.js\"></script>\\n\\t\\t\\t\\t<!-- \\xc0\\xcf\\xba\\xb0\\xbd\\xc3\\xbc\\xbc -->\\n\\t\\t\\t\\t<div class=\"box_type_m\">\\n\\t\\t\\t\\t\\t<h4 class=\"top_tlt\" style=\"text-align:left;\"><em>\\xc0\\xcf\\xba\\xb0</em>\\xbd\\xc3\\xbc\\xbc</h4>\\n\\t\\t\\t\\t\\t<table summary=\"\\xc0\\xcf\\xba\\xb0 \\xbd\\xc3\\xbc\\xbc\\xc7\\xa5:\\xb3\\xaf\\xc2\\xa5\\xbf\\xa1 \\xb5\\xfb\\xb8\\xa5 \\xc3\\xbc\\xb0\\xe1\\xb0\\xa1 \\xc0\\xfc\\xc0\\xcf\\xba\\xf1 \\xb5\\xee\\xb6\\xf4\\xb7\\xfc \\xb0\\xc5\\xb7\\xa1\\xb7\\xae \\xb0\\xc5\\xb7\\xa1\\xb4\\xeb\\xb1\\xdd \\xc1\\xa4\\xba\\xb8\\xb8\\xa6 \\xc1\\xa6\\xb0\\xf8\\xc7\\xd5\\xb4\\xcf\\xb4\\xd9.\" cellpadding=\"0\" cellspacing=\"0\" class=\"type_1\">\\n\\t\\t\\t\\t\\t<caption>\\xc0\\xcf\\xba\\xb0\\xbd\\xc3\\xbc\\xbc</caption>\\n\\t\\t\\t\\t\\t<col width=\"15%\"><col width=\"14%\"><col width=\"18%\"><col width=\"14%\"><col width=\"*\"><col width=\"18%\">\\n\\t\\t\\t\\t\\t\\n\\t\\t\\t\\t\\t\\t\\n\\t\\t\\t\\t\\t\\t\\n\\t\\t\\t\\t\\t\\t<tr>\\n\\t\\t\\t\\t\\t\\t\\t<th>\\xb3\\xaf\\xc2\\xa5</th>\\n\\t\\t\\t\\t\\t\\t\\t<th>\\xc3\\xbc\\xb0\\xe1\\xb0\\xa1</th>\\n\\t\\t\\t\\t\\t\\t\\t<th>\\xc0\\xfc\\xc0\\xcf\\xba\\xf1</th>\\n\\t\\t\\t\\t\\t\\t\\t<th>\\xb5\\xee\\xb6\\xf4\\xb7\\xfc</th>\\n\\t\\t\\t\\t\\t\\t\\t<th>\\xb0\\xc5\\xb7\\xa1\\xb7\\xae<span class=\"add_txt\">(\\xc3\\xb5\\xc1\\xd6)</span></th>\\n\\t\\t\\t\\t\\t\\t\\t<th>\\xb0\\xc5\\xb7\\xa1\\xb4\\xeb\\xb1\\xdd<span class=\"add_txt\">(\\xb9\\xe9\\xb8\\xb8)</span></th>\\n\\t\\t\\t\\t\\t\\t</tr>\\n\\t\\t\\t\\t\\t\\t\\n\\t\\t\\t\\t\\t\\t\\t\\t\\t\\t\\n\\t\\t\\t\\t\\t<tr><td colspan=\"6\" class=\"blank_07\"></td></tr>\\n\\n\\t\\n\\t\\t\\t\\t\\t<tr>\\n\\t\\t\\t\\t\\t\\t<td class=\"date\">2022.04.08</td>\\n\\t\\t\\t\\t\\t\\t<td class=\"number_1\">356.01</td>\\n\\t\\t\\t\\t\\t\\t<td class=\"rate_down\" style=\"padding-right:35px;\">\\n\\t\\t\\t\\t<img src=\"https://ssl.pstatic.net/imgstock/images/images4/ico_up.gif\" width=\"7\" height=\"6\" style=\"margin-right:4px;\" alt=\"\\xbb\\xf3\\xbd\\xc2\"><span class=\"tah p11 red02\">\\n\\t\\t\\t\\t0.28\\n\\t\\t\\t\\t</span>\\n\\t\\t\\t</td>\\n\\t\\t\\t\\t\\t\\t<td class=\"number_1\">\\n\\t\\t\\t\\t<span class=\"tah p11 red01\">\\n\\t\\t\\t\\t+0.08%\\n\\t\\t\\t\\t</span>\\n\\t\\t\\t</td>\\n\\t\\t\\t\\t\\t\\t<td class=\"number_1\" style=\"padding-right:40px;\">166,111</td>\\n\\t\\t\\t\\t\\t\\t<td class=\"number_1\" style=\"padding-right:30px;\">6,737,531</td>\\n\\t\\t\\t\\t\\t</tr>\\n\\t\\t\\n\\t\\t\\t\\n\\t\\t\\t\\t\\n\\t\\t\\t\\t\\t<tr>\\n\\t\\t\\t\\t\\t\\t<td class=\"date\">2022.04.07</td>\\n\\t\\t\\t\\t\\t\\t<td class=\"number_1\">355.73</td>\\n\\t\\t\\t\\t\\t\\t<td class=\"rate_down\" style=\"padding-right:35px;\">\\n\\t\\t\\t\\t<img src=\"https://ssl.pstatic.net/imgstock/images/images4/ico_down.gif\" width=\"7\" height=\"6\" style=\"margin-right:4px;\" alt=\"\\xc7\\xcf\\xb6\\xf4\"><span class=\"tah p11 nv01\">\\n\\t\\t\\t\\t5.28\\n\\t\\t\\t\\t</span>\\n\\t\\t\\t</td>\\n\\t\\t\\t\\t\\t\\t<td class=\"number_1\">\\n\\t\\t\\t\\t<span class=\"tah p11 nv01\">\\n\\t\\t\\t\\t-1.46%\\n\\t\\t\\t\\t</span>\\n\\t\\t\\t</td>\\n\\t\\t\\t\\t\\t\\t<td class=\"number_1\" style=\"padding-right:40px;\">193,937</td>\\n\\t\\t\\t\\t\\t\\t<td class=\"number_1\" style=\"padding-right:30px;\">7,704,972</td>\\n\\t\\t\\t\\t\\t</tr>\\n\\t\\t\\t\\t\\n\\t\\t\\t\\t\\n\\t\\t\\t\\n\\t\\t\\t\\n\\t\\t\\t\\n\\t\\t\\t\\n\\t\\t\\t\\t\\n\\t\\t\\t\\n\\t\\t\\t\\n\\t\\t\\n\\t\\t\\t\\n\\t\\t\\t\\t\\n\\t\\t\\t\\t\\t<tr>\\n\\t\\t\\t\\t\\t\\t<td class=\"date\">2022.04.06</td>\\n\\t\\t\\t\\t\\t\\t<td class=\"number_1\">361.01</td>\\n\\t\\t\\t\\t\\t\\t<td class=\"rate_down\" style=\"padding-right:35px;\">\\n\\t\\t\\t\\t<img src=\"https://ssl.pstatic.net/imgstock/images/images4/ico_down.gif\" width=\"7\" height=\"6\" style=\"margin-right:4px;\" alt=\"\\xc7\\xcf\\xb6\\xf4\"><span class=\"tah p11 nv01\">\\n\\t\\t\\t\\t3.73\\n\\t\\t\\t\\t</span>\\n\\t\\t\\t</td>\\n\\t\\t\\t\\t\\t\\t<td class=\"number_1\">\\n\\t\\t\\t\\t<span class=\"tah p11 nv01\">\\n\\t\\t\\t\\t-1.02%\\n\\t\\t\\t\\t</span>\\n\\t\\t\\t</td>\\n\\t\\t\\t\\t\\t\\t<td class=\"number_1\" style=\"padding-right:40px;\">176,510</td>\\n\\t\\t\\t\\t\\t\\t<td class=\"number_1\" style=\"padding-right:30px;\">6,512,785</td>\\n\\t\\t\\t\\t\\t</tr>\\n\\t\\t\\t\\t\\n\\t\\t\\t\\t\\n\\t\\t\\t\\n\\t\\t\\t\\n\\t\\t\\t\\n\\t\\t\\t\\n\\t\\t\\t\\t\\n\\t\\t\\t\\t\\t<tr><td colspan=\"6\" class=\"blank_08\"></td></tr>\\n\\t\\t\\t\\t\\t<tr><td colspan=\"6\" class=\"division_line\"></td></tr>\\n\\t\\t\\t\\t\\t<tr><td colspan=\"6\" class=\"blank_08\"></td></tr>\\n\\t\\t\\t\\t\\t<tr>\\n\\t\\t\\t\\t\\n\\t\\t\\t\\n\\t\\t\\t\\n\\t\\t\\n\\t\\t\\t\\n\\t\\t\\t\\t\\n\\t\\t\\t\\t\\t<tr>\\n\\t\\t\\t\\t\\t\\t<td class=\"date\">2022.04.05</td>\\n\\t\\t\\t\\t\\t\\t<td class=\"number_1\">364.74</td>\\n\\t\\t\\t\\t\\t\\t<td class=\"rate_down\" style=\"padding-right:35px;\">\\n\\t\\t\\t\\t<img src=\"https://ssl.pstatic.net/imgstock/images/images4/ico_down.gif\" width=\"7\" height=\"6\" style=\"margin-right:4px;\" alt=\"\\xc7\\xcf\\xb6\\xf4\"><span class=\"tah p11 nv01\">\\n\\t\\t\\t\\t0.20\\n\\t\\t\\t\\t</span>\\n\\t\\t\\t</td>\\n\\t\\t\\t\\t\\t\\t<td class=\"number_1\">\\n\\t\\t\\t\\t<span class=\"tah p11 nv01\">\\n\\t\\t\\t\\t-0.05%\\n\\t\\t\\t\\t</span>\\n\\t\\t\\t</td>\\n\\t\\t\\t\\t\\t\\t<td class=\"number_1\" style=\"padding-right:40px;\">244,226</td>\\n\\t\\t\\t\\t\\t\\t<td class=\"number_1\" style=\"padding-right:30px;\">5,262,759</td>\\n\\t\\t\\t\\t\\t</tr>\\n\\t\\t\\t\\t\\n\\t\\t\\t\\t\\n\\t\\t\\t\\n\\t\\t\\t\\n\\t\\t\\t\\n\\t\\t\\t\\n\\t\\t\\t\\t\\n\\t\\t\\t\\n\\t\\t\\t\\n\\t\\t\\n\\t\\t\\t\\n\\t\\t\\t\\t\\n\\t\\t\\t\\t\\t<tr>\\n\\t\\t\\t\\t\\t\\t<td class=\"date\">2022.04.04</td>\\n\\t\\t\\t\\t\\t\\t<td class=\"number_1\">364.94</td>\\n\\t\\t\\t\\t\\t\\t<td class=\"rate_down\" style=\"padding-right:35px;\">\\n\\t\\t\\t\\t<img src=\"https://ssl.pstatic.net/imgstock/images/images4/ico_up.gif\" width=\"7\" height=\"6\" style=\"margin-right:4px;\" alt=\"\\xbb\\xf3\\xbd\\xc2\"><span class=\"tah p11 red02\">\\n\\t\\t\\t\\t1.75\\n\\t\\t\\t\\t</span>\\n\\t\\t\\t</td>\\n\\t\\t\\t\\t\\t\\t<td class=\"number_1\">\\n\\t\\t\\t\\t<span class=\"tah p11 red01\">\\n\\t\\t\\t\\t+0.48%\\n\\t\\t\\t\\t</span>\\n\\t\\t\\t</td>\\n\\t\\t\\t\\t\\t\\t<td class=\"number_1\" style=\"padding-right:40px;\">171,554</td>\\n\\t\\t\\t\\t\\t\\t<td class=\"number_1\" style=\"padding-right:30px;\">5,298,139</td>\\n\\t\\t\\t\\t\\t</tr>\\n\\t\\t\\t\\t\\n\\t\\t\\t\\t\\n\\t\\t\\t\\n\\t\\t\\t\\n\\t\\t\\t\\n\\t\\t\\t\\n\\t\\t\\t\\t\\n\\t\\t\\t\\n\\t\\t\\t\\n\\t\\t\\n\\t\\t\\t\\n\\t\\t\\t\\t\\n\\t\\t\\t\\t\\t<tr>\\n\\t\\t\\t\\t\\t\\t<td class=\"date\">2022.04.01</td>\\n\\t\\t\\t\\t\\t\\t<td class=\"number_1\">363.19</td>\\n\\t\\t\\t\\t\\t\\t<td class=\"rate_down\" style=\"padding-right:35px;\">\\n\\t\\t\\t\\t<img src=\"https://ssl.pstatic.net/imgstock/images/images4/ico_down.gif\" width=\"7\" height=\"6\" style=\"margin-right:4px;\" alt=\"\\xc7\\xcf\\xb6\\xf4\"><span class=\"tah p11 nv01\">\\n\\t\\t\\t\\t2.42\\n\\t\\t\\t\\t</span>\\n\\t\\t\\t</td>\\n\\t\\t\\t\\t\\t\\t<td class=\"number_1\">\\n\\t\\t\\t\\t<span class=\"tah p11 nv01\">\\n\\t\\t\\t\\t-0.66%\\n\\t\\t\\t\\t</span>\\n\\t\\t\\t</td>\\n\\t\\t\\t\\t\\t\\t<td class=\"number_1\" style=\"padding-right:40px;\">446,847</td>\\n\\t\\t\\t\\t\\t\\t<td class=\"number_1\" style=\"padding-right:30px;\">7,196,628</td>\\n\\t\\t\\t\\t\\t</tr>\\n\\t\\t\\t\\t\\n\\t\\t\\t\\t\\n\\t\\t\\t\\n\\t\\t\\t\\n\\t\\t\\t\\n\\t\\t\\t\\n\\t\\t\\t\\t\\n\\t\\t\\t\\n\\t\\t\\t\\n\\t\\t\\n\\t\\t\\t\\n\\t\\n\\t\\n\\t\\n\\t\\n\\n\\t\\t\\t\\t\\t<tr><td colspan=\"6\" class=\"blank_09\"></td></tr>\\n\\t\\t\\t\\t\\t<tr><td colspan=\"6\" class=\"division_line\"></td></tr>\\n\\t\\t\\t\\t\\t</table>\\n\\t\\t\\t\\t<!--- \\xc6\\xe4\\xc0\\xcc\\xc1\\xf6 \\xb3\\xd7\\xba\\xf1\\xb0\\xd4\\xc0\\xcc\\xbc\\xc7 \\xbd\\xc3\\xc0\\xdb--->\\n\\t\\t\\t\\t<table summary=\"\\xc6\\xe4\\xc0\\xcc\\xc1\\xf6 \\xb3\\xd7\\xba\\xf1\\xb0\\xd4\\xc0\\xcc\\xbc\\xc7 \\xb8\\xae\\xbd\\xba\\xc6\\xae\" class=\"Nnavi\" align=\"center\">\\n\\t\\t\\t\\t<caption>\\xc6\\xe4\\xc0\\xcc\\xc1\\xf6 \\xb3\\xd7\\xba\\xf1\\xb0\\xd4\\xc0\\xcc\\xbc\\xc7</caption>\\n\\t\\t\\t\\t<tr>\\t\\t\\n\\t\\t\\t\\n\\t\\t\\t\\t\\n                \\n                <td class=\"on\">\\n\\t\\t\\t\\t<a href=\"/sise/sise_index_day.nhn?code=KPI200&amp;page=1\"  >1</a>\\n\\t\\t\\t\\t</td>\\n<td>\\n\\t\\t\\t\\t<a href=\"/sise/sise_index_day.nhn?code=KPI200&amp;page=2\"  >2</a>\\n\\t\\t\\t\\t</td>\\n<td>\\n\\t\\t\\t\\t<a href=\"/sise/sise_index_day.nhn?code=KPI200&amp;page=3\"  >3</a>\\n\\t\\t\\t\\t</td>\\n<td>\\n\\t\\t\\t\\t<a href=\"/sise/sise_index_day.nhn?code=KPI200&amp;page=4\"  >4</a>\\n\\t\\t\\t\\t</td>\\n<td>\\n\\t\\t\\t\\t<a href=\"/sise/sise_index_day.nhn?code=KPI200&amp;page=5\"  >5</a>\\n\\t\\t\\t\\t</td>\\n<td>\\n\\t\\t\\t\\t<a href=\"/sise/sise_index_day.nhn?code=KPI200&amp;page=6\"  >6</a>\\n\\t\\t\\t\\t</td>\\n<td>\\n\\t\\t\\t\\t<a href=\"/sise/sise_index_day.nhn?code=KPI200&amp;page=7\"  >7</a>\\n\\t\\t\\t\\t</td>\\n<td>\\n\\t\\t\\t\\t<a href=\"/sise/sise_index_day.nhn?code=KPI200&amp;page=8\"  >8</a>\\n\\t\\t\\t\\t</td>\\n<td>\\n\\t\\t\\t\\t<a href=\"/sise/sise_index_day.nhn?code=KPI200&amp;page=9\"  >9</a>\\n\\t\\t\\t\\t</td>\\n<td>\\n\\t\\t\\t\\t<a href=\"/sise/sise_index_day.nhn?code=KPI200&amp;page=10\"  >10</a>\\n\\t\\t\\t\\t</td>\\n\\n                <td class=\"pgR\">\\n\\t\\t\\t\\t<a href=\"/sise/sise_index_day.nhn?code=KPI200&amp;page=11\"  >\\n\\t\\t\\t\\t\\xb4\\xd9\\xc0\\xbd<img src=\"https://ssl.pstatic.net/static/n/cmn/bu_pgarR.gif\" width=\"3\" height=\"5\" alt=\"\" border=\"0\">\\n\\t\\t\\t\\t</a>\\n\\t\\t\\t\\t</td>\\n\\n                <td class=\"pgRR\">\\n\\t\\t\\t\\t<a href=\"/sise/sise_index_day.nhn?code=KPI200&amp;page=670\"  >\\xb8\\xc7\\xb5\\xda\\n\\t\\t\\t\\t<img src=\"https://ssl.pstatic.net/static/n/cmn/bu_pgarRR.gif\" width=\"8\" height=\"5\" alt=\"\" border=\"0\">\\n\\t\\t\\t\\t</a>\\n\\t\\t\\t\\t</td>\\n\\n            \\n\\t\\t\\t\\t</tr>\\n\\t\\t\\t\\t</table>\\n\\t\\t\\t\\t<!--- \\xc6\\xe4\\xc0\\xcc\\xc1\\xf6 \\xb3\\xd7\\xba\\xf1\\xb0\\xd4\\xc0\\xcc\\xbc\\xc7 \\xb3\\xa1--->\\n\\t\\t\\t\\t</div>\\n\\t\\t\\t\\t<!-- //\\xc0\\xcf\\xba\\xb0\\xbd\\xc3\\xbc\\xbc -->\\n\\t\\t\\t\\t\\n<script type=\"text/javascript\">\\n    ;(function(){\\n        var eventType = \"onpageshow\" in window ? \"pageshow\" : \"load\";\\n        jindo.$Fn(function(){\\n            lcs_do();\\n        }).attach(window, eventType);\\n    })();\\n</script>\\n\\n</body>\\n</html>'"
      ]
     },
     "execution_count": 5,
     "metadata": {},
     "output_type": "execute_result"
    }
   ],
   "source": [
    "from urllib.request import urlopen\n",
    "source = urlopen(naver_index).read()\n",
    "source"
   ]
  },
  {
   "cell_type": "code",
   "execution_count": 6,
   "metadata": {},
   "outputs": [
    {
     "data": {
      "text/plain": [
       "<html lang=\"ko\">\n",
       "<head>\n",
       "<meta content=\"text/html; charset=utf-8\" http-equiv=\"Content-Type\"/>\n",
       "<title>네이버 금융</title>\n",
       "<link href=\"https://ssl.pstatic.net/imgstock/static.pc/20220407160311/css/newstock.css\" rel=\"stylesheet\" type=\"text/css\"/>\n",
       "<link href=\"https://ssl.pstatic.net/imgstock/static.pc/20220407160311/css/common.css\" rel=\"stylesheet\" type=\"text/css\"/>\n",
       "<link href=\"https://ssl.pstatic.net/imgstock/static.pc/20220407160311/css/layout.css\" rel=\"stylesheet\" type=\"text/css\"/>\n",
       "<link href=\"https://ssl.pstatic.net/imgstock/static.pc/20220407160311/css/main.css\" rel=\"stylesheet\" type=\"text/css\"/>\n",
       "<link href=\"https://ssl.pstatic.net/imgstock/static.pc/20220407160311/css/newstock2.css\" rel=\"stylesheet\" type=\"text/css\"/>\n",
       "<link href=\"https://ssl.pstatic.net/imgstock/static.pc/20220407160311/css/newstock3.css\" rel=\"stylesheet\" type=\"text/css\"/>\n",
       "<link href=\"https://ssl.pstatic.net/imgstock/static.pc/20220407160311/css/world.css\" rel=\"stylesheet\" type=\"text/css\"/>\n",
       "</head>\n",
       "<body>\n",
       "<script src=\"https://ssl.pstatic.net/imgstock/static.pc/20220407160311/js/jindo.min.ns.1.5.3.euckr.js\" type=\"text/javascript\"></script>\n",
       "<script src=\"https://ssl.pstatic.net/imgstock/static.pc/20220407160311/js/lcslog.js\" type=\"text/javascript\"></script>\n",
       "<!-- 일별시세 -->\n",
       "<div class=\"box_type_m\">\n",
       "<h4 class=\"top_tlt\" style=\"text-align:left;\"><em>일별</em>시세</h4>\n",
       "<table cellpadding=\"0\" cellspacing=\"0\" class=\"type_1\" summary=\"일별 시세표:날짜에 따른 체결가 전일비 등락률 거래량 거래대금 정보를 제공합니다.\">\n",
       "<caption>일별시세</caption>\n",
       "<col width=\"15%\"/><col width=\"14%\"/><col width=\"18%\"/><col width=\"14%\"/><col width=\"*\"/><col width=\"18%\"/>\n",
       "<tr>\n",
       "<th>날짜</th>\n",
       "<th>체결가</th>\n",
       "<th>전일비</th>\n",
       "<th>등락률</th>\n",
       "<th>거래량<span class=\"add_txt\">(천주)</span></th>\n",
       "<th>거래대금<span class=\"add_txt\">(백만)</span></th>\n",
       "</tr>\n",
       "<tr><td class=\"blank_07\" colspan=\"6\"></td></tr>\n",
       "<tr>\n",
       "<td class=\"date\">2022.04.08</td>\n",
       "<td class=\"number_1\">356.01</td>\n",
       "<td class=\"rate_down\" style=\"padding-right:35px;\">\n",
       "<img alt=\"상승\" height=\"6\" src=\"https://ssl.pstatic.net/imgstock/images/images4/ico_up.gif\" style=\"margin-right:4px;\" width=\"7\"/><span class=\"tah p11 red02\">\n",
       "\t\t\t\t0.28\n",
       "\t\t\t\t</span>\n",
       "</td>\n",
       "<td class=\"number_1\">\n",
       "<span class=\"tah p11 red01\">\n",
       "\t\t\t\t+0.08%\n",
       "\t\t\t\t</span>\n",
       "</td>\n",
       "<td class=\"number_1\" style=\"padding-right:40px;\">166,111</td>\n",
       "<td class=\"number_1\" style=\"padding-right:30px;\">6,737,531</td>\n",
       "</tr>\n",
       "<tr>\n",
       "<td class=\"date\">2022.04.07</td>\n",
       "<td class=\"number_1\">355.73</td>\n",
       "<td class=\"rate_down\" style=\"padding-right:35px;\">\n",
       "<img alt=\"하락\" height=\"6\" src=\"https://ssl.pstatic.net/imgstock/images/images4/ico_down.gif\" style=\"margin-right:4px;\" width=\"7\"/><span class=\"tah p11 nv01\">\n",
       "\t\t\t\t5.28\n",
       "\t\t\t\t</span>\n",
       "</td>\n",
       "<td class=\"number_1\">\n",
       "<span class=\"tah p11 nv01\">\n",
       "\t\t\t\t-1.46%\n",
       "\t\t\t\t</span>\n",
       "</td>\n",
       "<td class=\"number_1\" style=\"padding-right:40px;\">193,937</td>\n",
       "<td class=\"number_1\" style=\"padding-right:30px;\">7,704,972</td>\n",
       "</tr>\n",
       "<tr>\n",
       "<td class=\"date\">2022.04.06</td>\n",
       "<td class=\"number_1\">361.01</td>\n",
       "<td class=\"rate_down\" style=\"padding-right:35px;\">\n",
       "<img alt=\"하락\" height=\"6\" src=\"https://ssl.pstatic.net/imgstock/images/images4/ico_down.gif\" style=\"margin-right:4px;\" width=\"7\"/><span class=\"tah p11 nv01\">\n",
       "\t\t\t\t3.73\n",
       "\t\t\t\t</span>\n",
       "</td>\n",
       "<td class=\"number_1\">\n",
       "<span class=\"tah p11 nv01\">\n",
       "\t\t\t\t-1.02%\n",
       "\t\t\t\t</span>\n",
       "</td>\n",
       "<td class=\"number_1\" style=\"padding-right:40px;\">176,510</td>\n",
       "<td class=\"number_1\" style=\"padding-right:30px;\">6,512,785</td>\n",
       "</tr>\n",
       "<tr><td class=\"blank_08\" colspan=\"6\"></td></tr>\n",
       "<tr><td class=\"division_line\" colspan=\"6\"></td></tr>\n",
       "<tr><td class=\"blank_08\" colspan=\"6\"></td></tr>\n",
       "<tr>\n",
       "</tr><tr>\n",
       "<td class=\"date\">2022.04.05</td>\n",
       "<td class=\"number_1\">364.74</td>\n",
       "<td class=\"rate_down\" style=\"padding-right:35px;\">\n",
       "<img alt=\"하락\" height=\"6\" src=\"https://ssl.pstatic.net/imgstock/images/images4/ico_down.gif\" style=\"margin-right:4px;\" width=\"7\"/><span class=\"tah p11 nv01\">\n",
       "\t\t\t\t0.20\n",
       "\t\t\t\t</span>\n",
       "</td>\n",
       "<td class=\"number_1\">\n",
       "<span class=\"tah p11 nv01\">\n",
       "\t\t\t\t-0.05%\n",
       "\t\t\t\t</span>\n",
       "</td>\n",
       "<td class=\"number_1\" style=\"padding-right:40px;\">244,226</td>\n",
       "<td class=\"number_1\" style=\"padding-right:30px;\">5,262,759</td>\n",
       "</tr>\n",
       "<tr>\n",
       "<td class=\"date\">2022.04.04</td>\n",
       "<td class=\"number_1\">364.94</td>\n",
       "<td class=\"rate_down\" style=\"padding-right:35px;\">\n",
       "<img alt=\"상승\" height=\"6\" src=\"https://ssl.pstatic.net/imgstock/images/images4/ico_up.gif\" style=\"margin-right:4px;\" width=\"7\"/><span class=\"tah p11 red02\">\n",
       "\t\t\t\t1.75\n",
       "\t\t\t\t</span>\n",
       "</td>\n",
       "<td class=\"number_1\">\n",
       "<span class=\"tah p11 red01\">\n",
       "\t\t\t\t+0.48%\n",
       "\t\t\t\t</span>\n",
       "</td>\n",
       "<td class=\"number_1\" style=\"padding-right:40px;\">171,554</td>\n",
       "<td class=\"number_1\" style=\"padding-right:30px;\">5,298,139</td>\n",
       "</tr>\n",
       "<tr>\n",
       "<td class=\"date\">2022.04.01</td>\n",
       "<td class=\"number_1\">363.19</td>\n",
       "<td class=\"rate_down\" style=\"padding-right:35px;\">\n",
       "<img alt=\"하락\" height=\"6\" src=\"https://ssl.pstatic.net/imgstock/images/images4/ico_down.gif\" style=\"margin-right:4px;\" width=\"7\"/><span class=\"tah p11 nv01\">\n",
       "\t\t\t\t2.42\n",
       "\t\t\t\t</span>\n",
       "</td>\n",
       "<td class=\"number_1\">\n",
       "<span class=\"tah p11 nv01\">\n",
       "\t\t\t\t-0.66%\n",
       "\t\t\t\t</span>\n",
       "</td>\n",
       "<td class=\"number_1\" style=\"padding-right:40px;\">446,847</td>\n",
       "<td class=\"number_1\" style=\"padding-right:30px;\">7,196,628</td>\n",
       "</tr>\n",
       "<tr><td class=\"blank_09\" colspan=\"6\"></td></tr>\n",
       "<tr><td class=\"division_line\" colspan=\"6\"></td></tr>\n",
       "</table>\n",
       "<!--- 페이지 네비게이션 시작--->\n",
       "<table align=\"center\" class=\"Nnavi\" summary=\"페이지 네비게이션 리스트\">\n",
       "<caption>페이지 네비게이션</caption>\n",
       "<tr>\n",
       "<td class=\"on\">\n",
       "<a href=\"/sise/sise_index_day.nhn?code=KPI200&amp;page=1\">1</a>\n",
       "</td>\n",
       "<td>\n",
       "<a href=\"/sise/sise_index_day.nhn?code=KPI200&amp;page=2\">2</a>\n",
       "</td>\n",
       "<td>\n",
       "<a href=\"/sise/sise_index_day.nhn?code=KPI200&amp;page=3\">3</a>\n",
       "</td>\n",
       "<td>\n",
       "<a href=\"/sise/sise_index_day.nhn?code=KPI200&amp;page=4\">4</a>\n",
       "</td>\n",
       "<td>\n",
       "<a href=\"/sise/sise_index_day.nhn?code=KPI200&amp;page=5\">5</a>\n",
       "</td>\n",
       "<td>\n",
       "<a href=\"/sise/sise_index_day.nhn?code=KPI200&amp;page=6\">6</a>\n",
       "</td>\n",
       "<td>\n",
       "<a href=\"/sise/sise_index_day.nhn?code=KPI200&amp;page=7\">7</a>\n",
       "</td>\n",
       "<td>\n",
       "<a href=\"/sise/sise_index_day.nhn?code=KPI200&amp;page=8\">8</a>\n",
       "</td>\n",
       "<td>\n",
       "<a href=\"/sise/sise_index_day.nhn?code=KPI200&amp;page=9\">9</a>\n",
       "</td>\n",
       "<td>\n",
       "<a href=\"/sise/sise_index_day.nhn?code=KPI200&amp;page=10\">10</a>\n",
       "</td>\n",
       "<td class=\"pgR\">\n",
       "<a href=\"/sise/sise_index_day.nhn?code=KPI200&amp;page=11\">\n",
       "\t\t\t\t다음<img alt=\"\" border=\"0\" height=\"5\" src=\"https://ssl.pstatic.net/static/n/cmn/bu_pgarR.gif\" width=\"3\"/>\n",
       "</a>\n",
       "</td>\n",
       "<td class=\"pgRR\">\n",
       "<a href=\"/sise/sise_index_day.nhn?code=KPI200&amp;page=670\">맨뒤\n",
       "\t\t\t\t<img alt=\"\" border=\"0\" height=\"5\" src=\"https://ssl.pstatic.net/static/n/cmn/bu_pgarRR.gif\" width=\"8\"/>\n",
       "</a>\n",
       "</td>\n",
       "</tr>\n",
       "</table>\n",
       "<!--- 페이지 네비게이션 끝--->\n",
       "</div>\n",
       "<!-- //일별시세 -->\n",
       "<script type=\"text/javascript\">\n",
       "    ;(function(){\n",
       "        var eventType = \"onpageshow\" in window ? \"pageshow\" : \"load\";\n",
       "        jindo.$Fn(function(){\n",
       "            lcs_do();\n",
       "        }).attach(window, eventType);\n",
       "    })();\n",
       "</script>\n",
       "</body>\n",
       "</html>"
      ]
     },
     "execution_count": 6,
     "metadata": {},
     "output_type": "execute_result"
    }
   ],
   "source": [
    "import bs4\n",
    "source = bs4.BeautifulSoup(source, 'lxml')\n",
    "source"
   ]
  },
  {
   "cell_type": "code",
   "execution_count": 7,
   "metadata": {},
   "outputs": [
    {
     "name": "stdout",
     "output_type": "stream",
     "text": [
      "<html lang=\"ko\">\n",
      " <head>\n",
      "  <meta content=\"text/html; charset=utf-8\" http-equiv=\"Content-Type\"/>\n",
      "  <title>\n",
      "   네이버 금융\n",
      "  </title>\n",
      "  <link href=\"https://ssl.pstatic.net/imgstock/static.pc/20220407160311/css/newstock.css\" rel=\"stylesheet\" type=\"text/css\"/>\n",
      "  <link href=\"https://ssl.pstatic.net/imgstock/static.pc/20220407160311/css/common.css\" rel=\"stylesheet\" type=\"text/css\"/>\n",
      "  <link href=\"https://ssl.pstatic.net/imgstock/static.pc/20220407160311/css/layout.css\" rel=\"stylesheet\" type=\"text/css\"/>\n",
      "  <link href=\"https://ssl.pstatic.net/imgstock/static.pc/20220407160311/css/main.css\" rel=\"stylesheet\" type=\"text/css\"/>\n",
      "  <link href=\"https://ssl.pstatic.net/imgstock/static.pc/20220407160311/css/newstock2.css\" rel=\"stylesheet\" type=\"text/css\"/>\n",
      "  <link href=\"https://ssl.pstatic.net/imgstock/static.pc/20220407160311/css/newstock3.css\" rel=\"stylesheet\" type=\"text/css\"/>\n",
      "  <link href=\"https://ssl.pstatic.net/imgstock/static.pc/20220407160311/css/world.css\" rel=\"stylesheet\" type=\"text/css\"/>\n",
      " </head>\n",
      " <body>\n",
      "  <script src=\"https://ssl.pstatic.net/imgstock/static.pc/20220407160311/js/jindo.min.ns.1.5.3.euckr.js\" type=\"text/javascript\">\n",
      "  </script>\n",
      "  <script src=\"https://ssl.pstatic.net/imgstock/static.pc/20220407160311/js/lcslog.js\" type=\"text/javascript\">\n",
      "  </script>\n",
      "  <!-- 일별시세 -->\n",
      "  <div class=\"box_type_m\">\n",
      "   <h4 class=\"top_tlt\" style=\"text-align:left;\">\n",
      "    <em>\n",
      "     일별\n",
      "    </em>\n",
      "    시세\n",
      "   </h4>\n",
      "   <table cellpadding=\"0\" cellspacing=\"0\" class=\"type_1\" summary=\"일별 시세표:날짜에 따른 체결가 전일비 등락률 거래량 거래대금 정보를 제공합니다.\">\n",
      "    <caption>\n",
      "     일별시세\n",
      "    </caption>\n",
      "    <col width=\"15%\"/>\n",
      "    <col width=\"14%\"/>\n",
      "    <col width=\"18%\"/>\n",
      "    <col width=\"14%\"/>\n",
      "    <col width=\"*\"/>\n",
      "    <col width=\"18%\"/>\n",
      "    <tr>\n",
      "     <th>\n",
      "      날짜\n",
      "     </th>\n",
      "     <th>\n",
      "      체결가\n",
      "     </th>\n",
      "     <th>\n",
      "      전일비\n",
      "     </th>\n",
      "     <th>\n",
      "      등락률\n",
      "     </th>\n",
      "     <th>\n",
      "      거래량\n",
      "      <span class=\"add_txt\">\n",
      "       (천주)\n",
      "      </span>\n",
      "     </th>\n",
      "     <th>\n",
      "      거래대금\n",
      "      <span class=\"add_txt\">\n",
      "       (백만)\n",
      "      </span>\n",
      "     </th>\n",
      "    </tr>\n",
      "    <tr>\n",
      "     <td class=\"blank_07\" colspan=\"6\">\n",
      "     </td>\n",
      "    </tr>\n",
      "    <tr>\n",
      "     <td class=\"date\">\n",
      "      2022.04.08\n",
      "     </td>\n",
      "     <td class=\"number_1\">\n",
      "      356.01\n",
      "     </td>\n",
      "     <td class=\"rate_down\" style=\"padding-right:35px;\">\n",
      "      <img alt=\"상승\" height=\"6\" src=\"https://ssl.pstatic.net/imgstock/images/images4/ico_up.gif\" style=\"margin-right:4px;\" width=\"7\"/>\n",
      "      <span class=\"tah p11 red02\">\n",
      "       0.28\n",
      "      </span>\n",
      "     </td>\n",
      "     <td class=\"number_1\">\n",
      "      <span class=\"tah p11 red01\">\n",
      "       +0.08%\n",
      "      </span>\n",
      "     </td>\n",
      "     <td class=\"number_1\" style=\"padding-right:40px;\">\n",
      "      166,111\n",
      "     </td>\n",
      "     <td class=\"number_1\" style=\"padding-right:30px;\">\n",
      "      6,737,531\n",
      "     </td>\n",
      "    </tr>\n",
      "    <tr>\n",
      "     <td class=\"date\">\n",
      "      2022.04.07\n",
      "     </td>\n",
      "     <td class=\"number_1\">\n",
      "      355.73\n",
      "     </td>\n",
      "     <td class=\"rate_down\" style=\"padding-right:35px;\">\n",
      "      <img alt=\"하락\" height=\"6\" src=\"https://ssl.pstatic.net/imgstock/images/images4/ico_down.gif\" style=\"margin-right:4px;\" width=\"7\"/>\n",
      "      <span class=\"tah p11 nv01\">\n",
      "       5.28\n",
      "      </span>\n",
      "     </td>\n",
      "     <td class=\"number_1\">\n",
      "      <span class=\"tah p11 nv01\">\n",
      "       -1.46%\n",
      "      </span>\n",
      "     </td>\n",
      "     <td class=\"number_1\" style=\"padding-right:40px;\">\n",
      "      193,937\n",
      "     </td>\n",
      "     <td class=\"number_1\" style=\"padding-right:30px;\">\n",
      "      7,704,972\n",
      "     </td>\n",
      "    </tr>\n",
      "    <tr>\n",
      "     <td class=\"date\">\n",
      "      2022.04.06\n",
      "     </td>\n",
      "     <td class=\"number_1\">\n",
      "      361.01\n",
      "     </td>\n",
      "     <td class=\"rate_down\" style=\"padding-right:35px;\">\n",
      "      <img alt=\"하락\" height=\"6\" src=\"https://ssl.pstatic.net/imgstock/images/images4/ico_down.gif\" style=\"margin-right:4px;\" width=\"7\"/>\n",
      "      <span class=\"tah p11 nv01\">\n",
      "       3.73\n",
      "      </span>\n",
      "     </td>\n",
      "     <td class=\"number_1\">\n",
      "      <span class=\"tah p11 nv01\">\n",
      "       -1.02%\n",
      "      </span>\n",
      "     </td>\n",
      "     <td class=\"number_1\" style=\"padding-right:40px;\">\n",
      "      176,510\n",
      "     </td>\n",
      "     <td class=\"number_1\" style=\"padding-right:30px;\">\n",
      "      6,512,785\n",
      "     </td>\n",
      "    </tr>\n",
      "    <tr>\n",
      "     <td class=\"blank_08\" colspan=\"6\">\n",
      "     </td>\n",
      "    </tr>\n",
      "    <tr>\n",
      "     <td class=\"division_line\" colspan=\"6\">\n",
      "     </td>\n",
      "    </tr>\n",
      "    <tr>\n",
      "     <td class=\"blank_08\" colspan=\"6\">\n",
      "     </td>\n",
      "    </tr>\n",
      "    <tr>\n",
      "    </tr>\n",
      "    <tr>\n",
      "     <td class=\"date\">\n",
      "      2022.04.05\n",
      "     </td>\n",
      "     <td class=\"number_1\">\n",
      "      364.74\n",
      "     </td>\n",
      "     <td class=\"rate_down\" style=\"padding-right:35px;\">\n",
      "      <img alt=\"하락\" height=\"6\" src=\"https://ssl.pstatic.net/imgstock/images/images4/ico_down.gif\" style=\"margin-right:4px;\" width=\"7\"/>\n",
      "      <span class=\"tah p11 nv01\">\n",
      "       0.20\n",
      "      </span>\n",
      "     </td>\n",
      "     <td class=\"number_1\">\n",
      "      <span class=\"tah p11 nv01\">\n",
      "       -0.05%\n",
      "      </span>\n",
      "     </td>\n",
      "     <td class=\"number_1\" style=\"padding-right:40px;\">\n",
      "      244,226\n",
      "     </td>\n",
      "     <td class=\"number_1\" style=\"padding-right:30px;\">\n",
      "      5,262,759\n",
      "     </td>\n",
      "    </tr>\n",
      "    <tr>\n",
      "     <td class=\"date\">\n",
      "      2022.04.04\n",
      "     </td>\n",
      "     <td class=\"number_1\">\n",
      "      364.94\n",
      "     </td>\n",
      "     <td class=\"rate_down\" style=\"padding-right:35px;\">\n",
      "      <img alt=\"상승\" height=\"6\" src=\"https://ssl.pstatic.net/imgstock/images/images4/ico_up.gif\" style=\"margin-right:4px;\" width=\"7\"/>\n",
      "      <span class=\"tah p11 red02\">\n",
      "       1.75\n",
      "      </span>\n",
      "     </td>\n",
      "     <td class=\"number_1\">\n",
      "      <span class=\"tah p11 red01\">\n",
      "       +0.48%\n",
      "      </span>\n",
      "     </td>\n",
      "     <td class=\"number_1\" style=\"padding-right:40px;\">\n",
      "      171,554\n",
      "     </td>\n",
      "     <td class=\"number_1\" style=\"padding-right:30px;\">\n",
      "      5,298,139\n",
      "     </td>\n",
      "    </tr>\n",
      "    <tr>\n",
      "     <td class=\"date\">\n",
      "      2022.04.01\n",
      "     </td>\n",
      "     <td class=\"number_1\">\n",
      "      363.19\n",
      "     </td>\n",
      "     <td class=\"rate_down\" style=\"padding-right:35px;\">\n",
      "      <img alt=\"하락\" height=\"6\" src=\"https://ssl.pstatic.net/imgstock/images/images4/ico_down.gif\" style=\"margin-right:4px;\" width=\"7\"/>\n",
      "      <span class=\"tah p11 nv01\">\n",
      "       2.42\n",
      "      </span>\n",
      "     </td>\n",
      "     <td class=\"number_1\">\n",
      "      <span class=\"tah p11 nv01\">\n",
      "       -0.66%\n",
      "      </span>\n",
      "     </td>\n",
      "     <td class=\"number_1\" style=\"padding-right:40px;\">\n",
      "      446,847\n",
      "     </td>\n",
      "     <td class=\"number_1\" style=\"padding-right:30px;\">\n",
      "      7,196,628\n",
      "     </td>\n",
      "    </tr>\n",
      "    <tr>\n",
      "     <td class=\"blank_09\" colspan=\"6\">\n",
      "     </td>\n",
      "    </tr>\n",
      "    <tr>\n",
      "     <td class=\"division_line\" colspan=\"6\">\n",
      "     </td>\n",
      "    </tr>\n",
      "   </table>\n",
      "   <!--- 페이지 네비게이션 시작--->\n",
      "   <table align=\"center\" class=\"Nnavi\" summary=\"페이지 네비게이션 리스트\">\n",
      "    <caption>\n",
      "     페이지 네비게이션\n",
      "    </caption>\n",
      "    <tr>\n",
      "     <td class=\"on\">\n",
      "      <a href=\"/sise/sise_index_day.nhn?code=KPI200&amp;page=1\">\n",
      "       1\n",
      "      </a>\n",
      "     </td>\n",
      "     <td>\n",
      "      <a href=\"/sise/sise_index_day.nhn?code=KPI200&amp;page=2\">\n",
      "       2\n",
      "      </a>\n",
      "     </td>\n",
      "     <td>\n",
      "      <a href=\"/sise/sise_index_day.nhn?code=KPI200&amp;page=3\">\n",
      "       3\n",
      "      </a>\n",
      "     </td>\n",
      "     <td>\n",
      "      <a href=\"/sise/sise_index_day.nhn?code=KPI200&amp;page=4\">\n",
      "       4\n",
      "      </a>\n",
      "     </td>\n",
      "     <td>\n",
      "      <a href=\"/sise/sise_index_day.nhn?code=KPI200&amp;page=5\">\n",
      "       5\n",
      "      </a>\n",
      "     </td>\n",
      "     <td>\n",
      "      <a href=\"/sise/sise_index_day.nhn?code=KPI200&amp;page=6\">\n",
      "       6\n",
      "      </a>\n",
      "     </td>\n",
      "     <td>\n",
      "      <a href=\"/sise/sise_index_day.nhn?code=KPI200&amp;page=7\">\n",
      "       7\n",
      "      </a>\n",
      "     </td>\n",
      "     <td>\n",
      "      <a href=\"/sise/sise_index_day.nhn?code=KPI200&amp;page=8\">\n",
      "       8\n",
      "      </a>\n",
      "     </td>\n",
      "     <td>\n",
      "      <a href=\"/sise/sise_index_day.nhn?code=KPI200&amp;page=9\">\n",
      "       9\n",
      "      </a>\n",
      "     </td>\n",
      "     <td>\n",
      "      <a href=\"/sise/sise_index_day.nhn?code=KPI200&amp;page=10\">\n",
      "       10\n",
      "      </a>\n",
      "     </td>\n",
      "     <td class=\"pgR\">\n",
      "      <a href=\"/sise/sise_index_day.nhn?code=KPI200&amp;page=11\">\n",
      "       다음\n",
      "       <img alt=\"\" border=\"0\" height=\"5\" src=\"https://ssl.pstatic.net/static/n/cmn/bu_pgarR.gif\" width=\"3\"/>\n",
      "      </a>\n",
      "     </td>\n",
      "     <td class=\"pgRR\">\n",
      "      <a href=\"/sise/sise_index_day.nhn?code=KPI200&amp;page=670\">\n",
      "       맨뒤\n",
      "       <img alt=\"\" border=\"0\" height=\"5\" src=\"https://ssl.pstatic.net/static/n/cmn/bu_pgarRR.gif\" width=\"8\"/>\n",
      "      </a>\n",
      "     </td>\n",
      "    </tr>\n",
      "   </table>\n",
      "   <!--- 페이지 네비게이션 끝--->\n",
      "  </div>\n",
      "  <!-- //일별시세 -->\n",
      "  <script type=\"text/javascript\">\n",
      "   ;(function(){\n",
      "        var eventType = \"onpageshow\" in window ? \"pageshow\" : \"load\";\n",
      "        jindo.$Fn(function(){\n",
      "            lcs_do();\n",
      "        }).attach(window, eventType);\n",
      "    })();\n",
      "  </script>\n",
      " </body>\n",
      "</html>\n"
     ]
    }
   ],
   "source": [
    "print(source.prettify())"
   ]
  },
  {
   "cell_type": "code",
   "execution_count": 8,
   "metadata": {},
   "outputs": [
    {
     "data": {
      "text/plain": [
       "54"
      ]
     },
     "execution_count": 8,
     "metadata": {},
     "output_type": "execute_result"
    }
   ],
   "source": [
    "td = source.find_all('td')\n",
    "len(td)"
   ]
  },
  {
   "cell_type": "markdown",
   "metadata": {},
   "source": [
    "날짜 추출"
   ]
  },
  {
   "cell_type": "code",
   "execution_count": 9,
   "metadata": {},
   "outputs": [
    {
     "data": {
      "text/plain": [
       "<td class=\"date\">2022.04.08</td>"
      ]
     },
     "execution_count": 9,
     "metadata": {},
     "output_type": "execute_result"
    }
   ],
   "source": [
    "# /html/body/div/table[1]/tbody/tr[3]/td[1]\n",
    "source.find_all('table')[0].find_all('tr')[2].find_all('td')[0]"
   ]
  },
  {
   "cell_type": "code",
   "execution_count": 10,
   "metadata": {},
   "outputs": [
    {
     "data": {
      "text/plain": [
       "'2022.04.08'"
      ]
     },
     "execution_count": 10,
     "metadata": {},
     "output_type": "execute_result"
    }
   ],
   "source": [
    "d = source.find_all('td', class_='date')[0].text\n",
    "d"
   ]
  },
  {
   "cell_type": "code",
   "execution_count": 11,
   "metadata": {},
   "outputs": [],
   "source": [
    "import datetime as dt"
   ]
  },
  {
   "cell_type": "code",
   "execution_count": 12,
   "metadata": {},
   "outputs": [
    {
     "data": {
      "text/plain": [
       "datetime.date(2022, 4, 8)"
      ]
     },
     "execution_count": 12,
     "metadata": {},
     "output_type": "execute_result"
    }
   ],
   "source": [
    "yyyy = int(d.split('.')[0]) \n",
    "mm = int(d.split('.')[1])\n",
    "dd = int(d.split('.')[2])\n",
    "\n",
    "this_date= dt.date(yyyy, mm, dd)\n",
    "this_date"
   ]
  },
  {
   "cell_type": "markdown",
   "metadata": {},
   "source": [
    "날짜정보를  date 타입으로 변경하는 함수 정의"
   ]
  },
  {
   "cell_type": "code",
   "execution_count": 13,
   "metadata": {},
   "outputs": [],
   "source": [
    "def date_format(d):\n",
    "    d = str(d).replace('-', '.')\n",
    "    \n",
    "    yyyy = int(d.split('.')[0]) \n",
    "    mm = int(d.split('.')[1])\n",
    "    dd = int(d.split('.')[2])\n",
    "\n",
    "    this_date= dt.date(yyyy, mm, dd)\n",
    "    return this_date"
   ]
  },
  {
   "cell_type": "markdown",
   "metadata": {},
   "source": [
    "종가 추출"
   ]
  },
  {
   "cell_type": "code",
   "execution_count": 14,
   "metadata": {},
   "outputs": [
    {
     "data": {
      "text/plain": [
       "'356.01'"
      ]
     },
     "execution_count": 14,
     "metadata": {},
     "output_type": "execute_result"
    }
   ],
   "source": [
    "# /html/body/div/table[1]/tbody/tr[3]/td[2]\n",
    "this_close = source.find_all('table')[0].find_all('tr')[2].find_all('td')[1].text\n",
    "this_close"
   ]
  },
  {
   "cell_type": "code",
   "execution_count": 15,
   "metadata": {
    "scrolled": false
   },
   "outputs": [
    {
     "data": {
      "text/plain": [
       "356.01"
      ]
     },
     "execution_count": 15,
     "metadata": {},
     "output_type": "execute_result"
    }
   ],
   "source": [
    "this_close = this_close.replace(',', '') # 쉼표(,) 제거 \n",
    "this_close = float(this_close)\n",
    "this_close"
   ]
  },
  {
   "cell_type": "code",
   "execution_count": 16,
   "metadata": {},
   "outputs": [
    {
     "data": {
      "text/plain": [
       "'356.01'"
      ]
     },
     "execution_count": 16,
     "metadata": {},
     "output_type": "execute_result"
    }
   ],
   "source": [
    "p = source.find_all('td', class_='number_1')[0].text\n",
    "p"
   ]
  },
  {
   "cell_type": "markdown",
   "metadata": {},
   "source": [
    "페이지 상의 날짜와 종가정보 전체 추출"
   ]
  },
  {
   "cell_type": "code",
   "execution_count": 17,
   "metadata": {},
   "outputs": [],
   "source": [
    "dates = source.find_all('td', class_='date')\n",
    "prices = source.find_all('td', class_='number_1')"
   ]
  },
  {
   "cell_type": "code",
   "execution_count": 18,
   "metadata": {},
   "outputs": [
    {
     "data": {
      "text/plain": [
       "6"
      ]
     },
     "execution_count": 18,
     "metadata": {},
     "output_type": "execute_result"
    }
   ],
   "source": [
    "len(dates)"
   ]
  },
  {
   "cell_type": "code",
   "execution_count": 19,
   "metadata": {},
   "outputs": [
    {
     "data": {
      "text/plain": [
       "24"
      ]
     },
     "execution_count": 19,
     "metadata": {},
     "output_type": "execute_result"
    }
   ],
   "source": [
    "len(prices)"
   ]
  },
  {
   "cell_type": "code",
   "execution_count": 20,
   "metadata": {},
   "outputs": [],
   "source": [
    "for n in range(len(dates)):\n",
    "    dates[n].text"
   ]
  },
  {
   "cell_type": "code",
   "execution_count": 21,
   "metadata": {},
   "outputs": [
    {
     "name": "stdout",
     "output_type": "stream",
     "text": [
      "2022-04-08 356.01\n",
      "2022-04-07 355.73\n",
      "2022-04-06 361.01\n",
      "2022-04-05 364.74\n",
      "2022-04-04 364.94\n",
      "2022-04-01 363.19\n"
     ]
    }
   ],
   "source": [
    "for n in range(len(dates)): # dates 개수만큼 반복   0~5\n",
    "    this_date = dates[n].text # n번째 dates 값 추출\n",
    "    this_date = date_format(this_date) # 날짜 형식으로 변환\n",
    "    \n",
    "    this_close = prices[n*4].text \n",
    "    # 0, 4, 8, ... 4의 배수로 돌아가는 가격 추출\n",
    "    this_close = this_close.replace(',', '') # 쉼표(,) 제거\n",
    "    this_close = float(this_close) # 숫자 형식으로 변환\n",
    "    this_close\n",
    "    \n",
    "    print(this_date, this_close)"
   ]
  },
  {
   "cell_type": "markdown",
   "metadata": {},
   "source": [
    "마지막 페이지 번호 찾기"
   ]
  },
  {
   "cell_type": "code",
   "execution_count": 22,
   "metadata": {},
   "outputs": [],
   "source": [
    "# /html/body/div/table[2]/tbody/tr/td[7]/a\n",
    "\n",
    "# <a href=\"/sise/sise_index_day.naver?code=KPI200&amp;page=662\">662</a> "
   ]
  },
  {
   "cell_type": "code",
   "execution_count": 23,
   "metadata": {
    "scrolled": true
   },
   "outputs": [
    {
     "data": {
      "text/plain": [
       "'/sise/sise_index_day.nhn?code=KPI200&page=670'"
      ]
     },
     "execution_count": 23,
     "metadata": {},
     "output_type": "execute_result"
    }
   ],
   "source": [
    "paging = source.find('td', class_='pgRR').find('a')['href']\n",
    "paging"
   ]
  },
  {
   "cell_type": "code",
   "execution_count": 24,
   "metadata": {},
   "outputs": [
    {
     "data": {
      "text/plain": [
       "['/sise/sise_index_day.nhn?code=KPI200', 'page=670']"
      ]
     },
     "execution_count": 24,
     "metadata": {},
     "output_type": "execute_result"
    }
   ],
   "source": [
    "paging.split('&')"
   ]
  },
  {
   "cell_type": "code",
   "execution_count": 25,
   "metadata": {},
   "outputs": [
    {
     "data": {
      "text/plain": [
       "'page=670'"
      ]
     },
     "execution_count": 25,
     "metadata": {},
     "output_type": "execute_result"
    }
   ],
   "source": [
    "paging = paging.split('&')[1]\n",
    "paging"
   ]
  },
  {
   "cell_type": "code",
   "execution_count": 26,
   "metadata": {},
   "outputs": [
    {
     "data": {
      "text/plain": [
       "'670'"
      ]
     },
     "execution_count": 26,
     "metadata": {},
     "output_type": "execute_result"
    }
   ],
   "source": [
    "paging = paging.split('=')[1]\n",
    "paging"
   ]
  },
  {
   "cell_type": "code",
   "execution_count": 27,
   "metadata": {},
   "outputs": [],
   "source": [
    "last_page = source.find('td', class_='pgRR').find('a')['href']\n",
    "last_page = last_page.split('&')[1]\n",
    "last_page = last_page.split('=')[1]\n",
    "last_page = int(last_page) # 페이지 번호를 숫자 형식 (정수)으로 변환"
   ]
  },
  {
   "cell_type": "code",
   "execution_count": 28,
   "metadata": {},
   "outputs": [
    {
     "data": {
      "text/plain": [
       "True"
      ]
     },
     "execution_count": 28,
     "metadata": {},
     "output_type": "execute_result"
    }
   ],
   "source": [
    "# dates[n].text.split('.')[0].isdigit()\n",
    "\n",
    "dates[0].text.split('.')[0].isdigit()"
   ]
  },
  {
   "cell_type": "code",
   "execution_count": 29,
   "metadata": {
    "scrolled": true
   },
   "outputs": [
    {
     "name": "stdout",
     "output_type": "stream",
     "text": [
      "<td class=\"date\">2022.04.08</td>\n",
      "2022.04.08\n",
      "['2022', '04', '08']\n",
      "2022\n",
      "True\n"
     ]
    }
   ],
   "source": [
    "print(dates[0])\n",
    "print(dates[0].text)\n",
    "print(dates[0].text.split('.'))\n",
    "print(dates[0].text.split('.')[0])\n",
    "print(dates[0].text.split('.')[0].isdigit())"
   ]
  },
  {
   "cell_type": "markdown",
   "metadata": {},
   "source": [
    "네이버에서 일자별 인덱스를 추출하는 함수 정의"
   ]
  },
  {
   "cell_type": "code",
   "execution_count": 30,
   "metadata": {},
   "outputs": [],
   "source": [
    "def historical_index_naver(index_cd, start_date='', end_date='', page_n=1, last_page=0):\n",
    "    \n",
    "    if start_date:   # start_date가 있으면\n",
    "        start_date = date_format(start_date)   # date 포맷으로 변환\n",
    "    else:    # 없으면\n",
    "        start_date = dt.date.today()   # 오늘 날짜를 지정\n",
    "    if end_date:   \n",
    "        end_date = date_format(end_date)   \n",
    "    else:   \n",
    "        end_date = dt.date.today()  \n",
    "        \n",
    "        \n",
    "    naver_index = 'http://finance.naver.com/sise/sise_index_day.nhn?code=' + index_cd + '&page=' + str(page_n)\n",
    "    \n",
    "    source = urlopen(naver_index).read()   # 지정한 페이지에서 코드 읽기\n",
    "    source = bs4.BeautifulSoup(source, 'lxml')   # 뷰티풀 스프로 태그별로 코드 분류\n",
    "    \n",
    "    dates = source.find_all('td', class_='date')   # <td class=\"date\">태그에서 날짜 수집   \n",
    "    prices = source.find_all('td', class_='number_1')   # <td class=\"number_1\">태그에서 지수 수집\n",
    "    \n",
    "    for n in range(len(dates)):\n",
    "    \n",
    "        if dates[n].text.split('.')[0].isdigit():\n",
    "            \n",
    "            # 날짜 처리\n",
    "            this_date = dates[n].text\n",
    "            this_date= date_format(this_date)\n",
    "            \n",
    "            if this_date <= end_date and this_date >= start_date:   # start<=this<=end\n",
    "            # start_date와 end_date 사이에서 데이터 저장\n",
    "                # 종가 처리\n",
    "                this_close = prices[n*4].text   # prices 중 종가지수인 0,4,8,...번째 데이터 추출\n",
    "                this_close = this_close.replace(',', '')\n",
    "                this_close = float(this_close)\n",
    "\n",
    "                # 딕셔너리에 저장\n",
    "                historical_prices[this_date] = this_close\n",
    "                \n",
    "            elif this_date < start_date:\n",
    "            # start_date 이전이면 함수 종료\n",
    "                return historical_prices              \n",
    "            \n",
    "    # 페이지 네비게이션\n",
    "    if last_page == 0:\n",
    "        last_page = source.find('td', class_='pgRR').find('a')['href']\n",
    "        # 마지막페이지 주소 추출\n",
    "        last_page = last_page.split('&')[1]   # & 뒤의 page=506 부분 추출\n",
    "        last_page = last_page.split('=')[1]   # = 뒤의 페이지번호만 추출\n",
    "        last_page = int(last_page)   # 숫자형 변수로 변환\n",
    "        \n",
    "    # 다음 페이지 호출\n",
    "    if page_n < last_page:   # 3페이지 < 670페이지\n",
    "        page_n = page_n + 1 \n",
    "        historical_index_naver(index_cd, start_date, end_date, page_n, last_page)   \n",
    "        \n",
    "    return historical_prices  "
   ]
  },
  {
   "cell_type": "code",
   "execution_count": 31,
   "metadata": {},
   "outputs": [
    {
     "data": {
      "text/plain": [
       "{datetime.date(2021, 12, 30): 394.19,\n",
       " datetime.date(2021, 12, 29): 396.72,\n",
       " datetime.date(2021, 12, 28): 401.21,\n",
       " datetime.date(2021, 12, 27): 398.61,\n",
       " datetime.date(2021, 12, 24): 400.53,\n",
       " datetime.date(2021, 12, 23): 398.15,\n",
       " datetime.date(2021, 12, 22): 396.07,\n",
       " datetime.date(2021, 12, 21): 393.95,\n",
       " datetime.date(2021, 12, 20): 391.37,\n",
       " datetime.date(2021, 12, 17): 398.96,\n",
       " datetime.date(2021, 12, 16): 397.68,\n",
       " datetime.date(2021, 12, 15): 395.66,\n",
       " datetime.date(2021, 12, 14): 395.41,\n",
       " datetime.date(2021, 12, 13): 397.27,\n",
       " datetime.date(2021, 12, 10): 397.97,\n",
       " datetime.date(2021, 12, 9): 401.13,\n",
       " datetime.date(2021, 12, 8): 397.27,\n",
       " datetime.date(2021, 12, 7): 396.31,\n",
       " datetime.date(2021, 12, 6): 392.85,\n",
       " datetime.date(2021, 12, 3): 391.96,\n",
       " datetime.date(2021, 12, 2): 389.64,\n",
       " datetime.date(2021, 12, 1): 383.13,\n",
       " datetime.date(2021, 11, 30): 373.24,\n",
       " datetime.date(2021, 11, 29): 381.63,\n",
       " datetime.date(2021, 11, 26): 385.07,\n",
       " datetime.date(2021, 11, 25): 391.93,\n",
       " datetime.date(2021, 11, 24): 395.4,\n",
       " datetime.date(2021, 11, 23): 396.44,\n",
       " datetime.date(2021, 11, 22): 399.07,\n",
       " datetime.date(2021, 11, 19): 390.53,\n",
       " datetime.date(2021, 11, 18): 387.44,\n",
       " datetime.date(2021, 11, 17): 389.44,\n",
       " datetime.date(2021, 11, 16): 394.07,\n",
       " datetime.date(2021, 11, 15): 394.36,\n",
       " datetime.date(2021, 11, 12): 390.38,\n",
       " datetime.date(2021, 11, 11): 385.97,\n",
       " datetime.date(2021, 11, 10): 386.24,\n",
       " datetime.date(2021, 11, 9): 390.36,\n",
       " datetime.date(2021, 11, 8): 389.59,\n",
       " datetime.date(2021, 11, 5): 389.86,\n",
       " datetime.date(2021, 11, 4): 391.54,\n",
       " datetime.date(2021, 11, 3): 389.48,\n",
       " datetime.date(2021, 11, 2): 394.82,\n",
       " datetime.date(2021, 11, 1): 389.81,\n",
       " datetime.date(2021, 10, 29): 388.47,\n",
       " datetime.date(2021, 10, 28): 393.89,\n",
       " datetime.date(2021, 10, 27): 395.48,\n",
       " datetime.date(2021, 10, 26): 399.07,\n",
       " datetime.date(2021, 10, 25): 395.01,\n",
       " datetime.date(2021, 10, 22): 393.34,\n",
       " datetime.date(2021, 10, 21): 393.18,\n",
       " datetime.date(2021, 10, 20): 393.74,\n",
       " datetime.date(2021, 10, 19): 395.41,\n",
       " datetime.date(2021, 10, 18): 392.02,\n",
       " datetime.date(2021, 10, 15): 393.19,\n",
       " datetime.date(2021, 10, 14): 389.59,\n",
       " datetime.date(2021, 10, 13): 384.1,\n",
       " datetime.date(2021, 10, 12): 380.69,\n",
       " datetime.date(2021, 10, 8): 387.42,\n",
       " datetime.date(2021, 10, 7): 388.14,\n",
       " datetime.date(2021, 10, 6): 381.93,\n",
       " datetime.date(2021, 10, 5): 388.01,\n",
       " datetime.date(2021, 10, 1): 394.79,\n",
       " datetime.date(2021, 9, 30): 401.3,\n",
       " datetime.date(2021, 9, 29): 400.09,\n",
       " datetime.date(2021, 9, 28): 406.2,\n",
       " datetime.date(2021, 9, 27): 410.97,\n",
       " datetime.date(2021, 9, 24): 409.84,\n",
       " datetime.date(2021, 9, 23): 410.46,\n",
       " datetime.date(2021, 9, 17): 410.99,\n",
       " datetime.date(2021, 9, 16): 409.22,\n",
       " datetime.date(2021, 9, 15): 412.85,\n",
       " datetime.date(2021, 9, 14): 412.36,\n",
       " datetime.date(2021, 9, 13): 409.7,\n",
       " datetime.date(2021, 9, 10): 408.7,\n",
       " datetime.date(2021, 9, 9): 407.28,\n",
       " datetime.date(2021, 9, 8): 414.54,\n",
       " datetime.date(2021, 9, 7): 417.8,\n",
       " datetime.date(2021, 9, 6): 420.37,\n",
       " datetime.date(2021, 9, 3): 419.22,\n",
       " datetime.date(2021, 9, 2): 415.89,\n",
       " datetime.date(2021, 9, 1): 419.92,\n",
       " datetime.date(2021, 8, 31): 419.79,\n",
       " datetime.date(2021, 8, 30): 411.5,\n",
       " datetime.date(2021, 8, 27): 410.24,\n",
       " datetime.date(2021, 8, 26): 410.38,\n",
       " datetime.date(2021, 8, 25): 413.95,\n",
       " datetime.date(2021, 8, 24): 412.48,\n",
       " datetime.date(2021, 8, 23): 404.58,\n",
       " datetime.date(2021, 8, 20): 400.78,\n",
       " datetime.date(2021, 8, 19): 404.96,\n",
       " datetime.date(2021, 8, 18): 413.36,\n",
       " datetime.date(2021, 8, 17): 411.31,\n",
       " datetime.date(2021, 8, 13): 416.06,\n",
       " datetime.date(2021, 8, 12): 422.38,\n",
       " datetime.date(2021, 8, 11): 424.74,\n",
       " datetime.date(2021, 8, 10): 428.56,\n",
       " datetime.date(2021, 8, 9): 431.65,\n",
       " datetime.date(2021, 8, 6): 433.29,\n",
       " datetime.date(2021, 8, 5): 434.74,\n",
       " datetime.date(2021, 8, 4): 436.05,\n",
       " datetime.date(2021, 8, 3): 429.98,\n",
       " datetime.date(2021, 8, 2): 426.79,\n",
       " datetime.date(2021, 7, 30): 423.91,\n",
       " datetime.date(2021, 7, 29): 429.49,\n",
       " datetime.date(2021, 7, 28): 429.15,\n",
       " datetime.date(2021, 7, 27): 428.22,\n",
       " datetime.date(2021, 7, 26): 427.47,\n",
       " datetime.date(2021, 7, 23): 431.55,\n",
       " datetime.date(2021, 7, 22): 431.38,\n",
       " datetime.date(2021, 7, 21): 426.0,\n",
       " datetime.date(2021, 7, 20): 428.55,\n",
       " datetime.date(2021, 7, 19): 429.89,\n",
       " datetime.date(2021, 7, 16): 434.82,\n",
       " datetime.date(2021, 7, 15): 436.76,\n",
       " datetime.date(2021, 7, 14): 433.57,\n",
       " datetime.date(2021, 7, 13): 434.71,\n",
       " datetime.date(2021, 7, 12): 431.28,\n",
       " datetime.date(2021, 7, 9): 427.84,\n",
       " datetime.date(2021, 7, 8): 432.63,\n",
       " datetime.date(2021, 7, 7): 436.97,\n",
       " datetime.date(2021, 7, 6): 439.5,\n",
       " datetime.date(2021, 7, 5): 437.66,\n",
       " datetime.date(2021, 7, 2): 436.0,\n",
       " datetime.date(2021, 7, 1): 436.34,\n",
       " datetime.date(2021, 6, 30): 438.84,\n",
       " datetime.date(2021, 6, 29): 437.54,\n",
       " datetime.date(2021, 6, 28): 439.98,\n",
       " datetime.date(2021, 6, 25): 440.4,\n",
       " datetime.date(2021, 6, 24): 438.38,\n",
       " datetime.date(2021, 6, 23): 436.73,\n",
       " datetime.date(2021, 6, 22): 434.42,\n",
       " datetime.date(2021, 6, 21): 431.46,\n",
       " datetime.date(2021, 6, 18): 435.02,\n",
       " datetime.date(2021, 6, 17): 434.73,\n",
       " datetime.date(2021, 6, 16): 436.96,\n",
       " datetime.date(2021, 6, 15): 434.13,\n",
       " datetime.date(2021, 6, 14): 433.22,\n",
       " datetime.date(2021, 6, 11): 432.78,\n",
       " datetime.date(2021, 6, 10): 429.35,\n",
       " datetime.date(2021, 6, 9): 428.16,\n",
       " datetime.date(2021, 6, 8): 432.88,\n",
       " datetime.date(2021, 6, 7): 433.26,\n",
       " datetime.date(2021, 6, 4): 432.22,\n",
       " datetime.date(2021, 6, 3): 433.87,\n",
       " datetime.date(2021, 6, 2): 430.15,\n",
       " datetime.date(2021, 6, 1): 430.32,\n",
       " datetime.date(2021, 5, 31): 427.91,\n",
       " datetime.date(2021, 5, 28): 425.95,\n",
       " datetime.date(2021, 5, 27): 423.0,\n",
       " datetime.date(2021, 5, 26): 423.54,\n",
       " datetime.date(2021, 5, 25): 424.35,\n",
       " datetime.date(2021, 5, 24): 420.57,\n",
       " datetime.date(2021, 5, 21): 422.08,\n",
       " datetime.date(2021, 5, 20): 421.68,\n",
       " datetime.date(2021, 5, 18): 423.09,\n",
       " datetime.date(2021, 5, 17): 418.27,\n",
       " datetime.date(2021, 5, 14): 420.17,\n",
       " datetime.date(2021, 5, 13): 416.07,\n",
       " datetime.date(2021, 5, 12): 421.86,\n",
       " datetime.date(2021, 5, 11): 428.77,\n",
       " datetime.date(2021, 5, 10): 435.63,\n",
       " datetime.date(2021, 5, 7): 428.56,\n",
       " datetime.date(2021, 5, 6): 426.64,\n",
       " datetime.date(2021, 5, 4): 423.57,\n",
       " datetime.date(2021, 5, 3): 420.36,\n",
       " datetime.date(2021, 4, 30): 422.36,\n",
       " datetime.date(2021, 4, 29): 426.28,\n",
       " datetime.date(2021, 4, 28): 427.48,\n",
       " datetime.date(2021, 4, 27): 432.14,\n",
       " datetime.date(2021, 4, 26): 432.36,\n",
       " datetime.date(2021, 4, 23): 428.34,\n",
       " datetime.date(2021, 4, 22): 427.37,\n",
       " datetime.date(2021, 4, 21): 426.75,\n",
       " datetime.date(2021, 4, 20): 434.6,\n",
       " datetime.date(2021, 4, 19): 431.96,\n",
       " datetime.date(2021, 4, 16): 432.43,\n",
       " datetime.date(2021, 4, 15): 432.66,\n",
       " datetime.date(2021, 4, 14): 430.71,\n",
       " datetime.date(2021, 4, 13): 429.08,\n",
       " datetime.date(2021, 4, 12): 424.22,\n",
       " datetime.date(2021, 4, 9): 424.3,\n",
       " datetime.date(2021, 4, 8): 426.86,\n",
       " datetime.date(2021, 4, 7): 426.7,\n",
       " datetime.date(2021, 4, 6): 425.88,\n",
       " datetime.date(2021, 4, 5): 424.85,\n",
       " datetime.date(2021, 4, 2): 423.74,\n",
       " datetime.date(2021, 4, 1): 419.42,\n",
       " datetime.date(2021, 3, 31): 415.04,\n",
       " datetime.date(2021, 3, 30): 416.61,\n",
       " datetime.date(2021, 3, 29): 412.05,\n",
       " datetime.date(2021, 3, 26): 412.89,\n",
       " datetime.date(2021, 3, 25): 408.53,\n",
       " datetime.date(2021, 3, 24): 407.1,\n",
       " datetime.date(2021, 3, 23): 408.71,\n",
       " datetime.date(2021, 3, 22): 412.64,\n",
       " datetime.date(2021, 3, 19): 412.91,\n",
       " datetime.date(2021, 3, 18): 417.06,\n",
       " datetime.date(2021, 3, 17): 414.01,\n",
       " datetime.date(2021, 3, 16): 417.31,\n",
       " datetime.date(2021, 3, 15): 414.18,\n",
       " datetime.date(2021, 3, 12): 416.13,\n",
       " datetime.date(2021, 3, 11): 411.02,\n",
       " datetime.date(2021, 3, 10): 403.48,\n",
       " datetime.date(2021, 3, 9): 405.79,\n",
       " datetime.date(2021, 3, 8): 408.34,\n",
       " datetime.date(2021, 3, 5): 412.0,\n",
       " datetime.date(2021, 3, 4): 414.17,\n",
       " datetime.date(2021, 3, 3): 420.27,\n",
       " datetime.date(2021, 3, 2): 414.8,\n",
       " datetime.date(2021, 2, 26): 409.91,\n",
       " datetime.date(2021, 2, 25): 422.52,\n",
       " datetime.date(2021, 2, 24): 407.16,\n",
       " datetime.date(2021, 2, 23): 415.82,\n",
       " datetime.date(2021, 2, 22): 416.88,\n",
       " datetime.date(2021, 2, 19): 420.94,\n",
       " datetime.date(2021, 2, 18): 417.44,\n",
       " datetime.date(2021, 2, 17): 424.2,\n",
       " datetime.date(2021, 2, 16): 429.24,\n",
       " datetime.date(2021, 2, 15): 427.01,\n",
       " datetime.date(2021, 2, 10): 419.65,\n",
       " datetime.date(2021, 2, 9): 417.91,\n",
       " datetime.date(2021, 2, 8): 418.95,\n",
       " datetime.date(2021, 2, 5): 423.3,\n",
       " datetime.date(2021, 2, 4): 418.31,\n",
       " datetime.date(2021, 2, 3): 425.21,\n",
       " datetime.date(2021, 2, 2): 421.03,\n",
       " datetime.date(2021, 2, 1): 415.45,\n",
       " datetime.date(2021, 1, 29): 404.56,\n",
       " datetime.date(2021, 1, 28): 416.4,\n",
       " datetime.date(2021, 1, 27): 423.67,\n",
       " datetime.date(2021, 1, 26): 426.73,\n",
       " datetime.date(2021, 1, 25): 437.3,\n",
       " datetime.date(2021, 1, 22): 427.13,\n",
       " datetime.date(2021, 1, 21): 430.27,\n",
       " datetime.date(2021, 1, 20): 424.01,\n",
       " datetime.date(2021, 1, 19): 421.35,\n",
       " datetime.date(2021, 1, 18): 410.5,\n",
       " datetime.date(2021, 1, 15): 420.43,\n",
       " datetime.date(2021, 1, 14): 429.85,\n",
       " datetime.date(2021, 1, 13): 430.38,\n",
       " datetime.date(2021, 1, 12): 427.87,\n",
       " datetime.date(2021, 1, 11): 431.13,\n",
       " datetime.date(2021, 1, 8): 430.22,\n",
       " datetime.date(2021, 1, 7): 410.81,\n",
       " datetime.date(2021, 1, 6): 402.08,\n",
       " datetime.date(2021, 1, 5): 406.03,\n",
       " datetime.date(2021, 1, 4): 399.88}"
      ]
     },
     "execution_count": 31,
     "metadata": {},
     "output_type": "execute_result"
    }
   ],
   "source": [
    "index_cd = 'KPI200'\n",
    "historical_prices = dict()\n",
    "historical_index_naver(index_cd, '2021-1-1', '2021-12-31')\n",
    "historical_prices"
   ]
  },
  {
   "cell_type": "code",
   "execution_count": 32,
   "metadata": {},
   "outputs": [],
   "source": [
    "import pandas as pd"
   ]
  },
  {
   "cell_type": "code",
   "execution_count": 33,
   "metadata": {},
   "outputs": [
    {
     "data": {
      "text/html": [
       "<div>\n",
       "<style scoped>\n",
       "    .dataframe tbody tr th:only-of-type {\n",
       "        vertical-align: middle;\n",
       "    }\n",
       "\n",
       "    .dataframe tbody tr th {\n",
       "        vertical-align: top;\n",
       "    }\n",
       "\n",
       "    .dataframe thead th {\n",
       "        text-align: right;\n",
       "    }\n",
       "</style>\n",
       "<table border=\"1\" class=\"dataframe\">\n",
       "  <thead>\n",
       "    <tr style=\"text-align: right;\">\n",
       "      <th></th>\n",
       "      <th>K200</th>\n",
       "    </tr>\n",
       "  </thead>\n",
       "  <tbody>\n",
       "    <tr>\n",
       "      <th>2021-01-04</th>\n",
       "      <td>399.88</td>\n",
       "    </tr>\n",
       "    <tr>\n",
       "      <th>2021-01-05</th>\n",
       "      <td>406.03</td>\n",
       "    </tr>\n",
       "    <tr>\n",
       "      <th>2021-01-06</th>\n",
       "      <td>402.08</td>\n",
       "    </tr>\n",
       "  </tbody>\n",
       "</table>\n",
       "</div>"
      ],
      "text/plain": [
       "              K200\n",
       "2021-01-04  399.88\n",
       "2021-01-05  406.03\n",
       "2021-01-06  402.08"
      ]
     },
     "execution_count": 33,
     "metadata": {},
     "output_type": "execute_result"
    }
   ],
   "source": [
    "kospi200 = historical_prices\n",
    "k200 = pd.DataFrame({'K200' : kospi200})\n",
    "k200.head(3)"
   ]
  },
  {
   "cell_type": "code",
   "execution_count": 34,
   "metadata": {},
   "outputs": [
    {
     "ename": "ModuleNotFoundError",
     "evalue": "No module named 'matplotlib'",
     "output_type": "error",
     "traceback": [
      "\u001b[1;31m---------------------------------------------------------------------------\u001b[0m",
      "\u001b[1;31mModuleNotFoundError\u001b[0m                       Traceback (most recent call last)",
      "\u001b[1;32mc:\\Users\\김무현\\Desktop\\3학년 1학기\\Y-FoRM\\코딩세션\\파썬세션1\\파이썬 세션 1 - 03.ipynb Cell 38'\u001b[0m in \u001b[0;36m<cell line: 1>\u001b[1;34m()\u001b[0m\n\u001b[1;32m----> <a href='vscode-notebook-cell:/c%3A/Users/%EA%B9%80%EB%AC%B4%ED%98%84/Desktop/3%ED%95%99%EB%85%84%201%ED%95%99%EA%B8%B0/Y-FoRM/%EC%BD%94%EB%94%A9%EC%84%B8%EC%85%98/%ED%8C%8C%EC%8D%AC%EC%84%B8%EC%85%981/%ED%8C%8C%EC%9D%B4%EC%8D%AC%20%EC%84%B8%EC%85%98%201%20-%2003.ipynb#ch0000037?line=0'>1</a>\u001b[0m \u001b[39mimport\u001b[39;00m \u001b[39mmatplotlib\u001b[39;00m\u001b[39m.\u001b[39;00m\u001b[39mpyplot\u001b[39;00m \u001b[39mas\u001b[39;00m \u001b[39mplt\u001b[39;00m\n\u001b[0;32m      <a href='vscode-notebook-cell:/c%3A/Users/%EA%B9%80%EB%AC%B4%ED%98%84/Desktop/3%ED%95%99%EB%85%84%201%ED%95%99%EA%B8%B0/Y-FoRM/%EC%BD%94%EB%94%A9%EC%84%B8%EC%85%98/%ED%8C%8C%EC%8D%AC%EC%84%B8%EC%85%981/%ED%8C%8C%EC%9D%B4%EC%8D%AC%20%EC%84%B8%EC%85%98%201%20-%2003.ipynb#ch0000037?line=1'>2</a>\u001b[0m get_ipython()\u001b[39m.\u001b[39mrun_line_magic(\u001b[39m'\u001b[39m\u001b[39mmatplotlib\u001b[39m\u001b[39m'\u001b[39m, \u001b[39m'\u001b[39m\u001b[39minline\u001b[39m\u001b[39m'\u001b[39m)\n",
      "\u001b[1;31mModuleNotFoundError\u001b[0m: No module named 'matplotlib'"
     ]
    }
   ],
   "source": [
    "import matplotlib.pyplot as plt\n",
    "%matplotlib inline"
   ]
  },
  {
   "cell_type": "code",
   "execution_count": null,
   "metadata": {
    "scrolled": true
   },
   "outputs": [
    {
     "data": {
      "image/png": "[encoded data removed]",
      "text/plain": [
       "<Figure size 720x360 with 1 Axes>"
      ]
     },
     "metadata": {
      "needs_background": "light"
     },
     "output_type": "display_data"
    }
   ],
   "source": [
    "plt.figure(figsize=(10, 5))\n",
    "plt.plot(k200['K200'])\n",
    "plt.grid(True, color='0.7', linestyle=':', linewidth=1)"
   ]
  },
  {
   "cell_type": "code",
   "execution_count": null,
   "metadata": {},
   "outputs": [
    {
     "data": {
      "image/png": "[encoded data removed]",
      "text/plain": [
       "<Figure size 720x360 with 1 Axes>"
      ]
     },
     "metadata": {
      "needs_background": "light"
     },
     "output_type": "display_data"
    }
   ],
   "source": [
    "plt.figure(figsize=(10, 5))\n",
    "plt.plot(k200['K200']/k200['K200'][0]*100)\n",
    "plt.grid(True, color='0.7', linestyle=':', linewidth=1)"
   ]
  }
 ],
 "metadata": {
  "kernelspec": {
   "display_name": "Python 3",
   "language": "python",
   "name": "python3"
  },
  "language_info": {
   "codemirror_mode": {
    "name": "ipython",
    "version": 3
   },
   "file_extension": ".py",
   "mimetype": "text/x-python",
   "name": "python",
   "nbconvert_exporter": "python",
   "pygments_lexer": "ipython3",
   "version": "3.9.10"
  }
 },
 "nbformat": 4,
 "nbformat_minor": 4
}
