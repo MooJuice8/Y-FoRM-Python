{
 "cells": [
  {
   "cell_type": "markdown",
   "metadata": {},
   "source": [
    "31기 김무현 파이썬 1차 과제"
   ]
  },
  {
   "cell_type": "code",
   "execution_count": 2,
   "metadata": {},
   "outputs": [
    {
     "name": "stdout",
     "output_type": "stream",
     "text": [
      "\"오늘 날짜는 3월 20일입니다.\"\n"
     ]
    }
   ],
   "source": [
    "# 1. format  함수를  이용하여  다음의  결과를  프린트하세요.\n",
    "# “오늘  날짜는  3월  20일입니다.”\n",
    "month = 3\n",
    "day = 20\n",
    "f1 = '\"오늘 날짜는 {0}월 {1}일입니다.\"'.format(month, day)\n",
    "print(f1)"
   ]
  },
  {
   "cell_type": "code",
   "execution_count": 3,
   "metadata": {},
   "outputs": [
    {
     "name": "stdout",
     "output_type": "stream",
     "text": [
      "[1, 3, 6, 7, 10, 15, 23, 33, 68]\n",
      "5\n"
     ]
    }
   ],
   "source": [
    "# 2. 다음의  리스트를  (a)오름차순으로  정렬한  후,  (b)  오름차순으로  정렬된  리스트에서  15의  인덱스를  구하세요. (中) \"\"\"\n",
    "# [7, 10, 6, 3, 1, 15, 33, 68, 23]\n",
    "A = list([7, 10, 6, 3, 1, 15, 33, 68, 23])\n",
    "B = sorted(A)\n",
    "print(B)\n",
    "print(B.index(15))"
   ]
  },
  {
   "cell_type": "code",
   "execution_count": 22,
   "metadata": {},
   "outputs": [
    {
     "name": "stdout",
     "output_type": "stream",
     "text": [
      "25 2\n",
      "Life is short. Use Cython\n",
      "['Life', 'is', 'short.', 'Use', 'Python']\n"
     ]
    }
   ],
   "source": [
    "# 3.  문자열  Operation을  이용하여 ‘Life is short. Use Python’ \n",
    "# a.  위  문자열의  길이,  알파벳  e가  나온  횟수를  구하고  각각을  프린트하세요. \n",
    "# b.  위  문자열에서  알파벳  P를  C로  바꾼  결과를  프린트하세요. \n",
    "# c.  위  문자열을  빈칸을  기준으로  나누어서  리스트로  나타내고  그  결과를  프린트하세요.\n",
    "C = 'Life is short. Use Python'\n",
    "print(len(C), C.count(\"e\"))\n",
    "print(C.replace('P','C'))\n",
    "D = C.split()\n",
    "print(D)"
   ]
  },
  {
   "cell_type": "code",
   "execution_count": 38,
   "metadata": {},
   "outputs": [
    {
     "name": "stdout",
     "output_type": "stream",
     "text": [
      "80.0\n",
      "6.324555320336759\n"
     ]
    }
   ],
   "source": [
    "# 4. A학급에  총  10명의  학생이  있다.  이  학생들의  중간고사  점수는  다음과  같습니다. (中) \n",
    "# [70, 60, 55, 75, 95, 90, 80, 80, 95, 100] \n",
    "# a. for문을  이용하여  A학급의  평균  점수를  구하여  프린트하세요. \n",
    "# b. for문을  이용하여  표준편차를  구하고  프린트하세요. \n",
    "import math\n",
    "classA = [70, 60, 55, 75, 95, 90, 80, 80, 95, 100]\n",
    "total = 0 \n",
    "for i in classA:\n",
    "    total += i\n",
    "meanA = total/len(classA)\n",
    "print(meanA)\n",
    "var = (i-meanA)**2 / len(classA)\n",
    "std = math.sqrt(var)\n",
    "print(std)\n"
   ]
  },
  {
   "cell_type": "code",
   "execution_count": 43,
   "metadata": {},
   "outputs": [
    {
     "name": "stdout",
     "output_type": "stream",
     "text": [
      "[2, 4, 4, 6, 6, 8, 8, 8, 10, 12, 12, 12, 14, 16, 16, 16, 18, 18, 20, 24, 24, 24, 28, 30, 32, 32, 36, 36, 40, 42, 48, 48, 54, 56, 64, 72]\n"
     ]
    }
   ],
   "source": [
    "# 5.  list  comprehension을  이용하여  구구단  중  짝수단의  모든  결과를  \n",
    "# 다음과  같이  한  리스트  안에 넣어서  프린트하세요. (2단, 4단, 6단, 8단) (上) \n",
    "# [2, 4, 6, 8, 10, 12, 14, 16, 18, 4, 8, 12, 16, 20, 24, 28, 32, 36, 6, 12, 18, 24, 30, 36, 42, 48, 54, 8, 16, 24, 32, 40, 48, 56, 64, 72]\n",
    "gugudan = [2, 4, 6, 8, 10, 12, 14, 16, 18, 4, 8, 12, 16, 20, 24, 28, 32, 36, 6, 12, 18, 24, 30, 36, 42, 48, 54, 8, 16, 24, 32, 40, 48, 56, 64, 72]\n",
    "result=[x for x in gugudan if x%2 == 0]\n",
    "print(sorted(result))"
   ]
  },
  {
   "cell_type": "code",
   "execution_count": 74,
   "metadata": {},
   "outputs": [
    {
     "name": "stdout",
     "output_type": "stream",
     "text": [
      "   *\n",
      "  ***\n",
      " *****\n",
      "*******\n",
      " *****\n",
      "  ***\n",
      "   *\n"
     ]
    }
   ],
   "source": [
    "# 6.  반복문과  제어문을  사용해서  다음  결과를  프린트하세요. (上) \n",
    "\"\"\"   * \n",
    "     *** \n",
    "    ***** \n",
    "   ******* \n",
    "    ***** \n",
    "     *** \n",
    "      *   \"\"\"\n",
    "n=4\n",
    "for i in range(0,n) :\n",
    "      for j in range(0,n-i-1) :\n",
    "            print(\" \", end='')\n",
    "      for k in range(0,2*i+1) :\n",
    "            print(\"*\", end='')\n",
    "      print()\n",
    "for i in range(n-1,0,-1) :\n",
    "      for j in range(n, i ,-1):\n",
    "            print(\" \", end='')\n",
    "      for k in range(2*i-1, 0, -1):\n",
    "            print(\"*\", end='')\n",
    "      print()"
   ]
  }
 ],
 "metadata": {
  "interpreter": {
   "hash": "dd848ee1f3aaa7b1ae82d58a96dfd7a123993ca137af321605d36aa453af5f9a"
  },
  "kernelspec": {
   "display_name": "Python 3.9.10 64-bit (system)",
   "language": "python",
   "name": "python3"
  },
  "language_info": {
   "codemirror_mode": {
    "name": "ipython",
    "version": 3
   },
   "file_extension": ".py",
   "mimetype": "text/x-python",
   "name": "python",
   "nbconvert_exporter": "python",
   "pygments_lexer": "ipython3",
   "version": "3.9.10"
  },
  "orig_nbformat": 4
 },
 "nbformat": 4,
 "nbformat_minor": 2
}
