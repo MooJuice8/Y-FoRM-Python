{
 "cells": [
  {
   "cell_type": "markdown",
   "metadata": {
    "id": "FCaV4D94V1ut",
    "tags": []
   },
   "source": [
    "# 파이썬 복습 세션\n",
    "세션에서 배운 내용을 파이썬으로 구현해보자!  \n",
    "  \n",
    "\n"
   ]
  },
  {
   "cell_type": "markdown",
   "metadata": {
    "id": "Tk7YOZP9WTUS"
   },
   "source": [
    "## 목차\n",
    "1. CAPM  \n",
    "2. Valuation\n",
    "3. RNP  "
   ]
  },
  {
   "cell_type": "markdown",
   "metadata": {
    "id": "_kEIgHVi-GVw"
   },
   "source": [
    "## 1. CAPM\n",
    "### 1-1. 간단한 모형으로 CML 그려보기\n",
    "시작 전 왼쪽 맨 아래의 파일 아이콘을 눌러 코랩 드라이브를 마운트 해주세요"
   ]
  },
  {
   "cell_type": "code",
   "execution_count": null,
   "metadata": {
    "colab": {
     "base_uri": "https://localhost:8080/"
    },
    "id": "lajvgwLAJ00C",
    "outputId": "506248ff-9cfc-4b0e-cd22-d51b395517cf"
   },
   "outputs": [],
   "source": [
    "!pip install --upgrade pandas-datareader"
   ]
  },
  {
   "cell_type": "code",
   "execution_count": null,
   "metadata": {
    "id": "0VOiXAmM-Eol"
   },
   "outputs": [],
   "source": [
    "#thx to financeandpython.com\n",
    "\n",
    "import matplotlib.pyplot as plt #import needed packages\n",
    "\n",
    "\n",
    "def CML(rf, rm, marketSD, label): #함수 정의\n",
    "  portfolioSD = [(marketSD*x)/25 for x in range(51)] #포트폴리오 표준편차\n",
    "  portfolioReturns = [rf+((rm - rf)/marketSD)*x for x in portfolioSD] #리스크프리미엄\n",
    "  plt.plot(portfolioSD, portfolioReturns, label=label)\n",
    "  plt.xlabel(\"Portfolio Standard Deviation\")\n",
    "  plt.ylabel(\"Portfolio Return\")\n",
    "  plt.title(\"Capital Market Line\")\n",
    "  plt.plot(marketSD, rm, \"ro\")"
   ]
  },
  {
   "cell_type": "code",
   "execution_count": null,
   "metadata": {
    "colab": {
     "base_uri": "https://localhost:8080/",
     "height": 295
    },
    "id": "ymR4IKkc7SIu",
    "outputId": "53ed9526-8d27-4dcf-f396-5b9b3e726832"
   },
   "outputs": [],
   "source": [
    "CML(.02, .08, .35,\"CML\")\n",
    "plt.legend()\n",
    "plt.show()"
   ]
  },
  {
   "cell_type": "code",
   "execution_count": null,
   "metadata": {
    "colab": {
     "base_uri": "https://localhost:8080/",
     "height": 295
    },
    "id": "6Dc3va1vDIB_",
    "outputId": "4b4419d5-e78e-47ec-8205-b771d0c2f21e"
   },
   "outputs": [],
   "source": [
    "#무위험이자율의 증가\n",
    "CML(.02, .08, .35,\"Original\")\n",
    "CML(.04, .08, .35,\"Riskfree Increase\")  #무위험이자율 2%p 증가\n",
    "plt.legend()\n",
    "plt.show()"
   ]
  },
  {
   "cell_type": "code",
   "execution_count": null,
   "metadata": {
    "colab": {
     "base_uri": "https://localhost:8080/",
     "height": 295
    },
    "id": "vKHo8IH8D0k3",
    "outputId": "1aa4e20a-f18b-46ce-aacb-75964747bbbf"
   },
   "outputs": [],
   "source": [
    "#시장이자율이 증가\n",
    "CML(.02, .08, .35,\"Original\")\n",
    "CML(.02, .10, .35,\"Market Increase\")  #시장이자율 2%p 증가\n",
    "plt.legend()\n",
    "plt.show()"
   ]
  },
  {
   "cell_type": "code",
   "execution_count": null,
   "metadata": {
    "colab": {
     "base_uri": "https://localhost:8080/",
     "height": 295
    },
    "id": "-4qA0aL7EXmY",
    "outputId": "1fbc9682-ca72-4559-89b7-1ff4541df114"
   },
   "outputs": [],
   "source": [
    "#두 이자율 모두 증가\n",
    "CML(.02, .08, .35,\"Original\")\n",
    "CML(.04, .10, .35,\"Increase\")  #모든 이자율 2%p 증가\n",
    "plt.legend()\n",
    "plt.show()"
   ]
  },
  {
   "cell_type": "markdown",
   "metadata": {
    "id": "OZRDDZvA7QFp"
   },
   "source": [
    "### 1-2. 데이터를 통해 실제 SML 그려보기"
   ]
  },
  {
   "cell_type": "code",
   "execution_count": null,
   "metadata": {
    "id": "MXaNeukwyqSF"
   },
   "outputs": [],
   "source": [
    "#박기영 교수님 화폐금융론 강의\n",
    "\n",
    "# import packages\n",
    "import pandas as pd\n",
    "import matplotlib.pyplot as plt\n",
    "import numpy as np\n",
    "\n",
    "%config InlineBackend.figure_format = 'retina'   # for retina display in Mac "
   ]
  },
  {
   "cell_type": "code",
   "execution_count": null,
   "metadata": {
    "id": "rLLGFyrzy1d0"
   },
   "outputs": [],
   "source": [
    "pd.set_option('display.precision', 3) #소수점 출력의 정밀도"
   ]
  },
  {
   "cell_type": "code",
   "execution_count": null,
   "metadata": {
    "colab": {
     "base_uri": "https://localhost:8080/",
     "height": 206
    },
    "id": "eK7PAsBUy4jp",
    "outputId": "6dedefef-42b3-4574-8ada-79259ec1fd06"
   },
   "outputs": [],
   "source": [
    "df = pd.read_csv('flatSML.csv') #외부 데이터 파일 가져오기\n",
    "df.head()"
   ]
  },
  {
   "cell_type": "code",
   "execution_count": null,
   "metadata": {
    "colab": {
     "base_uri": "https://localhost:8080/",
     "height": 368
    },
    "id": "Kz_bkcagzZP9",
    "outputId": "5071cc95-b654-41d0-dcda-2b3f5a8c1f74"
   },
   "outputs": [],
   "source": [
    "date = pd.date_range(start = '1990-01', end='2015-01',freq='M') #원하는 범위의 데이터만 월 단위로 지정\n",
    "df['date'] = date #가져온 데이터프레임에 지정한 날짜 배당\n",
    "df.set_index('date',inplace=True) #말 그대로 index 설정\n",
    "df.head()"
   ]
  },
  {
   "cell_type": "code",
   "execution_count": null,
   "metadata": {
    "colab": {
     "base_uri": "https://localhost:8080/"
    },
    "id": "DzfCNXoOzbpM",
    "outputId": "ff36845d-c2e0-4a42-b048-a92cc9786014"
   },
   "outputs": [],
   "source": [
    "Er_M = df['r_m'].mean() #시장이자율의 평균\n",
    "rf = df['r_f'].mean() #무위험이자율의 평균\n",
    "riskpremium = Er_M - rf #리스크 프리미엄\n",
    "print('average market return is {}'.format(Er_M))\n",
    "print('riskfree rate is {}'.format(rf))"
   ]
  },
  {
   "cell_type": "code",
   "execution_count": null,
   "metadata": {
    "colab": {
     "base_uri": "https://localhost:8080/",
     "height": 426
    },
    "id": "JPkcba7SzdAS",
    "outputId": "09257f49-59ee-4eec-e365-8d8af81c81ce"
   },
   "outputs": [],
   "source": [
    "summary = df.agg([np.mean, np.std]) #안에 들어있는 함수를 적용해서 계산\n",
    "summary = summary.T #transpose(다음 줄의 열 이름 지정을 위해)\n",
    "summary.columns = ['avg. returns','std']  #열 이름 지정\n",
    "summary"
   ]
  },
  {
   "cell_type": "code",
   "execution_count": null,
   "metadata": {
    "colab": {
     "base_uri": "https://localhost:8080/",
     "height": 426
    },
    "id": "3PyrJcl0ze_A",
    "outputId": "789d3f7a-d4d0-4ced-fd78-32134ecb010d"
   },
   "outputs": [],
   "source": [
    "summary['Sharpe ratio'] = (summary['avg. returns']-rf)/summary['std'] #새로운 열을 기존 열들에 대한 계산으로 지정\n",
    "summary"
   ]
  },
  {
   "cell_type": "code",
   "execution_count": null,
   "metadata": {
    "id": "o2eJhd54zj2F"
   },
   "outputs": [],
   "source": [
    "#베타값 계산\n",
    "\n",
    "storage_beta = []\n",
    "var_rM = df['r_m'].var() #시장이자율의 분산\n",
    "\n",
    "for col in df.columns:\n",
    "  covar = np.cov(df[col],df['r_m'])[0,1] #공분산\n",
    "  beta_estimate = covar/var_rM\n",
    "  storage_beta.append(beta_estimate)"
   ]
  },
  {
   "cell_type": "code",
   "execution_count": null,
   "metadata": {
    "colab": {
     "base_uri": "https://localhost:8080/"
    },
    "id": "G9bwNosIzmTN",
    "outputId": "d53aca40-1e9d-4ef3-c8fd-3c1f17add644"
   },
   "outputs": [],
   "source": [
    "storage_beta"
   ]
  },
  {
   "cell_type": "code",
   "execution_count": null,
   "metadata": {
    "id": "zSl3gcP2zoN9"
   },
   "outputs": [],
   "source": [
    "summary['beta'] = pd.Series(storage_beta, index=summary.index)  #열 지정을 통해 계산한 베타값을 기존 데이터프레임에 넣음"
   ]
  },
  {
   "cell_type": "code",
   "execution_count": null,
   "metadata": {
    "colab": {
     "base_uri": "https://localhost:8080/",
     "height": 273
    },
    "id": "PSX_PsREzo2f",
    "outputId": "f12d2d71-d982-46fc-e332-954d7b3d479d"
   },
   "outputs": [],
   "source": [
    "results = summary.T #뒤의 과정을 위한 트랜스포즈\n",
    "results"
   ]
  },
  {
   "cell_type": "code",
   "execution_count": null,
   "metadata": {
    "colab": {
     "base_uri": "https://localhost:8080/",
     "height": 363
    },
    "id": "PDv4Bo6YzqMN",
    "outputId": "61925428-87b5-4bdc-a362-b75e2cc2f0f0"
   },
   "outputs": [],
   "source": [
    "forgraph = summary[2:]  #summary의 3행(파이썬은 숫자를 0부터 셈!)부터 가져옴\n",
    "forgraph"
   ]
  },
  {
   "cell_type": "code",
   "execution_count": null,
   "metadata": {
    "colab": {
     "base_uri": "https://localhost:8080/",
     "height": 294
    },
    "id": "YL9yPCxozsEE",
    "outputId": "6f731455-22c9-4fda-e047-85396d6f4838"
   },
   "outputs": [],
   "source": [
    "xval = np.linspace(0,2,200)\n",
    "yval = rf + riskpremium*xval\n",
    "\n",
    "plt.plot(xval,yval)\n",
    "plt.scatter(forgraph['beta'],forgraph['avg. returns'])\n",
    "plt.grid()\n",
    "plt.title(\"flat SML\")\n",
    "plt.xlabel('estimated beta')\n",
    "plt.ylabel('annualized avg. returns')\n",
    "plt.show()"
   ]
  },
  {
   "cell_type": "markdown",
   "metadata": {
    "id": "iqE8Ojt8E2bR"
   },
   "source": [
    "### 3. Another way of CAPM\n",
    "특정 시점의 시장의 return과 특정 주식 종목의 return 사이의 관계   \n",
    "https://towardsai.net/p/l/capital-assets-pricing-model-capm%E2%80%8A-%E2%80%8Ausing-python"
   ]
  },
  {
   "cell_type": "code",
   "execution_count": null,
   "metadata": {
    "id": "3YiVut4PFhmM"
   },
   "outputs": [],
   "source": [
    "#thx to towardsai.net\n",
    "\n",
    "from scipy import stats\n",
    "import pandas as pd\n",
    "import pandas_datareader as web\n",
    "import datetime\n",
    "import matplotlib.pyplot as plt\n",
    "%matplotlib inline"
   ]
  },
  {
   "cell_type": "code",
   "execution_count": null,
   "metadata": {
    "id": "R8v0W-_lFvES"
   },
   "outputs": [],
   "source": [
    "#주가 정보 수집 기간 설정\n",
    "start = datetime.datetime(2020,1,1)\n",
    "end = datetime.datetime(2021,1,1)"
   ]
  },
  {
   "cell_type": "code",
   "execution_count": null,
   "metadata": {
    "colab": {
     "base_uri": "https://localhost:8080/",
     "height": 237
    },
    "id": "NIE6LsYjF1uM",
    "outputId": "2039870a-308b-4d04-bbd4-e4d968fdc484"
   },
   "outputs": [],
   "source": [
    "df_samsung = web.DataReader(\"005930.KS\",\"yahoo\",start,end) \n",
    "#야후 파이낸스에서 원하는 주가 정보를 가져올 수 있는 함수\n",
    "df_samsung.head()"
   ]
  },
  {
   "cell_type": "code",
   "execution_count": null,
   "metadata": {
    "colab": {
     "base_uri": "https://localhost:8080/",
     "height": 237
    },
    "id": "PMx7nBVoKSkR",
    "outputId": "5aaaf2b1-f525-4a08-adca-40ec83161d09"
   },
   "outputs": [],
   "source": [
    "df_gs = web.DataReader(\"078930.KS\",\"yahoo\",start,end)\n",
    "df_gs.head()"
   ]
  },
  {
   "cell_type": "code",
   "execution_count": null,
   "metadata": {
    "colab": {
     "base_uri": "https://localhost:8080/",
     "height": 490
    },
    "id": "5yt4MKPMLQB3",
    "outputId": "f1b0d596-dc5a-4dff-c95e-b10bc5d876ba"
   },
   "outputs": [],
   "source": [
    "df_samsung['Close'].plot(label = 'Samsung', figsize=(10,8)) #종가 그래프 그리기\n",
    "df_gs['Close'].plot(label = 'GS')\n",
    "plt.legend()"
   ]
  },
  {
   "cell_type": "code",
   "execution_count": null,
   "metadata": {
    "id": "mEEIOFVaO62j"
   },
   "outputs": [],
   "source": [
    "#종목의 첫날 종가에 대한 업다운\n",
    "\n",
    "df_samsung['Cumu'] = df_samsung['Close']/df_samsung['Close'].iloc[0] #iloc은 인덱스의 '위치'로 데이터 추출\n",
    "df_gs['Cumu'] = df_gs['Close']/df_gs['Close'].iloc[0]"
   ]
  },
  {
   "cell_type": "code",
   "execution_count": null,
   "metadata": {
    "colab": {
     "base_uri": "https://localhost:8080/",
     "height": 490
    },
    "id": "Q_kwe1gGPPuT",
    "outputId": "9fa90b86-babc-4248-d0fa-432d3d7610f6"
   },
   "outputs": [],
   "source": [
    "df_samsung['Cumu'].plot(label = 'Sansung', figsize=(10,8))\n",
    "df_gs['Cumu'].plot(label = 'GS')\n",
    "plt.legend()"
   ]
  },
  {
   "cell_type": "code",
   "execution_count": null,
   "metadata": {
    "colab": {
     "base_uri": "https://localhost:8080/",
     "height": 283
    },
    "id": "WY_nVB6SLdpq",
    "outputId": "405cd18a-f15b-4385-b0f4-b4b219013b4b"
   },
   "outputs": [],
   "source": [
    "df_samsung['daily_ret'] = df_samsung['Close'].pct_change()  #수익률 구하기\n",
    "df_gs['daily_ret'] = df_gs['Close'].pct_change()\n",
    "\n",
    "plt.scatter(df_samsung['daily_ret'],df_gs['daily_ret'])"
   ]
  },
  {
   "cell_type": "markdown",
   "metadata": {
    "id": "lAbrpQn_WxD0"
   },
   "source": [
    "## 2. Valuation - DCF Model  \n",
    "코드 출처: https://towardsdatascience.com/discounted-cash-flow-with-python-f5103921942e  \n",
    "  \n",
    "\n",
    "\n"
   ]
  },
  {
   "cell_type": "markdown",
   "metadata": {
    "id": "c_cETuIQ5diD"
   },
   "source": [
    "모델 구동에 앞서서 api키 발급을 위해  \n",
    "https://site.financialmodelingprep.com/  \n",
    "에 접속해서 회원가입 및 api키 발급을 완료합시다.  \n",
    "키 발급이 완료되면 demo변수에 지정해줄 것!  \n",
    "  \n",
    "  여기서 api키란?  \n",
    "  사이트에 접속하는 것을 문을 통해 방에 들어가는 것으로 비유한다면 열쇠가 필요한 문이 있기도 한데, 그 문의 열쇠 역할을 하는 코드  \n",
    "  공동사용 절대 안됨! (열쇠보다는 지문인식같은 느낌)"
   ]
  },
  {
   "cell_type": "code",
   "execution_count": null,
   "metadata": {
    "colab": {
     "base_uri": "https://localhost:8080/"
    },
    "id": "W-lV0OFMzwvq",
    "outputId": "f770b9cf-9360-432c-81a1-48672fa45a14"
   },
   "outputs": [],
   "source": [
    "#Estimating Future Revenue Growth\n",
    "#기업 정보 가져오기\n",
    "\n",
    "import requests\n",
    "import numpy as np\n",
    "import pandas as pd\n",
    "company = 'GOOG'\n",
    "demo = 'your api key' #api키는 여기에\n",
    "IS = requests.get(f'https://financialmodelingprep.com/api/v3/income-statement/{company}?apikey={demo}').json()\n",
    "print(IS)"
   ]
  },
  {
   "cell_type": "code",
   "execution_count": null,
   "metadata": {},
   "outputs": [],
   "source": [
    "count = 0\n",
    "\n",
    "#미래의 매출을 예측하기 위해 수익 성장 정보를 얻기\n",
    "revenue_g = [] #revenue를 담을 빈 list\n",
    "\n",
    "for item in IS:\n",
    "  if count < 4: #반복횟수\n",
    "    #print(item)\n",
    "    revenue_g.append(item['revenue'])  #저 위의 revenue 값을 빈 리스트에 추가\n",
    "    count += 1\n",
    "    \n",
    "revenue_g = (revenue_g[0] - revenue_g[1]) /revenue_g[0] #리스트를 기반으로 revebue 성장 구하기\n",
    "print(revenue_g)"
   ]
  },
  {
   "cell_type": "code",
   "execution_count": null,
   "metadata": {
    "colab": {
     "base_uri": "https://localhost:8080/"
    },
    "id": "b4CZx9-RBce4",
    "outputId": "ac553a57-bce7-4a8c-98bf-b4b67b6f1530"
   },
   "outputs": [],
   "source": [
    "#Income Statement(손익계산서), 대차대조표(Balance Sheet) 구하기\n",
    "\n",
    "#net income 구하기\n",
    "net_income = IS[0]['netIncome']\n",
    "BS = requests.get(f'https://financialmodelingprep.com/api/v3/balance-sheet-statement/{company}?apikey={demo}').json()\n",
    "\n",
    "#get income statement as % of revenue for future predictions and forecast 5 next IS years\n",
    "#손익계산서를 미래 예측에 대한 수익의 비율로 가죠와서 다음 5년을 예측함\n",
    "\n",
    "income_statement = pd.DataFrame.from_dict(IS[0],orient='index')  #첫 기의 데이터를 데이터프레임으로 만듦\n",
    "#The [7:31] below get rids of not needed items coming from the API\n",
    "income_statement = income_statement[7:31]\n",
    "\n",
    "income_statement.columns = ['current_year']\n",
    "print(income_statement)\n"
   ]
  },
  {
   "cell_type": "code",
   "execution_count": null,
   "metadata": {
    "id": "8BdAhT9OAZp-"
   },
   "outputs": [],
   "source": [
    "#위 표의 각 내용을 매출에 대한 비율로 표시\n",
    "income_statement['as_%_of_revenue'] = income_statement.iloc[1:].astype(float)  / float(income_statement.iloc[1])\n",
    "\n",
    "#forecasting 5 next years income statement\n",
    "#다음해 = 전년도 수익 * (1+수익성장률) * 수익에 대한 비율\n",
    "income_statement['next_year'] =  (income_statement['current_year']['revenue'] * (1+revenue_g)) * income_statement['as_%_of_revenue'] \n",
    "income_statement['next_2_year'] =  (income_statement['next_year']['revenue'] * (1+revenue_g)) * income_statement['as_%_of_revenue'] \n",
    "income_statement['next_3_year'] =  (income_statement['next_2_year']['revenue'] * (1+revenue_g)) * income_statement['as_%_of_revenue'] \n",
    "income_statement['next_4_year'] =  (income_statement['next_3_year']['revenue'] * (1+revenue_g)) * income_statement['as_%_of_revenue'] \n",
    "income_statement['next_5_year'] =  (income_statement['next_4_year']['revenue'] * (1+revenue_g)) * income_statement['as_%_of_revenue']"
   ]
  },
  {
   "cell_type": "code",
   "execution_count": null,
   "metadata": {},
   "outputs": [],
   "source": [
    "print(income_statement)"
   ]
  },
  {
   "cell_type": "code",
   "execution_count": null,
   "metadata": {},
   "outputs": [],
   "source": [
    "#Get Balance sheet as a percentage of revenue\n",
    "#아까 손익계산서랑 같은 과정\n",
    "balance_sheet = pd.DataFrame.from_dict(BS[0],orient='index')\n",
    "balance_sheet = balance_sheet[8:-2]\n",
    "balance_sheet.columns = ['current_year']\n",
    "\n",
    "print(balance_sheet)"
   ]
  },
  {
   "cell_type": "code",
   "execution_count": null,
   "metadata": {},
   "outputs": [],
   "source": [
    "print(float(income_statement['current_year'].iloc[1]))"
   ]
  },
  {
   "cell_type": "code",
   "execution_count": null,
   "metadata": {},
   "outputs": [],
   "source": [
    "#손익계산서랑 과정 같음\n",
    "\n",
    "balance_sheet['as_%_of_revenue'] = balance_sheet.iloc[3:].astype(float) / float(income_statement['current_year'].iloc[1])\n",
    "#대차대조표의 4행부터를 손익계산서의 current year의 revenue로 나눔\n",
    "\n",
    "#forecasting the next 5 years Balance Sheet.\n",
    "balance_sheet['next_year'] =  income_statement['next_year'] ['revenue'] * balance_sheet['as_%_of_revenue']\n",
    "balance_sheet['next_2_year'] =  income_statement['next_2_year'] ['revenue'] * balance_sheet['as_%_of_revenue']\n",
    "balance_sheet['next_3_year'] =  income_statement['next_3_year']['revenue'] * balance_sheet['as_%_of_revenue'] \n",
    "balance_sheet['next_4_year'] =  income_statement['next_4_year']['revenue']  * balance_sheet['as_%_of_revenue'] \n",
    "balance_sheet['next_5_year'] =  income_statement['next_5_year']['revenue'] * balance_sheet['as_%_of_revenue']"
   ]
  },
  {
   "cell_type": "code",
   "execution_count": null,
   "metadata": {},
   "outputs": [],
   "source": [
    "print(balance_sheet)"
   ]
  },
  {
   "cell_type": "code",
   "execution_count": null,
   "metadata": {},
   "outputs": [],
   "source": [
    "#Forecasting Future Cash Flow From Operations\n",
    "\n",
    "CF_forecast = {}\n",
    "CF_forecast['next_year'] = {}\n",
    "\n",
    "#순이익\n",
    "CF_forecast['next_year']['netIncome'] = income_statement['next_year']['netIncome']\n",
    "\n",
    "#감가상각\n",
    "CF_forecast['next_year']['inc_depreciation'] = income_statement['next_year']['depreciationAndAmortization'] - income_statement['current_year']['depreciationAndAmortization']\n",
    "\n",
    "#채권\n",
    "CF_forecast['next_year']['inc_receivables'] = balance_sheet['next_year']['netReceivables'] - balance_sheet['current_year']['netReceivables']\n",
    "\n",
    "#재고\n",
    "CF_forecast['next_year']['inc_inventory'] = balance_sheet['next_year']['inventory'] - balance_sheet['current_year']['inventory']\n",
    "\n",
    "#채무\n",
    "CF_forecast['next_year']['inc_payables'] = balance_sheet['next_year']['accountPayables'] - balance_sheet['current_year']['accountPayables']\n",
    "\n",
    "#영업활동 현금흐름\n",
    "CF_forecast['next_year']['CF_operations'] = CF_forecast['next_year']['netIncome'] + CF_forecast['next_year']['inc_depreciation'] + (CF_forecast['next_year']['inc_receivables'] * -1) + (CF_forecast['next_year']['inc_inventory'] *-1) + CF_forecast['next_year']['inc_payables']\n",
    "\n",
    "#자본적 지출\n",
    "CF_forecast['next_year']['CAPEX'] = balance_sheet['next_year']['propertyPlantEquipmentNet'] - balance_sheet['current_year']['propertyPlantEquipmentNet'] + income_statement['next_year']['depreciationAndAmortization']\n",
    "\n",
    "#잉여현금흐름\n",
    "CF_forecast['next_year']['FCF'] = CF_forecast['next_year']['CAPEX'] + CF_forecast['next_year']['CF_operations']"
   ]
  },
  {
   "cell_type": "code",
   "execution_count": null,
   "metadata": {
    "id": "LnlkpjOuG3wG"
   },
   "outputs": [],
   "source": [
    "#그 이후의 해도 이런 식으로 예측\n",
    "CF_forecast['next_2_year'] = {}\n",
    "CF_forecast['next_2_year']['netIncome'] = income_statement['next_2_year']['netIncome']\n",
    "CF_forecast['next_2_year']['inc_depreciation'] = income_statement['next_2_year']['depreciationAndAmortization'] - income_statement['next_year']['depreciationAndAmortization']\n",
    "CF_forecast['next_2_year']['inc_receivables'] = balance_sheet['next_2_year']['netReceivables'] - balance_sheet['next_year']['netReceivables']\n",
    "CF_forecast['next_2_year']['inc_inventory'] = balance_sheet['next_2_year']['inventory'] - balance_sheet['next_year']['inventory']\n",
    "CF_forecast['next_2_year']['inc_payables'] = balance_sheet['next_2_year']['accountPayables'] - balance_sheet['next_year']['accountPayables']\n",
    "CF_forecast['next_2_year']['CF_operations'] = CF_forecast['next_2_year']['netIncome'] + CF_forecast['next_2_year']['inc_depreciation'] + (CF_forecast['next_2_year']['inc_receivables'] * -1) + (CF_forecast['next_2_year']['inc_inventory'] *-1) + CF_forecast['next_2_year']['inc_payables']\n",
    "CF_forecast['next_2_year']['CAPEX'] = balance_sheet['next_2_year']['propertyPlantEquipmentNet'] - balance_sheet['next_year']['propertyPlantEquipmentNet'] + income_statement['next_2_year']['depreciationAndAmortization']\n",
    "CF_forecast['next_2_year']['FCF'] = CF_forecast['next_2_year']['CAPEX'] + CF_forecast['next_2_year']['CF_operations']\n",
    "CF_forecast['next_3_year'] = {}\n",
    "CF_forecast['next_3_year']['netIncome'] = income_statement['next_3_year']['netIncome']\n",
    "CF_forecast['next_3_year']['inc_depreciation'] = income_statement['next_3_year']['depreciationAndAmortization'] - income_statement['next_2_year']['depreciationAndAmortization']\n",
    "CF_forecast['next_3_year']['inc_receivables'] = balance_sheet['next_3_year']['netReceivables'] - balance_sheet['next_2_year']['netReceivables']\n",
    "CF_forecast['next_3_year']['inc_inventory'] = balance_sheet['next_3_year']['inventory'] - balance_sheet['next_2_year']['inventory']\n",
    "CF_forecast['next_3_year']['inc_payables'] = balance_sheet['next_3_year']['accountPayables'] - balance_sheet['next_2_year']['accountPayables']\n",
    "CF_forecast['next_3_year']['CF_operations'] = CF_forecast['next_3_year']['netIncome'] + CF_forecast['next_3_year']['inc_depreciation'] + (CF_forecast['next_3_year']['inc_receivables'] * -1) + (CF_forecast['next_3_year']['inc_inventory'] *-1) + CF_forecast['next_3_year']['inc_payables']\n",
    "CF_forecast['next_3_year']['CAPEX'] = balance_sheet['next_3_year']['propertyPlantEquipmentNet'] - balance_sheet['next_2_year']['propertyPlantEquipmentNet'] + income_statement['next_3_year']['depreciationAndAmortization']\n",
    "CF_forecast['next_3_year']['FCF'] = CF_forecast['next_3_year']['CAPEX'] + CF_forecast['next_3_year']['CF_operations']\n",
    "CF_forecast['next_4_year'] = {}\n",
    "CF_forecast['next_4_year']['netIncome'] = income_statement['next_4_year']['netIncome']\n",
    "CF_forecast['next_4_year']['inc_depreciation'] = income_statement['next_4_year']['depreciationAndAmortization'] - income_statement['next_3_year']['depreciationAndAmortization']\n",
    "CF_forecast['next_4_year']['inc_receivables'] = balance_sheet['next_4_year']['netReceivables'] - balance_sheet['next_3_year']['netReceivables']\n",
    "CF_forecast['next_4_year']['inc_inventory'] = balance_sheet['next_4_year']['inventory'] - balance_sheet['next_3_year']['inventory']\n",
    "CF_forecast['next_4_year']['inc_payables'] = balance_sheet['next_4_year']['accountPayables'] - balance_sheet['next_3_year']['accountPayables']\n",
    "CF_forecast['next_4_year']['CF_operations'] = CF_forecast['next_4_year']['netIncome'] + CF_forecast['next_4_year']['inc_depreciation'] + (CF_forecast['next_4_year']['inc_receivables'] * -1) + (CF_forecast['next_4_year']['inc_inventory'] *-1) + CF_forecast['next_4_year']['inc_payables']\n",
    "CF_forecast['next_4_year']['CAPEX'] = balance_sheet['next_4_year']['propertyPlantEquipmentNet'] - balance_sheet['next_3_year']['propertyPlantEquipmentNet'] + income_statement['next_4_year']['depreciationAndAmortization']\n",
    "CF_forecast['next_4_year']['FCF'] = CF_forecast['next_4_year']['CAPEX'] + CF_forecast['next_4_year']['CF_operations']\n",
    "CF_forecast['next_5_year'] = {}\n",
    "CF_forecast['next_5_year']['netIncome'] = income_statement['next_5_year']['netIncome']\n",
    "CF_forecast['next_5_year']['inc_depreciation'] = income_statement['next_5_year']['depreciationAndAmortization'] - income_statement['next_4_year']['depreciationAndAmortization']\n",
    "CF_forecast['next_5_year']['inc_receivables'] = balance_sheet['next_5_year']['netReceivables'] - balance_sheet['next_4_year']['netReceivables']\n",
    "CF_forecast['next_5_year']['inc_inventory'] = balance_sheet['next_5_year']['inventory'] - balance_sheet['next_4_year']['inventory']\n",
    "CF_forecast['next_5_year']['inc_payables'] = balance_sheet['next_5_year']['accountPayables'] - balance_sheet['next_4_year']['accountPayables']\n",
    "CF_forecast['next_5_year']['CF_operations'] = CF_forecast['next_5_year']['netIncome'] + CF_forecast['next_5_year']['inc_depreciation'] + (CF_forecast['next_5_year']['inc_receivables'] * -1) + (CF_forecast['next_5_year']['inc_inventory'] *-1) + CF_forecast['next_5_year']['inc_payables']\n",
    "CF_forecast['next_5_year']['CAPEX'] = balance_sheet['next_5_year']['propertyPlantEquipmentNet'] - balance_sheet['next_4_year']['propertyPlantEquipmentNet'] + income_statement['next_5_year']['depreciationAndAmortization']\n",
    "CF_forecast['next_5_year']['FCF'] = CF_forecast['next_5_year']['CAPEX'] + CF_forecast['next_5_year']['CF_operations']"
   ]
  },
  {
   "cell_type": "code",
   "execution_count": null,
   "metadata": {
    "colab": {
     "base_uri": "https://localhost:8080/"
    },
    "id": "mJw0XWeFG5Pc",
    "outputId": "1432949a-b94c-4472-f38b-1caaf7a12739"
   },
   "outputs": [],
   "source": [
    "#에측된 현금흐름을 Pandas로 바꿈\n",
    "\n",
    "#예측한 현금흐름을 Pandas DataFrame에 넣기\n",
    "CF_forec = pd.DataFrame.from_dict(CF_forecast,orient='columns')\n",
    "#add below option to format the dataframe with thousand separators\n",
    "pd.options.display.float_format = '{:,.0f}'.format\n",
    "print(CF_forec)"
   ]
  },
  {
   "cell_type": "code",
   "execution_count": null,
   "metadata": {
    "colab": {
     "base_uri": "https://localhost:8080/",
     "height": 136
    },
    "id": "iYLpDg7MHB5I",
    "outputId": "f54b94f6-a269-4274-d76d-0faa3b52f905"
   },
   "outputs": [],
   "source": [
    "#자본 가격 예측\n",
    "\n",
    "import pandas_datareader.data as web\n",
    "import datetime\n",
    "import requests\n",
    "\n",
    "company = 'GOOG'\n",
    "demo = 'your api key'  #여기에도 api키 입력!\n",
    "\n",
    "#wacc(가중평균자본비용): 기업의 총자본에 대한 평균조달비용\n",
    "#즉, 기업이 현재 보유 중인 사잔을 활용하여 자사의 주식가치를 유지하기 위해 벌어들여야 하는 수익률\n",
    "\n",
    "\n",
    "#Interest coverage ratio = EBIT / interest expenses\n",
    "def interest_coveraga_and_RF(company):\n",
    "  IS= requests.get(f'https://financialmodelingprep.com/api/v3/income-statement/{company}?apikey={demo}').json()\n",
    "  EBIT= IS[0]['ebitda'] - IS[0]['depreciationAndAmortization'] \n",
    "  interest_expense = IS[0]['interestExpense']\n",
    "  interest_coverage_ratio = EBIT / interest_expense\n",
    "#RF\n",
    "  start = datetime.datetime(2019, 7, 10)\n",
    "        \n",
    "  end = datetime.datetime(2020, 7, 10)\n",
    "  Treasury = web.DataReader(['TB1YR'], 'fred', start, end) #국채\n",
    "  RF = float(Treasury.iloc[-1])/100\n",
    "  return [RF,interest_coverage_ratio]\n",
    "  \n",
    "    \n",
    "#Cost of debt\n",
    "#신용등급에 따른 이자\n",
    "def cost_of_debt(company, RF,interest_coverage_ratio):\n",
    "  if interest_coverage_ratio > 8.5:\n",
    "    #Rating is AAA\n",
    "    credit_spread = 0.0063\n",
    "  if (interest_coverage_ratio > 6.5) & (interest_coverage_ratio <= 8.5):\n",
    "    #Rating is AA\n",
    "    credit_spread = 0.0078\n",
    "  if (interest_coverage_ratio > 5.5) & (interest_coverage_ratio <=  6.5):\n",
    "    #Rating is A+\n",
    "    credit_spread = 0.0098\n",
    "  if (interest_coverage_ratio > 4.25) & (interest_coverage_ratio <=  5.49):\n",
    "    #Rating is A\n",
    "    credit_spread = 0.0108\n",
    "  if (interest_coverage_ratio > 3) & (interest_coverage_ratio <=  4.25):\n",
    "    #Rating is A-\n",
    "    credit_spread = 0.0122\n",
    "  if (interest_coverage_ratio > 2.5) & (interest_coverage_ratio <=  3):\n",
    "    #Rating is BBB\n",
    "    credit_spread = 0.0156\n",
    "  if (interest_coverage_ratio > 2.25) & (interest_coverage_ratio <=  2.5):\n",
    "    #Rating is BB+\n",
    "    credit_spread = 0.02\n",
    "  if (interest_coverage_ratio > 2) & (interest_coverage_ratio <=  2.25):\n",
    "    #Rating is BB\n",
    "    credit_spread = 0.0240\n",
    "  if (interest_coverage_ratio > 1.75) & (interest_coverage_ratio <=  2):\n",
    "    #Rating is B+\n",
    "    credit_spread = 0.0351\n",
    "  if (interest_coverage_ratio > 1.5) & (interest_coverage_ratio <=  1.75):\n",
    "    #Rating is B\n",
    "    credit_spread = 0.0421\n",
    "  if (interest_coverage_ratio > 1.25) & (interest_coverage_ratio <=  1.5):\n",
    "    #Rating is B-\n",
    "    credit_spread = 0.0515\n",
    "  if (interest_coverage_ratio > 0.8) & (interest_coverage_ratio <=  1.25):\n",
    "    #Rating is CCC\n",
    "    credit_spread = 0.0820\n",
    "  if (interest_coverage_ratio > 0.65) & (interest_coverage_ratio <=  0.8):\n",
    "    #Rating is CC\n",
    "    credit_spread = 0.0864\n",
    "  if (interest_coverage_ratio > 0.2) & (interest_coverage_ratio <=  0.65):\n",
    "    #Rating is C\n",
    "    credit_spread = 0.1134\n",
    "  if interest_coverage_ratio <=  0.2:\n",
    "    #Rating is D\n",
    "    credit_spread = 0.1512\n",
    "  \n",
    "  cost_of_debt = RF + credit_spread\n",
    "  return cost_of_debt\n",
    "\n",
    "\n",
    "def costofequity(company):\n",
    "#RF\n",
    "  start = datetime.datetime(2019, 7, 10)\n",
    "  end = datetime.datetime(2020, 7, 10)\n",
    "  Treasury = web.DataReader(['TB1YR'], 'fred', start, end)\n",
    "  RF = float(Treasury.iloc[-1])\n",
    "  RF = RF/100\n",
    "#Beta\n",
    "  beta = requests.get(f'https://financialmodelingprep.com/api/v3/company/profile/{company}?apikey={demo}')\n",
    "  beta = beta.json() \n",
    "#여기서 json이란 key-value쌍으로 이루어진 데이터 오브젝트를 전달하기 위해 인간이 읽을 수 있는 텍스트를 사용하는 개방형 표준 포맷\n",
    "  beta = float(beta['profile']['beta'])\n",
    "#Market Return\n",
    "  start = datetime.datetime(2019, 7, 10)\n",
    "  end= datetime.datetime.today().strftime('%Y-%m-%d')\n",
    "  SP500 = web.DataReader(['sp500'], 'fred', start, end)\n",
    "      #Drop all Not a number values using drop method.\n",
    "  SP500.dropna(inplace = True)\n",
    "  SP500yearlyreturn = (SP500['sp500'].iloc[-1]/ SP500['sp500'].iloc[-252])-1\n",
    "    \n",
    "  cost_of_equity = RF+(beta*(SP500yearlyreturn - RF))\n",
    "  return cost_of_equity\n",
    "\n",
    "\n",
    "#effective tax rate and capital structure\n",
    "def wacc(company):\n",
    "  FR = requests.get(f'https://financialmodelingprep.com/api/v3/ratios/{company}?apikey={demo}').json()\n",
    "  ETR = FR[0]['effectiveTaxRate']\n",
    "  BS = requests.get(f'https://financialmodelingprep.com/api/v3/balance-sheet-statement/{company}?apikey={demo}').json()\n",
    "  Debt_to = BS[0]['totalDebt'] / (BS[0]['totalDebt'] + BS[0]['totalStockholdersEquity']) #부채/자산\n",
    "  equity_to = BS[0]['totalStockholdersEquity'] / (BS[0]['totalDebt'] + BS[0]['totalStockholdersEquity']) #자본/부채\n",
    "  WACC = (kd*(1-ETR)*Debt_to) + (ke*equity_to)\n",
    "  return WACC\n",
    "\n",
    "\n",
    "RF_and_IntCov = interest_coveraga_and_RF(company)\n",
    "RF = RF_and_IntCov[0]\n",
    "interest_coverage_ratio = RF_and_IntCov[1]\n",
    "ke = costofequity(company)\n",
    "kd = cost_of_debt(company,RF,interest_coverage_ratio)\n",
    "wacc_company = wacc(company)\n",
    "print('wacc of ' + company + ' is ' + str((wacc_company*100))+'%')"
   ]
  },
  {
   "cell_type": "code",
   "execution_count": null,
   "metadata": {},
   "outputs": [],
   "source": [
    "#numpy financial이란 라이브러리 설치 및 immport\n",
    "#npv 구하는 부분이 있는데 여기에서 사용할 것\n",
    "\n",
    "!pip install numpy_financial\n",
    "import numpy_financial as npf"
   ]
  },
  {
   "cell_type": "code",
   "execution_count": null,
   "metadata": {
    "id": "8dryjbbNIBdu"
   },
   "outputs": [],
   "source": [
    "#Forecasted Free Cash Flows의 NPV 구하기\n",
    "\n",
    "\n",
    "#FCF List of CFs for each year\n",
    "FCF_List = CF_forec.iloc[-1].values.tolist() #위에서 계산한 예측현금흐름의 맨 오른쪽 열\n",
    "npv = npf.npv(wacc_company,FCF_List) #NUMPY FINANCIAL로 NPV 구하기"
   ]
  },
  {
   "cell_type": "code",
   "execution_count": null,
   "metadata": {
    "id": "BaJZv98cIRKA"
   },
   "outputs": [],
   "source": [
    "#기업의 영구가치 구하기\n",
    "\n",
    "LTGrowth = 0.02\n",
    "Terminal_value = (CF_forecast['next_5_year']['FCF'] * (1+ LTGrowth)) /(wacc_company  - LTGrowth)\n",
    "Terminal_value_Discounted = Terminal_value/(1+wacc_company)**4\n",
    "print(Terminal_value_Discounted)"
   ]
  },
  {
   "cell_type": "code",
   "execution_count": null,
   "metadata": {
    "id": "2LkTtSiIIV8q"
   },
   "outputs": [],
   "source": [
    "#목표가격 구하기\n",
    "\n",
    "target_equity_value = Terminal_value_Discounted + npv\n",
    "debt = balance_sheet['current_year']['totalDebt']\n",
    "target_value = target_equity_value - debt\n",
    "numbre_of_shares = requests.get(f'https://financialmodelingprep.com/api/v3/enterprise-values/{company}?apikey={demo}').json()\n",
    "numbre_of_shares = numbre_of_shares[0]['numberOfShares']\n",
    "target_price_per_share = target_value/numbre_of_shares\n",
    "target_price_per_share\n",
    "print(company + ' forecasted price per stock is ' + str(target_price_per_share) )\n",
    "print('the forecast is based on the following assumptions: '+ 'revenue growth: ' + str(revenue_g) + ' Cost of Capital: ' + str(wacc_company) )\n",
    "print('perpetuity growth: ' + str(LTGrowth)  )"
   ]
  },
  {
   "cell_type": "markdown",
   "metadata": {
    "id": "THdn92utK6iq"
   },
   "source": [
    "## 3. RNP - Brownian  \n",
    "https://towardsdatascience.com/brownian-motion-with-python-9083ebc46ff0  "
   ]
  },
  {
   "cell_type": "code",
   "execution_count": null,
   "metadata": {
    "id": "C4sostjIk69I"
   },
   "outputs": [],
   "source": [
    "#brownian class 정의\n",
    "\n",
    "class Brownian():\n",
    "    \"\"\"\n",
    "    A Brownian motion class constructor\n",
    "    \"\"\"\n",
    "    def __init__(self,x0=0):\n",
    "        \"\"\"\n",
    "        Init class\n",
    "        \"\"\"\n",
    "        assert (type(x0)==float or type(x0)==int or x0 is None), \"최초의 값은 실수 또는 None\"\n",
    "        \n",
    "        self.x0 = float(x0)\n",
    "    \n",
    "    def gen_random_walk(self,n_step=100):\n",
    "        \"\"\"\n",
    "        Generate motion by random walk\n",
    "        \n",
    "        Arguments:\n",
    "            n_step: Number of steps\n",
    "            \n",
    "        Returns:\n",
    "            A NumPy array with `n_steps` points\n",
    "        \"\"\"\n",
    "        # Warning about the small number of steps\n",
    "        if n_step < 30:\n",
    "            print(\"WARNING! The number of steps is small. It may not generate a good stochastic process sequence!\")\n",
    "        \n",
    "        w = np.ones(n_step)*self.x0 #값이 1로 채워진 n_step 차원의 배열\n",
    "        \n",
    "        for i in range(1,n_step):\n",
    "            # Sampling from the Normal distribution with probability 1/2\n",
    "            yi = np.random.choice([1,-1]) #np.random.choice(sample, sample 개수, 복원 추출 여부(True/False), 확률)\n",
    "            #sample이 정수인 경우 정수 샘플링\n",
    "            # Weiner process\n",
    "            w[i] = w[i-1]+(yi/np.sqrt(n_step))\n",
    "        \n",
    "        return w\n",
    "    \n",
    "    def gen_normal(self,n_step=100):\n",
    "        \"\"\"\n",
    "        Generate motion by drawing from the Normal distribution\n",
    "        \n",
    "        Arguments:\n",
    "            n_step: Number of steps\n",
    "            \n",
    "        Returns:\n",
    "            A NumPy array with `n_steps` points\n",
    "        \"\"\"\n",
    "        if n_step < 30:\n",
    "            print(\"WARNING! The number of steps is small. It may not generate a good stochastic process sequence!\")\n",
    "        \n",
    "        w = np.ones(n_step)*self.x0\n",
    "        \n",
    "        for i in range(1,n_step):\n",
    "            # Sampling from the Normal distribution\n",
    "            yi = np.random.normal() #정규분포에서 추출\n",
    "            # Weiner process\n",
    "            w[i] = w[i-1]+(yi/np.sqrt(n_step))\n",
    "        \n",
    "        return w\n",
    "    \n",
    "    def stock_price(\n",
    "                    self,\n",
    "                    s0=100,\n",
    "                    mu=0.2,\n",
    "                    sigma=0.68,\n",
    "                    deltaT=52,\n",
    "                    dt=0.1\n",
    "                    ):\n",
    "        \"\"\"\n",
    "        Models a stock price S(t) using the Weiner process W(t) as\n",
    "        `S(t) = S(0).exp{(mu-(sigma^2/2).t)+sigma.W(t)}`\n",
    "        \n",
    "        Arguments:\n",
    "            s0: 원래 주식 가격, 기본값 100\n",
    "            mu: 주가의 추이(Drift, upwards or downwards), default 1\n",
    "            sigma: 주가의 변동성\n",
    "            deltaT: 미래 가격이 계산되는 기간, 주 단위\n",
    "            dt (optional): 기간의 세분화, default 0.1\n",
    "        \n",
    "        Returns:\n",
    "            s: 기간 deltaT에 걸쳐 시뮬레이션된 주가가 포함된 NumPy array\n",
    "        \"\"\"\n",
    "        n_step = int(deltaT/dt)\n",
    "        time_vector = np.linspace(0,deltaT,num=n_step)\n",
    "        # Stock variation\n",
    "        stock_var = (mu-(sigma**2/2))*time_vector\n",
    "        # Forcefully set the initial value to zero for the stock price simulation\n",
    "        self.x0=0\n",
    "        # Weiner process (calls the `gen_normal` method)\n",
    "        weiner_process = sigma*self.gen_normal(n_step)\n",
    "        # Add two time series, take exponent, and multiply by the initial stock price\n",
    "        s = s0*(np.exp(stock_var+weiner_process))\n",
    "        \n",
    "        return s"
   ]
  },
  {
   "cell_type": "code",
   "execution_count": null,
   "metadata": {
    "colab": {
     "base_uri": "https://localhost:8080/",
     "height": 265
    },
    "id": "ZP3-a_v6ptws",
    "outputId": "c42f1b16-8e15-4125-d0f1-202c57ed4d1a"
   },
   "outputs": [],
   "source": [
    "b = Brownian()\n",
    "for i in range(4):\n",
    "    plt.plot(b.gen_random_walk(1000))\n",
    "plt.show()"
   ]
  },
  {
   "cell_type": "code",
   "execution_count": null,
   "metadata": {
    "colab": {
     "base_uri": "https://localhost:8080/",
     "height": 265
    },
    "id": "YUxj_52Hp73X",
    "outputId": "3f238e0f-b3ea-4f4e-c814-a296ff52ac43"
   },
   "outputs": [],
   "source": [
    "b = Brownian(20)\n",
    "for i in range(4):\n",
    "    plt.plot(b.gen_normal(1000))\n",
    "plt.show()"
   ]
  },
  {
   "cell_type": "code",
   "execution_count": null,
   "metadata": {},
   "outputs": [],
   "source": []
  }
 ],
 "metadata": {
  "colab": {
   "collapsed_sections": [],
   "name": "0816 복습.ipynb",
   "provenance": []
  },
  "kernelspec": {
   "display_name": "Python 3 (ipykernel)",
   "language": "python",
   "name": "python3"
  },
  "language_info": {
   "codemirror_mode": {
    "name": "ipython",
    "version": 3
   },
   "file_extension": ".py",
   "mimetype": "text/x-python",
   "name": "python",
   "nbconvert_exporter": "python",
   "pygments_lexer": "ipython3",
   "version": "3.9.12"
  }
 },
 "nbformat": 4,
 "nbformat_minor": 4
}
