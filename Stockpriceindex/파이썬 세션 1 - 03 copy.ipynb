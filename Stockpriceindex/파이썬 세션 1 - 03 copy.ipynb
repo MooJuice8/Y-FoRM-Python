{
 "cells": [
  {
   "cell_type": "markdown",
   "metadata": {},
   "source": [
    "일별시세 페이지 분석"
   ]
  },
  {
   "cell_type": "code",
   "execution_count": 1,
   "metadata": {},
   "outputs": [],
   "source": [
    "index_cd = 'KOSPI'\n",
    "page_n = 1\n",
    "naver_index = 'http://finance.naver.com/sise/sise_index_day.nhn?code=' + index_cd + '&page=' + str(page_n)"
   ]
  },
  {
   "cell_type": "code",
   "execution_count": 2,
   "metadata": {
    "scrolled": false
   },
   "outputs": [
    {
     "data": {
      "text/plain": [
       "b'<html lang=\"ko\">\\n<head>\\n<meta http-equiv=\"Content-Type\" content=\"text/html; charset=euc-kr\">\\n<title>\\xb3\\xd7\\xc0\\xcc\\xb9\\xf6 \\xb1\\xdd\\xc0\\xb6</title>\\n\\n<link rel=\"stylesheet\" type=\"text/css\" href=\"https://ssl.pstatic.net/imgstock/static.pc/20220407160311/css/newstock.css\">\\n<link rel=\"stylesheet\" type=\"text/css\" href=\"https://ssl.pstatic.net/imgstock/static.pc/20220407160311/css/common.css\">\\n<link rel=\"stylesheet\" type=\"text/css\" href=\"https://ssl.pstatic.net/imgstock/static.pc/20220407160311/css/layout.css\">\\n<link rel=\"stylesheet\" type=\"text/css\" href=\"https://ssl.pstatic.net/imgstock/static.pc/20220407160311/css/main.css\">\\n<link rel=\"stylesheet\" type=\"text/css\" href=\"https://ssl.pstatic.net/imgstock/static.pc/20220407160311/css/newstock2.css\">\\n<link rel=\"stylesheet\" type=\"text/css\" href=\"https://ssl.pstatic.net/imgstock/static.pc/20220407160311/css/newstock3.css\">\\n<link rel=\"stylesheet\" type=\"text/css\" href=\"https://ssl.pstatic.net/imgstock/static.pc/20220407160311/css/world.css\">\\n</head>\\n<body>\\n<script type=\"text/javascript\" src=\"https://ssl.pstatic.net/imgstock/static.pc/20220407160311/js/jindo.min.ns.1.5.3.euckr.js\"></script>\\n<script type=\"text/javascript\" src=\"https://ssl.pstatic.net/imgstock/static.pc/20220407160311/js/lcslog.js\"></script>\\n\\t\\t\\t\\t<!-- \\xc0\\xcf\\xba\\xb0\\xbd\\xc3\\xbc\\xbc -->\\n\\t\\t\\t\\t<div class=\"box_type_m\">\\n\\t\\t\\t\\t\\t<h4 class=\"top_tlt\" style=\"text-align:left;\"><em>\\xc0\\xcf\\xba\\xb0</em>\\xbd\\xc3\\xbc\\xbc</h4>\\n\\t\\t\\t\\t\\t<table summary=\"\\xc0\\xcf\\xba\\xb0 \\xbd\\xc3\\xbc\\xbc\\xc7\\xa5:\\xb3\\xaf\\xc2\\xa5\\xbf\\xa1 \\xb5\\xfb\\xb8\\xa5 \\xc3\\xbc\\xb0\\xe1\\xb0\\xa1 \\xc0\\xfc\\xc0\\xcf\\xba\\xf1 \\xb5\\xee\\xb6\\xf4\\xb7\\xfc \\xb0\\xc5\\xb7\\xa1\\xb7\\xae \\xb0\\xc5\\xb7\\xa1\\xb4\\xeb\\xb1\\xdd \\xc1\\xa4\\xba\\xb8\\xb8\\xa6 \\xc1\\xa6\\xb0\\xf8\\xc7\\xd5\\xb4\\xcf\\xb4\\xd9.\" cellpadding=\"0\" cellspacing=\"0\" class=\"type_1\">\\n\\t\\t\\t\\t\\t<caption>\\xc0\\xcf\\xba\\xb0\\xbd\\xc3\\xbc\\xbc</caption>\\n\\t\\t\\t\\t\\t<col width=\"15%\"><col width=\"14%\"><col width=\"18%\"><col width=\"14%\"><col width=\"*\"><col width=\"18%\">\\n\\t\\t\\t\\t\\t\\n\\t\\t\\t\\t\\t\\t\\n\\t\\t\\t\\t\\t\\t\\n\\t\\t\\t\\t\\t\\t<tr>\\n\\t\\t\\t\\t\\t\\t\\t<th>\\xb3\\xaf\\xc2\\xa5</th>\\n\\t\\t\\t\\t\\t\\t\\t<th>\\xc3\\xbc\\xb0\\xe1\\xb0\\xa1</th>\\n\\t\\t\\t\\t\\t\\t\\t<th>\\xc0\\xfc\\xc0\\xcf\\xba\\xf1</th>\\n\\t\\t\\t\\t\\t\\t\\t<th>\\xb5\\xee\\xb6\\xf4\\xb7\\xfc</th>\\n\\t\\t\\t\\t\\t\\t\\t<th>\\xb0\\xc5\\xb7\\xa1\\xb7\\xae<span class=\"add_txt\">(\\xc3\\xb5\\xc1\\xd6)</span></th>\\n\\t\\t\\t\\t\\t\\t\\t<th>\\xb0\\xc5\\xb7\\xa1\\xb4\\xeb\\xb1\\xdd<span class=\"add_txt\">(\\xb9\\xe9\\xb8\\xb8)</span></th>\\n\\t\\t\\t\\t\\t\\t</tr>\\n\\t\\t\\t\\t\\t\\t\\n\\t\\t\\t\\t\\t\\t\\t\\t\\t\\t\\n\\t\\t\\t\\t\\t<tr><td colspan=\"6\" class=\"blank_07\"></td></tr>\\n\\n\\t\\n\\t\\t\\t\\t\\t<tr>\\n\\t\\t\\t\\t\\t\\t<td class=\"date\">2022.04.08</td>\\n\\t\\t\\t\\t\\t\\t<td class=\"number_1\">2,700.39</td>\\n\\t\\t\\t\\t\\t\\t<td class=\"rate_down\" style=\"padding-right:35px;\">\\n\\t\\t\\t\\t<img src=\"https://ssl.pstatic.net/imgstock/images/images4/ico_up.gif\" width=\"7\" height=\"6\" style=\"margin-right:4px;\" alt=\"\\xbb\\xf3\\xbd\\xc2\"><span class=\"tah p11 red02\">\\n\\t\\t\\t\\t4.53\\n\\t\\t\\t\\t</span>\\n\\t\\t\\t</td>\\n\\t\\t\\t\\t\\t\\t<td class=\"number_1\">\\n\\t\\t\\t\\t<span class=\"tah p11 red01\">\\n\\t\\t\\t\\t+0.17%\\n\\t\\t\\t\\t</span>\\n\\t\\t\\t</td>\\n\\t\\t\\t\\t\\t\\t<td class=\"number_1\" style=\"padding-right:40px;\">948,355</td>\\n\\t\\t\\t\\t\\t\\t<td class=\"number_1\" style=\"padding-right:30px;\">10,296,234</td>\\n\\t\\t\\t\\t\\t</tr>\\n\\t\\t\\n\\t\\t\\t\\n\\t\\t\\t\\t\\n\\t\\t\\t\\t\\t<tr>\\n\\t\\t\\t\\t\\t\\t<td class=\"date\">2022.04.07</td>\\n\\t\\t\\t\\t\\t\\t<td class=\"number_1\">2,695.86</td>\\n\\t\\t\\t\\t\\t\\t<td class=\"rate_down\" style=\"padding-right:35px;\">\\n\\t\\t\\t\\t<img src=\"https://ssl.pstatic.net/imgstock/images/images4/ico_down.gif\" width=\"7\" height=\"6\" style=\"margin-right:4px;\" alt=\"\\xc7\\xcf\\xb6\\xf4\"><span class=\"tah p11 nv01\">\\n\\t\\t\\t\\t39.17\\n\\t\\t\\t\\t</span>\\n\\t\\t\\t</td>\\n\\t\\t\\t\\t\\t\\t<td class=\"number_1\">\\n\\t\\t\\t\\t<span class=\"tah p11 nv01\">\\n\\t\\t\\t\\t-1.43%\\n\\t\\t\\t\\t</span>\\n\\t\\t\\t</td>\\n\\t\\t\\t\\t\\t\\t<td class=\"number_1\" style=\"padding-right:40px;\">999,275</td>\\n\\t\\t\\t\\t\\t\\t<td class=\"number_1\" style=\"padding-right:30px;\">12,291,042</td>\\n\\t\\t\\t\\t\\t</tr>\\n\\t\\t\\t\\t\\n\\t\\t\\t\\t\\n\\t\\t\\t\\n\\t\\t\\t\\n\\t\\t\\t\\n\\t\\t\\t\\n\\t\\t\\t\\t\\n\\t\\t\\t\\n\\t\\t\\t\\n\\t\\t\\n\\t\\t\\t\\n\\t\\t\\t\\t\\n\\t\\t\\t\\t\\t<tr>\\n\\t\\t\\t\\t\\t\\t<td class=\"date\">2022.04.06</td>\\n\\t\\t\\t\\t\\t\\t<td class=\"number_1\">2,735.03</td>\\n\\t\\t\\t\\t\\t\\t<td class=\"rate_down\" style=\"padding-right:35px;\">\\n\\t\\t\\t\\t<img src=\"https://ssl.pstatic.net/imgstock/images/images4/ico_down.gif\" width=\"7\" height=\"6\" style=\"margin-right:4px;\" alt=\"\\xc7\\xcf\\xb6\\xf4\"><span class=\"tah p11 nv01\">\\n\\t\\t\\t\\t24.17\\n\\t\\t\\t\\t</span>\\n\\t\\t\\t</td>\\n\\t\\t\\t\\t\\t\\t<td class=\"number_1\">\\n\\t\\t\\t\\t<span class=\"tah p11 nv01\">\\n\\t\\t\\t\\t-0.88%\\n\\t\\t\\t\\t</span>\\n\\t\\t\\t</td>\\n\\t\\t\\t\\t\\t\\t<td class=\"number_1\" style=\"padding-right:40px;\">1,321,644</td>\\n\\t\\t\\t\\t\\t\\t<td class=\"number_1\" style=\"padding-right:30px;\">11,014,544</td>\\n\\t\\t\\t\\t\\t</tr>\\n\\t\\t\\t\\t\\n\\t\\t\\t\\t\\n\\t\\t\\t\\n\\t\\t\\t\\n\\t\\t\\t\\n\\t\\t\\t\\n\\t\\t\\t\\t\\n\\t\\t\\t\\t\\t<tr><td colspan=\"6\" class=\"blank_08\"></td></tr>\\n\\t\\t\\t\\t\\t<tr><td colspan=\"6\" class=\"division_line\"></td></tr>\\n\\t\\t\\t\\t\\t<tr><td colspan=\"6\" class=\"blank_08\"></td></tr>\\n\\t\\t\\t\\t\\t<tr>\\n\\t\\t\\t\\t\\n\\t\\t\\t\\n\\t\\t\\t\\n\\t\\t\\n\\t\\t\\t\\n\\t\\t\\t\\t\\n\\t\\t\\t\\t\\t<tr>\\n\\t\\t\\t\\t\\t\\t<td class=\"date\">2022.04.05</td>\\n\\t\\t\\t\\t\\t\\t<td class=\"number_1\">2,759.20</td>\\n\\t\\t\\t\\t\\t\\t<td class=\"rate_down\" style=\"padding-right:35px;\">\\n\\t\\t\\t\\t<img src=\"https://ssl.pstatic.net/imgstock/images/images4/ico_up.gif\" width=\"7\" height=\"6\" style=\"margin-right:4px;\" alt=\"\\xbb\\xf3\\xbd\\xc2\"><span class=\"tah p11 red02\">\\n\\t\\t\\t\\t1.30\\n\\t\\t\\t\\t</span>\\n\\t\\t\\t</td>\\n\\t\\t\\t\\t\\t\\t<td class=\"number_1\">\\n\\t\\t\\t\\t<span class=\"tah p11 red01\">\\n\\t\\t\\t\\t+0.05%\\n\\t\\t\\t\\t</span>\\n\\t\\t\\t</td>\\n\\t\\t\\t\\t\\t\\t<td class=\"number_1\" style=\"padding-right:40px;\">1,605,993</td>\\n\\t\\t\\t\\t\\t\\t<td class=\"number_1\" style=\"padding-right:30px;\">9,933,180</td>\\n\\t\\t\\t\\t\\t</tr>\\n\\t\\t\\t\\t\\n\\t\\t\\t\\t\\n\\t\\t\\t\\n\\t\\t\\t\\n\\t\\t\\t\\n\\t\\t\\t\\n\\t\\t\\t\\t\\n\\t\\t\\t\\n\\t\\t\\t\\n\\t\\t\\n\\t\\t\\t\\n\\t\\t\\t\\t\\n\\t\\t\\t\\t\\t<tr>\\n\\t\\t\\t\\t\\t\\t<td class=\"date\">2022.04.04</td>\\n\\t\\t\\t\\t\\t\\t<td class=\"number_1\">2,757.90</td>\\n\\t\\t\\t\\t\\t\\t<td class=\"rate_down\" style=\"padding-right:35px;\">\\n\\t\\t\\t\\t<img src=\"https://ssl.pstatic.net/imgstock/images/images4/ico_up.gif\" width=\"7\" height=\"6\" style=\"margin-right:4px;\" alt=\"\\xbb\\xf3\\xbd\\xc2\"><span class=\"tah p11 red02\">\\n\\t\\t\\t\\t18.05\\n\\t\\t\\t\\t</span>\\n\\t\\t\\t</td>\\n\\t\\t\\t\\t\\t\\t<td class=\"number_1\">\\n\\t\\t\\t\\t<span class=\"tah p11 red01\">\\n\\t\\t\\t\\t+0.66%\\n\\t\\t\\t\\t</span>\\n\\t\\t\\t</td>\\n\\t\\t\\t\\t\\t\\t<td class=\"number_1\" style=\"padding-right:40px;\">1,022,970</td>\\n\\t\\t\\t\\t\\t\\t<td class=\"number_1\" style=\"padding-right:30px;\">9,744,917</td>\\n\\t\\t\\t\\t\\t</tr>\\n\\t\\t\\t\\t\\n\\t\\t\\t\\t\\n\\t\\t\\t\\n\\t\\t\\t\\n\\t\\t\\t\\n\\t\\t\\t\\n\\t\\t\\t\\t\\n\\t\\t\\t\\n\\t\\t\\t\\n\\t\\t\\n\\t\\t\\t\\n\\t\\t\\t\\t\\n\\t\\t\\t\\t\\t<tr>\\n\\t\\t\\t\\t\\t\\t<td class=\"date\">2022.04.01</td>\\n\\t\\t\\t\\t\\t\\t<td class=\"number_1\">2,739.85</td>\\n\\t\\t\\t\\t\\t\\t<td class=\"rate_down\" style=\"padding-right:35px;\">\\n\\t\\t\\t\\t<img src=\"https://ssl.pstatic.net/imgstock/images/images4/ico_down.gif\" width=\"7\" height=\"6\" style=\"margin-right:4px;\" alt=\"\\xc7\\xcf\\xb6\\xf4\"><span class=\"tah p11 nv01\">\\n\\t\\t\\t\\t17.80\\n\\t\\t\\t\\t</span>\\n\\t\\t\\t</td>\\n\\t\\t\\t\\t\\t\\t<td class=\"number_1\">\\n\\t\\t\\t\\t<span class=\"tah p11 nv01\">\\n\\t\\t\\t\\t-0.65%\\n\\t\\t\\t\\t</span>\\n\\t\\t\\t</td>\\n\\t\\t\\t\\t\\t\\t<td class=\"number_1\" style=\"padding-right:40px;\">1,305,564</td>\\n\\t\\t\\t\\t\\t\\t<td class=\"number_1\" style=\"padding-right:30px;\">10,689,584</td>\\n\\t\\t\\t\\t\\t</tr>\\n\\t\\t\\t\\t\\n\\t\\t\\t\\t\\n\\t\\t\\t\\n\\t\\t\\t\\n\\t\\t\\t\\n\\t\\t\\t\\n\\t\\t\\t\\t\\n\\t\\t\\t\\n\\t\\t\\t\\n\\t\\t\\n\\t\\t\\t\\n\\t\\n\\t\\n\\t\\n\\t\\n\\n\\t\\t\\t\\t\\t<tr><td colspan=\"6\" class=\"blank_09\"></td></tr>\\n\\t\\t\\t\\t\\t<tr><td colspan=\"6\" class=\"division_line\"></td></tr>\\n\\t\\t\\t\\t\\t</table>\\n\\t\\t\\t\\t<!--- \\xc6\\xe4\\xc0\\xcc\\xc1\\xf6 \\xb3\\xd7\\xba\\xf1\\xb0\\xd4\\xc0\\xcc\\xbc\\xc7 \\xbd\\xc3\\xc0\\xdb--->\\n\\t\\t\\t\\t<table summary=\"\\xc6\\xe4\\xc0\\xcc\\xc1\\xf6 \\xb3\\xd7\\xba\\xf1\\xb0\\xd4\\xc0\\xcc\\xbc\\xc7 \\xb8\\xae\\xbd\\xba\\xc6\\xae\" class=\"Nnavi\" align=\"center\">\\n\\t\\t\\t\\t<caption>\\xc6\\xe4\\xc0\\xcc\\xc1\\xf6 \\xb3\\xd7\\xba\\xf1\\xb0\\xd4\\xc0\\xcc\\xbc\\xc7</caption>\\n\\t\\t\\t\\t<tr>\\t\\t\\n\\t\\t\\t\\n\\t\\t\\t\\t\\n                \\n                <td class=\"on\">\\n\\t\\t\\t\\t<a href=\"/sise/sise_index_day.nhn?code=KOSPI&amp;page=1\"  >1</a>\\n\\t\\t\\t\\t</td>\\n<td>\\n\\t\\t\\t\\t<a href=\"/sise/sise_index_day.nhn?code=KOSPI&amp;page=2\"  >2</a>\\n\\t\\t\\t\\t</td>\\n<td>\\n\\t\\t\\t\\t<a href=\"/sise/sise_index_day.nhn?code=KOSPI&amp;page=3\"  >3</a>\\n\\t\\t\\t\\t</td>\\n<td>\\n\\t\\t\\t\\t<a href=\"/sise/sise_index_day.nhn?code=KOSPI&amp;page=4\"  >4</a>\\n\\t\\t\\t\\t</td>\\n<td>\\n\\t\\t\\t\\t<a href=\"/sise/sise_index_day.nhn?code=KOSPI&amp;page=5\"  >5</a>\\n\\t\\t\\t\\t</td>\\n<td>\\n\\t\\t\\t\\t<a href=\"/sise/sise_index_day.nhn?code=KOSPI&amp;page=6\"  >6</a>\\n\\t\\t\\t\\t</td>\\n<td>\\n\\t\\t\\t\\t<a href=\"/sise/sise_index_day.nhn?code=KOSPI&amp;page=7\"  >7</a>\\n\\t\\t\\t\\t</td>\\n<td>\\n\\t\\t\\t\\t<a href=\"/sise/sise_index_day.nhn?code=KOSPI&amp;page=8\"  >8</a>\\n\\t\\t\\t\\t</td>\\n<td>\\n\\t\\t\\t\\t<a href=\"/sise/sise_index_day.nhn?code=KOSPI&amp;page=9\"  >9</a>\\n\\t\\t\\t\\t</td>\\n<td>\\n\\t\\t\\t\\t<a href=\"/sise/sise_index_day.nhn?code=KOSPI&amp;page=10\"  >10</a>\\n\\t\\t\\t\\t</td>\\n\\n                <td class=\"pgR\">\\n\\t\\t\\t\\t<a href=\"/sise/sise_index_day.nhn?code=KOSPI&amp;page=11\"  >\\n\\t\\t\\t\\t\\xb4\\xd9\\xc0\\xbd<img src=\"https://ssl.pstatic.net/static/n/cmn/bu_pgarR.gif\" width=\"3\" height=\"5\" alt=\"\" border=\"0\">\\n\\t\\t\\t\\t</a>\\n\\t\\t\\t\\t</td>\\n\\n                <td class=\"pgRR\">\\n\\t\\t\\t\\t<a href=\"/sise/sise_index_day.nhn?code=KOSPI&amp;page=1398\"  >\\xb8\\xc7\\xb5\\xda\\n\\t\\t\\t\\t<img src=\"https://ssl.pstatic.net/static/n/cmn/bu_pgarRR.gif\" width=\"8\" height=\"5\" alt=\"\" border=\"0\">\\n\\t\\t\\t\\t</a>\\n\\t\\t\\t\\t</td>\\n\\n            \\n\\t\\t\\t\\t</tr>\\n\\t\\t\\t\\t</table>\\n\\t\\t\\t\\t<!--- \\xc6\\xe4\\xc0\\xcc\\xc1\\xf6 \\xb3\\xd7\\xba\\xf1\\xb0\\xd4\\xc0\\xcc\\xbc\\xc7 \\xb3\\xa1--->\\n\\t\\t\\t\\t</div>\\n\\t\\t\\t\\t<!-- //\\xc0\\xcf\\xba\\xb0\\xbd\\xc3\\xbc\\xbc -->\\n\\t\\t\\t\\t\\n<script type=\"text/javascript\">\\n    ;(function(){\\n        var eventType = \"onpageshow\" in window ? \"pageshow\" : \"load\";\\n        jindo.$Fn(function(){\\n            lcs_do();\\n        }).attach(window, eventType);\\n    })();\\n</script>\\n\\n</body>\\n</html>'"
      ]
     },
     "execution_count": 2,
     "metadata": {},
     "output_type": "execute_result"
    }
   ],
   "source": [
    "from urllib.request import urlopen\n",
    "source = urlopen(naver_index).read()\n",
    "source"
   ]
  },
  {
   "cell_type": "code",
   "execution_count": 3,
   "metadata": {},
   "outputs": [
    {
     "data": {
      "text/plain": [
       "<html lang=\"ko\">\n",
       "<head>\n",
       "<meta content=\"text/html; charset=utf-8\" http-equiv=\"Content-Type\"/>\n",
       "<title>네이버 금융</title>\n",
       "<link href=\"https://ssl.pstatic.net/imgstock/static.pc/20220407160311/css/newstock.css\" rel=\"stylesheet\" type=\"text/css\"/>\n",
       "<link href=\"https://ssl.pstatic.net/imgstock/static.pc/20220407160311/css/common.css\" rel=\"stylesheet\" type=\"text/css\"/>\n",
       "<link href=\"https://ssl.pstatic.net/imgstock/static.pc/20220407160311/css/layout.css\" rel=\"stylesheet\" type=\"text/css\"/>\n",
       "<link href=\"https://ssl.pstatic.net/imgstock/static.pc/20220407160311/css/main.css\" rel=\"stylesheet\" type=\"text/css\"/>\n",
       "<link href=\"https://ssl.pstatic.net/imgstock/static.pc/20220407160311/css/newstock2.css\" rel=\"stylesheet\" type=\"text/css\"/>\n",
       "<link href=\"https://ssl.pstatic.net/imgstock/static.pc/20220407160311/css/newstock3.css\" rel=\"stylesheet\" type=\"text/css\"/>\n",
       "<link href=\"https://ssl.pstatic.net/imgstock/static.pc/20220407160311/css/world.css\" rel=\"stylesheet\" type=\"text/css\"/>\n",
       "</head>\n",
       "<body>\n",
       "<script src=\"https://ssl.pstatic.net/imgstock/static.pc/20220407160311/js/jindo.min.ns.1.5.3.euckr.js\" type=\"text/javascript\"></script>\n",
       "<script src=\"https://ssl.pstatic.net/imgstock/static.pc/20220407160311/js/lcslog.js\" type=\"text/javascript\"></script>\n",
       "<!-- 일별시세 -->\n",
       "<div class=\"box_type_m\">\n",
       "<h4 class=\"top_tlt\" style=\"text-align:left;\"><em>일별</em>시세</h4>\n",
       "<table cellpadding=\"0\" cellspacing=\"0\" class=\"type_1\" summary=\"일별 시세표:날짜에 따른 체결가 전일비 등락률 거래량 거래대금 정보를 제공합니다.\">\n",
       "<caption>일별시세</caption>\n",
       "<col width=\"15%\"/><col width=\"14%\"/><col width=\"18%\"/><col width=\"14%\"/><col width=\"*\"/><col width=\"18%\"/>\n",
       "<tr>\n",
       "<th>날짜</th>\n",
       "<th>체결가</th>\n",
       "<th>전일비</th>\n",
       "<th>등락률</th>\n",
       "<th>거래량<span class=\"add_txt\">(천주)</span></th>\n",
       "<th>거래대금<span class=\"add_txt\">(백만)</span></th>\n",
       "</tr>\n",
       "<tr><td class=\"blank_07\" colspan=\"6\"></td></tr>\n",
       "<tr>\n",
       "<td class=\"date\">2022.04.08</td>\n",
       "<td class=\"number_1\">2,700.39</td>\n",
       "<td class=\"rate_down\" style=\"padding-right:35px;\">\n",
       "<img alt=\"상승\" height=\"6\" src=\"https://ssl.pstatic.net/imgstock/images/images4/ico_up.gif\" style=\"margin-right:4px;\" width=\"7\"/><span class=\"tah p11 red02\">\n",
       "\t\t\t\t4.53\n",
       "\t\t\t\t</span>\n",
       "</td>\n",
       "<td class=\"number_1\">\n",
       "<span class=\"tah p11 red01\">\n",
       "\t\t\t\t+0.17%\n",
       "\t\t\t\t</span>\n",
       "</td>\n",
       "<td class=\"number_1\" style=\"padding-right:40px;\">948,355</td>\n",
       "<td class=\"number_1\" style=\"padding-right:30px;\">10,296,234</td>\n",
       "</tr>\n",
       "<tr>\n",
       "<td class=\"date\">2022.04.07</td>\n",
       "<td class=\"number_1\">2,695.86</td>\n",
       "<td class=\"rate_down\" style=\"padding-right:35px;\">\n",
       "<img alt=\"하락\" height=\"6\" src=\"https://ssl.pstatic.net/imgstock/images/images4/ico_down.gif\" style=\"margin-right:4px;\" width=\"7\"/><span class=\"tah p11 nv01\">\n",
       "\t\t\t\t39.17\n",
       "\t\t\t\t</span>\n",
       "</td>\n",
       "<td class=\"number_1\">\n",
       "<span class=\"tah p11 nv01\">\n",
       "\t\t\t\t-1.43%\n",
       "\t\t\t\t</span>\n",
       "</td>\n",
       "<td class=\"number_1\" style=\"padding-right:40px;\">999,275</td>\n",
       "<td class=\"number_1\" style=\"padding-right:30px;\">12,291,042</td>\n",
       "</tr>\n",
       "<tr>\n",
       "<td class=\"date\">2022.04.06</td>\n",
       "<td class=\"number_1\">2,735.03</td>\n",
       "<td class=\"rate_down\" style=\"padding-right:35px;\">\n",
       "<img alt=\"하락\" height=\"6\" src=\"https://ssl.pstatic.net/imgstock/images/images4/ico_down.gif\" style=\"margin-right:4px;\" width=\"7\"/><span class=\"tah p11 nv01\">\n",
       "\t\t\t\t24.17\n",
       "\t\t\t\t</span>\n",
       "</td>\n",
       "<td class=\"number_1\">\n",
       "<span class=\"tah p11 nv01\">\n",
       "\t\t\t\t-0.88%\n",
       "\t\t\t\t</span>\n",
       "</td>\n",
       "<td class=\"number_1\" style=\"padding-right:40px;\">1,321,644</td>\n",
       "<td class=\"number_1\" style=\"padding-right:30px;\">11,014,544</td>\n",
       "</tr>\n",
       "<tr><td class=\"blank_08\" colspan=\"6\"></td></tr>\n",
       "<tr><td class=\"division_line\" colspan=\"6\"></td></tr>\n",
       "<tr><td class=\"blank_08\" colspan=\"6\"></td></tr>\n",
       "<tr>\n",
       "</tr><tr>\n",
       "<td class=\"date\">2022.04.05</td>\n",
       "<td class=\"number_1\">2,759.20</td>\n",
       "<td class=\"rate_down\" style=\"padding-right:35px;\">\n",
       "<img alt=\"상승\" height=\"6\" src=\"https://ssl.pstatic.net/imgstock/images/images4/ico_up.gif\" style=\"margin-right:4px;\" width=\"7\"/><span class=\"tah p11 red02\">\n",
       "\t\t\t\t1.30\n",
       "\t\t\t\t</span>\n",
       "</td>\n",
       "<td class=\"number_1\">\n",
       "<span class=\"tah p11 red01\">\n",
       "\t\t\t\t+0.05%\n",
       "\t\t\t\t</span>\n",
       "</td>\n",
       "<td class=\"number_1\" style=\"padding-right:40px;\">1,605,993</td>\n",
       "<td class=\"number_1\" style=\"padding-right:30px;\">9,933,180</td>\n",
       "</tr>\n",
       "<tr>\n",
       "<td class=\"date\">2022.04.04</td>\n",
       "<td class=\"number_1\">2,757.90</td>\n",
       "<td class=\"rate_down\" style=\"padding-right:35px;\">\n",
       "<img alt=\"상승\" height=\"6\" src=\"https://ssl.pstatic.net/imgstock/images/images4/ico_up.gif\" style=\"margin-right:4px;\" width=\"7\"/><span class=\"tah p11 red02\">\n",
       "\t\t\t\t18.05\n",
       "\t\t\t\t</span>\n",
       "</td>\n",
       "<td class=\"number_1\">\n",
       "<span class=\"tah p11 red01\">\n",
       "\t\t\t\t+0.66%\n",
       "\t\t\t\t</span>\n",
       "</td>\n",
       "<td class=\"number_1\" style=\"padding-right:40px;\">1,022,970</td>\n",
       "<td class=\"number_1\" style=\"padding-right:30px;\">9,744,917</td>\n",
       "</tr>\n",
       "<tr>\n",
       "<td class=\"date\">2022.04.01</td>\n",
       "<td class=\"number_1\">2,739.85</td>\n",
       "<td class=\"rate_down\" style=\"padding-right:35px;\">\n",
       "<img alt=\"하락\" height=\"6\" src=\"https://ssl.pstatic.net/imgstock/images/images4/ico_down.gif\" style=\"margin-right:4px;\" width=\"7\"/><span class=\"tah p11 nv01\">\n",
       "\t\t\t\t17.80\n",
       "\t\t\t\t</span>\n",
       "</td>\n",
       "<td class=\"number_1\">\n",
       "<span class=\"tah p11 nv01\">\n",
       "\t\t\t\t-0.65%\n",
       "\t\t\t\t</span>\n",
       "</td>\n",
       "<td class=\"number_1\" style=\"padding-right:40px;\">1,305,564</td>\n",
       "<td class=\"number_1\" style=\"padding-right:30px;\">10,689,584</td>\n",
       "</tr>\n",
       "<tr><td class=\"blank_09\" colspan=\"6\"></td></tr>\n",
       "<tr><td class=\"division_line\" colspan=\"6\"></td></tr>\n",
       "</table>\n",
       "<!--- 페이지 네비게이션 시작--->\n",
       "<table align=\"center\" class=\"Nnavi\" summary=\"페이지 네비게이션 리스트\">\n",
       "<caption>페이지 네비게이션</caption>\n",
       "<tr>\n",
       "<td class=\"on\">\n",
       "<a href=\"/sise/sise_index_day.nhn?code=KOSPI&amp;page=1\">1</a>\n",
       "</td>\n",
       "<td>\n",
       "<a href=\"/sise/sise_index_day.nhn?code=KOSPI&amp;page=2\">2</a>\n",
       "</td>\n",
       "<td>\n",
       "<a href=\"/sise/sise_index_day.nhn?code=KOSPI&amp;page=3\">3</a>\n",
       "</td>\n",
       "<td>\n",
       "<a href=\"/sise/sise_index_day.nhn?code=KOSPI&amp;page=4\">4</a>\n",
       "</td>\n",
       "<td>\n",
       "<a href=\"/sise/sise_index_day.nhn?code=KOSPI&amp;page=5\">5</a>\n",
       "</td>\n",
       "<td>\n",
       "<a href=\"/sise/sise_index_day.nhn?code=KOSPI&amp;page=6\">6</a>\n",
       "</td>\n",
       "<td>\n",
       "<a href=\"/sise/sise_index_day.nhn?code=KOSPI&amp;page=7\">7</a>\n",
       "</td>\n",
       "<td>\n",
       "<a href=\"/sise/sise_index_day.nhn?code=KOSPI&amp;page=8\">8</a>\n",
       "</td>\n",
       "<td>\n",
       "<a href=\"/sise/sise_index_day.nhn?code=KOSPI&amp;page=9\">9</a>\n",
       "</td>\n",
       "<td>\n",
       "<a href=\"/sise/sise_index_day.nhn?code=KOSPI&amp;page=10\">10</a>\n",
       "</td>\n",
       "<td class=\"pgR\">\n",
       "<a href=\"/sise/sise_index_day.nhn?code=KOSPI&amp;page=11\">\n",
       "\t\t\t\t다음<img alt=\"\" border=\"0\" height=\"5\" src=\"https://ssl.pstatic.net/static/n/cmn/bu_pgarR.gif\" width=\"3\"/>\n",
       "</a>\n",
       "</td>\n",
       "<td class=\"pgRR\">\n",
       "<a href=\"/sise/sise_index_day.nhn?code=KOSPI&amp;page=1398\">맨뒤\n",
       "\t\t\t\t<img alt=\"\" border=\"0\" height=\"5\" src=\"https://ssl.pstatic.net/static/n/cmn/bu_pgarRR.gif\" width=\"8\"/>\n",
       "</a>\n",
       "</td>\n",
       "</tr>\n",
       "</table>\n",
       "<!--- 페이지 네비게이션 끝--->\n",
       "</div>\n",
       "<!-- //일별시세 -->\n",
       "<script type=\"text/javascript\">\n",
       "    ;(function(){\n",
       "        var eventType = \"onpageshow\" in window ? \"pageshow\" : \"load\";\n",
       "        jindo.$Fn(function(){\n",
       "            lcs_do();\n",
       "        }).attach(window, eventType);\n",
       "    })();\n",
       "</script>\n",
       "</body>\n",
       "</html>"
      ]
     },
     "execution_count": 3,
     "metadata": {},
     "output_type": "execute_result"
    }
   ],
   "source": [
    "import bs4\n",
    "source = bs4.BeautifulSoup(source, 'lxml')\n",
    "source"
   ]
  },
  {
   "cell_type": "code",
   "execution_count": 4,
   "metadata": {},
   "outputs": [
    {
     "name": "stdout",
     "output_type": "stream",
     "text": [
      "<html lang=\"ko\">\n",
      " <head>\n",
      "  <meta content=\"text/html; charset=utf-8\" http-equiv=\"Content-Type\"/>\n",
      "  <title>\n",
      "   네이버 금융\n",
      "  </title>\n",
      "  <link href=\"https://ssl.pstatic.net/imgstock/static.pc/20220407160311/css/newstock.css\" rel=\"stylesheet\" type=\"text/css\"/>\n",
      "  <link href=\"https://ssl.pstatic.net/imgstock/static.pc/20220407160311/css/common.css\" rel=\"stylesheet\" type=\"text/css\"/>\n",
      "  <link href=\"https://ssl.pstatic.net/imgstock/static.pc/20220407160311/css/layout.css\" rel=\"stylesheet\" type=\"text/css\"/>\n",
      "  <link href=\"https://ssl.pstatic.net/imgstock/static.pc/20220407160311/css/main.css\" rel=\"stylesheet\" type=\"text/css\"/>\n",
      "  <link href=\"https://ssl.pstatic.net/imgstock/static.pc/20220407160311/css/newstock2.css\" rel=\"stylesheet\" type=\"text/css\"/>\n",
      "  <link href=\"https://ssl.pstatic.net/imgstock/static.pc/20220407160311/css/newstock3.css\" rel=\"stylesheet\" type=\"text/css\"/>\n",
      "  <link href=\"https://ssl.pstatic.net/imgstock/static.pc/20220407160311/css/world.css\" rel=\"stylesheet\" type=\"text/css\"/>\n",
      " </head>\n",
      " <body>\n",
      "  <script src=\"https://ssl.pstatic.net/imgstock/static.pc/20220407160311/js/jindo.min.ns.1.5.3.euckr.js\" type=\"text/javascript\">\n",
      "  </script>\n",
      "  <script src=\"https://ssl.pstatic.net/imgstock/static.pc/20220407160311/js/lcslog.js\" type=\"text/javascript\">\n",
      "  </script>\n",
      "  <!-- 일별시세 -->\n",
      "  <div class=\"box_type_m\">\n",
      "   <h4 class=\"top_tlt\" style=\"text-align:left;\">\n",
      "    <em>\n",
      "     일별\n",
      "    </em>\n",
      "    시세\n",
      "   </h4>\n",
      "   <table cellpadding=\"0\" cellspacing=\"0\" class=\"type_1\" summary=\"일별 시세표:날짜에 따른 체결가 전일비 등락률 거래량 거래대금 정보를 제공합니다.\">\n",
      "    <caption>\n",
      "     일별시세\n",
      "    </caption>\n",
      "    <col width=\"15%\"/>\n",
      "    <col width=\"14%\"/>\n",
      "    <col width=\"18%\"/>\n",
      "    <col width=\"14%\"/>\n",
      "    <col width=\"*\"/>\n",
      "    <col width=\"18%\"/>\n",
      "    <tr>\n",
      "     <th>\n",
      "      날짜\n",
      "     </th>\n",
      "     <th>\n",
      "      체결가\n",
      "     </th>\n",
      "     <th>\n",
      "      전일비\n",
      "     </th>\n",
      "     <th>\n",
      "      등락률\n",
      "     </th>\n",
      "     <th>\n",
      "      거래량\n",
      "      <span class=\"add_txt\">\n",
      "       (천주)\n",
      "      </span>\n",
      "     </th>\n",
      "     <th>\n",
      "      거래대금\n",
      "      <span class=\"add_txt\">\n",
      "       (백만)\n",
      "      </span>\n",
      "     </th>\n",
      "    </tr>\n",
      "    <tr>\n",
      "     <td class=\"blank_07\" colspan=\"6\">\n",
      "     </td>\n",
      "    </tr>\n",
      "    <tr>\n",
      "     <td class=\"date\">\n",
      "      2022.04.08\n",
      "     </td>\n",
      "     <td class=\"number_1\">\n",
      "      2,700.39\n",
      "     </td>\n",
      "     <td class=\"rate_down\" style=\"padding-right:35px;\">\n",
      "      <img alt=\"상승\" height=\"6\" src=\"https://ssl.pstatic.net/imgstock/images/images4/ico_up.gif\" style=\"margin-right:4px;\" width=\"7\"/>\n",
      "      <span class=\"tah p11 red02\">\n",
      "       4.53\n",
      "      </span>\n",
      "     </td>\n",
      "     <td class=\"number_1\">\n",
      "      <span class=\"tah p11 red01\">\n",
      "       +0.17%\n",
      "      </span>\n",
      "     </td>\n",
      "     <td class=\"number_1\" style=\"padding-right:40px;\">\n",
      "      948,355\n",
      "     </td>\n",
      "     <td class=\"number_1\" style=\"padding-right:30px;\">\n",
      "      10,296,234\n",
      "     </td>\n",
      "    </tr>\n",
      "    <tr>\n",
      "     <td class=\"date\">\n",
      "      2022.04.07\n",
      "     </td>\n",
      "     <td class=\"number_1\">\n",
      "      2,695.86\n",
      "     </td>\n",
      "     <td class=\"rate_down\" style=\"padding-right:35px;\">\n",
      "      <img alt=\"하락\" height=\"6\" src=\"https://ssl.pstatic.net/imgstock/images/images4/ico_down.gif\" style=\"margin-right:4px;\" width=\"7\"/>\n",
      "      <span class=\"tah p11 nv01\">\n",
      "       39.17\n",
      "      </span>\n",
      "     </td>\n",
      "     <td class=\"number_1\">\n",
      "      <span class=\"tah p11 nv01\">\n",
      "       -1.43%\n",
      "      </span>\n",
      "     </td>\n",
      "     <td class=\"number_1\" style=\"padding-right:40px;\">\n",
      "      999,275\n",
      "     </td>\n",
      "     <td class=\"number_1\" style=\"padding-right:30px;\">\n",
      "      12,291,042\n",
      "     </td>\n",
      "    </tr>\n",
      "    <tr>\n",
      "     <td class=\"date\">\n",
      "      2022.04.06\n",
      "     </td>\n",
      "     <td class=\"number_1\">\n",
      "      2,735.03\n",
      "     </td>\n",
      "     <td class=\"rate_down\" style=\"padding-right:35px;\">\n",
      "      <img alt=\"하락\" height=\"6\" src=\"https://ssl.pstatic.net/imgstock/images/images4/ico_down.gif\" style=\"margin-right:4px;\" width=\"7\"/>\n",
      "      <span class=\"tah p11 nv01\">\n",
      "       24.17\n",
      "      </span>\n",
      "     </td>\n",
      "     <td class=\"number_1\">\n",
      "      <span class=\"tah p11 nv01\">\n",
      "       -0.88%\n",
      "      </span>\n",
      "     </td>\n",
      "     <td class=\"number_1\" style=\"padding-right:40px;\">\n",
      "      1,321,644\n",
      "     </td>\n",
      "     <td class=\"number_1\" style=\"padding-right:30px;\">\n",
      "      11,014,544\n",
      "     </td>\n",
      "    </tr>\n",
      "    <tr>\n",
      "     <td class=\"blank_08\" colspan=\"6\">\n",
      "     </td>\n",
      "    </tr>\n",
      "    <tr>\n",
      "     <td class=\"division_line\" colspan=\"6\">\n",
      "     </td>\n",
      "    </tr>\n",
      "    <tr>\n",
      "     <td class=\"blank_08\" colspan=\"6\">\n",
      "     </td>\n",
      "    </tr>\n",
      "    <tr>\n",
      "    </tr>\n",
      "    <tr>\n",
      "     <td class=\"date\">\n",
      "      2022.04.05\n",
      "     </td>\n",
      "     <td class=\"number_1\">\n",
      "      2,759.20\n",
      "     </td>\n",
      "     <td class=\"rate_down\" style=\"padding-right:35px;\">\n",
      "      <img alt=\"상승\" height=\"6\" src=\"https://ssl.pstatic.net/imgstock/images/images4/ico_up.gif\" style=\"margin-right:4px;\" width=\"7\"/>\n",
      "      <span class=\"tah p11 red02\">\n",
      "       1.30\n",
      "      </span>\n",
      "     </td>\n",
      "     <td class=\"number_1\">\n",
      "      <span class=\"tah p11 red01\">\n",
      "       +0.05%\n",
      "      </span>\n",
      "     </td>\n",
      "     <td class=\"number_1\" style=\"padding-right:40px;\">\n",
      "      1,605,993\n",
      "     </td>\n",
      "     <td class=\"number_1\" style=\"padding-right:30px;\">\n",
      "      9,933,180\n",
      "     </td>\n",
      "    </tr>\n",
      "    <tr>\n",
      "     <td class=\"date\">\n",
      "      2022.04.04\n",
      "     </td>\n",
      "     <td class=\"number_1\">\n",
      "      2,757.90\n",
      "     </td>\n",
      "     <td class=\"rate_down\" style=\"padding-right:35px;\">\n",
      "      <img alt=\"상승\" height=\"6\" src=\"https://ssl.pstatic.net/imgstock/images/images4/ico_up.gif\" style=\"margin-right:4px;\" width=\"7\"/>\n",
      "      <span class=\"tah p11 red02\">\n",
      "       18.05\n",
      "      </span>\n",
      "     </td>\n",
      "     <td class=\"number_1\">\n",
      "      <span class=\"tah p11 red01\">\n",
      "       +0.66%\n",
      "      </span>\n",
      "     </td>\n",
      "     <td class=\"number_1\" style=\"padding-right:40px;\">\n",
      "      1,022,970\n",
      "     </td>\n",
      "     <td class=\"number_1\" style=\"padding-right:30px;\">\n",
      "      9,744,917\n",
      "     </td>\n",
      "    </tr>\n",
      "    <tr>\n",
      "     <td class=\"date\">\n",
      "      2022.04.01\n",
      "     </td>\n",
      "     <td class=\"number_1\">\n",
      "      2,739.85\n",
      "     </td>\n",
      "     <td class=\"rate_down\" style=\"padding-right:35px;\">\n",
      "      <img alt=\"하락\" height=\"6\" src=\"https://ssl.pstatic.net/imgstock/images/images4/ico_down.gif\" style=\"margin-right:4px;\" width=\"7\"/>\n",
      "      <span class=\"tah p11 nv01\">\n",
      "       17.80\n",
      "      </span>\n",
      "     </td>\n",
      "     <td class=\"number_1\">\n",
      "      <span class=\"tah p11 nv01\">\n",
      "       -0.65%\n",
      "      </span>\n",
      "     </td>\n",
      "     <td class=\"number_1\" style=\"padding-right:40px;\">\n",
      "      1,305,564\n",
      "     </td>\n",
      "     <td class=\"number_1\" style=\"padding-right:30px;\">\n",
      "      10,689,584\n",
      "     </td>\n",
      "    </tr>\n",
      "    <tr>\n",
      "     <td class=\"blank_09\" colspan=\"6\">\n",
      "     </td>\n",
      "    </tr>\n",
      "    <tr>\n",
      "     <td class=\"division_line\" colspan=\"6\">\n",
      "     </td>\n",
      "    </tr>\n",
      "   </table>\n",
      "   <!--- 페이지 네비게이션 시작--->\n",
      "   <table align=\"center\" class=\"Nnavi\" summary=\"페이지 네비게이션 리스트\">\n",
      "    <caption>\n",
      "     페이지 네비게이션\n",
      "    </caption>\n",
      "    <tr>\n",
      "     <td class=\"on\">\n",
      "      <a href=\"/sise/sise_index_day.nhn?code=KOSPI&amp;page=1\">\n",
      "       1\n",
      "      </a>\n",
      "     </td>\n",
      "     <td>\n",
      "      <a href=\"/sise/sise_index_day.nhn?code=KOSPI&amp;page=2\">\n",
      "       2\n",
      "      </a>\n",
      "     </td>\n",
      "     <td>\n",
      "      <a href=\"/sise/sise_index_day.nhn?code=KOSPI&amp;page=3\">\n",
      "       3\n",
      "      </a>\n",
      "     </td>\n",
      "     <td>\n",
      "      <a href=\"/sise/sise_index_day.nhn?code=KOSPI&amp;page=4\">\n",
      "       4\n",
      "      </a>\n",
      "     </td>\n",
      "     <td>\n",
      "      <a href=\"/sise/sise_index_day.nhn?code=KOSPI&amp;page=5\">\n",
      "       5\n",
      "      </a>\n",
      "     </td>\n",
      "     <td>\n",
      "      <a href=\"/sise/sise_index_day.nhn?code=KOSPI&amp;page=6\">\n",
      "       6\n",
      "      </a>\n",
      "     </td>\n",
      "     <td>\n",
      "      <a href=\"/sise/sise_index_day.nhn?code=KOSPI&amp;page=7\">\n",
      "       7\n",
      "      </a>\n",
      "     </td>\n",
      "     <td>\n",
      "      <a href=\"/sise/sise_index_day.nhn?code=KOSPI&amp;page=8\">\n",
      "       8\n",
      "      </a>\n",
      "     </td>\n",
      "     <td>\n",
      "      <a href=\"/sise/sise_index_day.nhn?code=KOSPI&amp;page=9\">\n",
      "       9\n",
      "      </a>\n",
      "     </td>\n",
      "     <td>\n",
      "      <a href=\"/sise/sise_index_day.nhn?code=KOSPI&amp;page=10\">\n",
      "       10\n",
      "      </a>\n",
      "     </td>\n",
      "     <td class=\"pgR\">\n",
      "      <a href=\"/sise/sise_index_day.nhn?code=KOSPI&amp;page=11\">\n",
      "       다음\n",
      "       <img alt=\"\" border=\"0\" height=\"5\" src=\"https://ssl.pstatic.net/static/n/cmn/bu_pgarR.gif\" width=\"3\"/>\n",
      "      </a>\n",
      "     </td>\n",
      "     <td class=\"pgRR\">\n",
      "      <a href=\"/sise/sise_index_day.nhn?code=KOSPI&amp;page=1398\">\n",
      "       맨뒤\n",
      "       <img alt=\"\" border=\"0\" height=\"5\" src=\"https://ssl.pstatic.net/static/n/cmn/bu_pgarRR.gif\" width=\"8\"/>\n",
      "      </a>\n",
      "     </td>\n",
      "    </tr>\n",
      "   </table>\n",
      "   <!--- 페이지 네비게이션 끝--->\n",
      "  </div>\n",
      "  <!-- //일별시세 -->\n",
      "  <script type=\"text/javascript\">\n",
      "   ;(function(){\n",
      "        var eventType = \"onpageshow\" in window ? \"pageshow\" : \"load\";\n",
      "        jindo.$Fn(function(){\n",
      "            lcs_do();\n",
      "        }).attach(window, eventType);\n",
      "    })();\n",
      "  </script>\n",
      " </body>\n",
      "</html>\n"
     ]
    }
   ],
   "source": [
    "print(source.prettify())"
   ]
  },
  {
   "cell_type": "code",
   "execution_count": 5,
   "metadata": {},
   "outputs": [
    {
     "data": {
      "text/plain": [
       "54"
      ]
     },
     "execution_count": 5,
     "metadata": {},
     "output_type": "execute_result"
    }
   ],
   "source": [
    "td = source.find_all('td')\n",
    "len(td)"
   ]
  },
  {
   "cell_type": "markdown",
   "metadata": {},
   "source": [
    "날짜 추출"
   ]
  },
  {
   "cell_type": "code",
   "execution_count": 6,
   "metadata": {},
   "outputs": [
    {
     "data": {
      "text/plain": [
       "<td class=\"date\">2022.04.08</td>"
      ]
     },
     "execution_count": 6,
     "metadata": {},
     "output_type": "execute_result"
    }
   ],
   "source": [
    "# /html/body/div/table[1]/tbody/tr[3]/td[1]\n",
    "source.find_all('table')[0].find_all('tr')[2].find_all('td')[0]"
   ]
  },
  {
   "cell_type": "code",
   "execution_count": 7,
   "metadata": {},
   "outputs": [
    {
     "data": {
      "text/plain": [
       "'2022.04.08'"
      ]
     },
     "execution_count": 7,
     "metadata": {},
     "output_type": "execute_result"
    }
   ],
   "source": [
    "d = source.find_all('td', class_='date')[0].text\n",
    "d"
   ]
  },
  {
   "cell_type": "code",
   "execution_count": 8,
   "metadata": {},
   "outputs": [],
   "source": [
    "import datetime as dt"
   ]
  },
  {
   "cell_type": "code",
   "execution_count": 9,
   "metadata": {},
   "outputs": [
    {
     "data": {
      "text/plain": [
       "datetime.date(2022, 4, 8)"
      ]
     },
     "execution_count": 9,
     "metadata": {},
     "output_type": "execute_result"
    }
   ],
   "source": [
    "yyyy = int(d.split('.')[0]) \n",
    "mm = int(d.split('.')[1])\n",
    "dd = int(d.split('.')[2])\n",
    "\n",
    "this_date= dt.date(yyyy, mm, dd)\n",
    "this_date"
   ]
  },
  {
   "cell_type": "markdown",
   "metadata": {},
   "source": [
    "날짜정보를  date 타입으로 변경하는 함수 정의"
   ]
  },
  {
   "cell_type": "code",
   "execution_count": 10,
   "metadata": {},
   "outputs": [],
   "source": [
    "def date_format(d):\n",
    "    d = str(d).replace('-', '.')\n",
    "    \n",
    "    yyyy = int(d.split('.')[0]) \n",
    "    mm = int(d.split('.')[1])\n",
    "    dd = int(d.split('.')[2])\n",
    "\n",
    "    this_date= dt.date(yyyy, mm, dd)\n",
    "    return this_date"
   ]
  },
  {
   "cell_type": "markdown",
   "metadata": {},
   "source": [
    "종가 추출"
   ]
  },
  {
   "cell_type": "code",
   "execution_count": 11,
   "metadata": {},
   "outputs": [
    {
     "data": {
      "text/plain": [
       "'2,700.39'"
      ]
     },
     "execution_count": 11,
     "metadata": {},
     "output_type": "execute_result"
    }
   ],
   "source": [
    "# /html/body/div/table[1]/tbody/tr[3]/td[2]\n",
    "this_close = source.find_all('table')[0].find_all('tr')[2].find_all('td')[1].text\n",
    "this_close"
   ]
  },
  {
   "cell_type": "code",
   "execution_count": 12,
   "metadata": {
    "scrolled": false
   },
   "outputs": [
    {
     "data": {
      "text/plain": [
       "2700.39"
      ]
     },
     "execution_count": 12,
     "metadata": {},
     "output_type": "execute_result"
    }
   ],
   "source": [
    "this_close = this_close.replace(',', '') # 쉼표(,) 제거 \n",
    "this_close = float(this_close)\n",
    "this_close"
   ]
  },
  {
   "cell_type": "code",
   "execution_count": 13,
   "metadata": {},
   "outputs": [
    {
     "data": {
      "text/plain": [
       "'2,700.39'"
      ]
     },
     "execution_count": 13,
     "metadata": {},
     "output_type": "execute_result"
    }
   ],
   "source": [
    "p = source.find_all('td', class_='number_1')[0].text\n",
    "p"
   ]
  },
  {
   "cell_type": "markdown",
   "metadata": {},
   "source": [
    "페이지 상의 날짜와 종가정보 전체 추출"
   ]
  },
  {
   "cell_type": "code",
   "execution_count": 14,
   "metadata": {},
   "outputs": [],
   "source": [
    "dates = source.find_all('td', class_='date')\n",
    "prices = source.find_all('td', class_='number_1')"
   ]
  },
  {
   "cell_type": "code",
   "execution_count": 15,
   "metadata": {},
   "outputs": [
    {
     "data": {
      "text/plain": [
       "6"
      ]
     },
     "execution_count": 15,
     "metadata": {},
     "output_type": "execute_result"
    }
   ],
   "source": [
    "len(dates)"
   ]
  },
  {
   "cell_type": "code",
   "execution_count": 16,
   "metadata": {},
   "outputs": [
    {
     "data": {
      "text/plain": [
       "24"
      ]
     },
     "execution_count": 16,
     "metadata": {},
     "output_type": "execute_result"
    }
   ],
   "source": [
    "len(prices)"
   ]
  },
  {
   "cell_type": "code",
   "execution_count": 17,
   "metadata": {},
   "outputs": [],
   "source": [
    "for n in range(len(dates)):\n",
    "    dates[n].text"
   ]
  },
  {
   "cell_type": "code",
   "execution_count": 18,
   "metadata": {},
   "outputs": [
    {
     "name": "stdout",
     "output_type": "stream",
     "text": [
      "2022-04-08 2700.39\n",
      "2022-04-07 2695.86\n",
      "2022-04-06 2735.03\n",
      "2022-04-05 2759.2\n",
      "2022-04-04 2757.9\n",
      "2022-04-01 2739.85\n"
     ]
    }
   ],
   "source": [
    "for n in range(len(dates)): # dates 개수만큼 반복   0~5\n",
    "    this_date = dates[n].text # n번째 dates 값 추출\n",
    "    this_date = date_format(this_date) # 날짜 형식으로 변환\n",
    "    \n",
    "    this_close = prices[n*4].text \n",
    "    # 0, 4, 8, ... 4의 배수로 돌아가는 가격 추출\n",
    "    this_close = this_close.replace(',', '') # 쉼표(,) 제거\n",
    "    this_close = float(this_close) # 숫자 형식으로 변환\n",
    "    this_close\n",
    "    \n",
    "    print(this_date, this_close)"
   ]
  },
  {
   "cell_type": "markdown",
   "metadata": {},
   "source": [
    "마지막 페이지 번호 찾기"
   ]
  },
  {
   "cell_type": "code",
   "execution_count": 23,
   "metadata": {},
   "outputs": [],
   "source": [
    "# /html/body/div/table[2]/tbody/tr/td[7]/a\n",
    "\n",
    "# <a href=\"/sise/sise_index_day.naver?code=KPI200&amp;page=662\">662</a> "
   ]
  },
  {
   "cell_type": "code",
   "execution_count": 19,
   "metadata": {
    "scrolled": true
   },
   "outputs": [
    {
     "data": {
      "text/plain": [
       "'/sise/sise_index_day.nhn?code=KOSPI&page=1398'"
      ]
     },
     "execution_count": 19,
     "metadata": {},
     "output_type": "execute_result"
    }
   ],
   "source": [
    "paging = source.find('td', class_='pgRR').find('a')['href']\n",
    "paging"
   ]
  },
  {
   "cell_type": "code",
   "execution_count": 20,
   "metadata": {},
   "outputs": [
    {
     "data": {
      "text/plain": [
       "['/sise/sise_index_day.nhn?code=KOSPI', 'page=1398']"
      ]
     },
     "execution_count": 20,
     "metadata": {},
     "output_type": "execute_result"
    }
   ],
   "source": [
    "paging.split('&')"
   ]
  },
  {
   "cell_type": "code",
   "execution_count": 21,
   "metadata": {},
   "outputs": [
    {
     "data": {
      "text/plain": [
       "'page=1398'"
      ]
     },
     "execution_count": 21,
     "metadata": {},
     "output_type": "execute_result"
    }
   ],
   "source": [
    "paging = paging.split('&')[1]\n",
    "paging"
   ]
  },
  {
   "cell_type": "code",
   "execution_count": 22,
   "metadata": {},
   "outputs": [
    {
     "data": {
      "text/plain": [
       "'1398'"
      ]
     },
     "execution_count": 22,
     "metadata": {},
     "output_type": "execute_result"
    }
   ],
   "source": [
    "paging = paging.split('=')[1]\n",
    "paging"
   ]
  },
  {
   "cell_type": "code",
   "execution_count": 23,
   "metadata": {},
   "outputs": [],
   "source": [
    "last_page = source.find('td', class_='pgRR').find('a')['href']\n",
    "last_page = last_page.split('&')[1]\n",
    "last_page = last_page.split('=')[1]\n",
    "last_page = int(last_page) # 페이지 번호를 숫자 형식 (정수)으로 변환"
   ]
  },
  {
   "cell_type": "code",
   "execution_count": 24,
   "metadata": {},
   "outputs": [
    {
     "data": {
      "text/plain": [
       "True"
      ]
     },
     "execution_count": 24,
     "metadata": {},
     "output_type": "execute_result"
    }
   ],
   "source": [
    "# dates[n].text.split('.')[0].isdigit()\n",
    "\n",
    "dates[0].text.split('.')[0].isdigit()"
   ]
  },
  {
   "cell_type": "code",
   "execution_count": 25,
   "metadata": {
    "scrolled": true
   },
   "outputs": [
    {
     "name": "stdout",
     "output_type": "stream",
     "text": [
      "<td class=\"date\">2022.04.08</td>\n",
      "2022.04.08\n",
      "['2022', '04', '08']\n",
      "2022\n",
      "True\n"
     ]
    }
   ],
   "source": [
    "print(dates[0])\n",
    "print(dates[0].text)\n",
    "print(dates[0].text.split('.'))\n",
    "print(dates[0].text.split('.')[0])\n",
    "print(dates[0].text.split('.')[0].isdigit())"
   ]
  },
  {
   "cell_type": "markdown",
   "metadata": {},
   "source": [
    "네이버에서 일자별 인덱스를 추출하는 함수 정의"
   ]
  },
  {
   "cell_type": "code",
   "execution_count": 28,
   "metadata": {},
   "outputs": [],
   "source": [
    "def historical_index_naver(index_cd, start_date='', end_date='', page_n=1, last_page=0):\n",
    "    \n",
    "    if start_date:   # start_date가 있으면\n",
    "        start_date = date_format(start_date)   # date 포맷으로 변환\n",
    "    else:    # 없으면\n",
    "        start_date = dt.date.today()   # 오늘 날짜를 지정\n",
    "    if end_date:   \n",
    "        end_date = date_format(end_date)   \n",
    "    else:   \n",
    "        end_date = dt.date.today()  \n",
    "        \n",
    "        \n",
    "    naver_index = 'http://finance.naver.com/sise/sise_index_day.nhn?code=' + index_cd + '&page=' + str(page_n)\n",
    "    \n",
    "    source = urlopen(naver_index).read()   # 지정한 페이지에서 코드 읽기\n",
    "    source = bs4.BeautifulSoup(source, 'lxml')   # 뷰티풀 스프로 태그별로 코드 분류\n",
    "    \n",
    "    dates = source.find_all('td', class_='date')   # <td class=\"date\">태그에서 날짜 수집   \n",
    "    prices = source.find_all('td', class_='number_1')   # <td class=\"number_1\">태그에서 지수 수집\n",
    "    \n",
    "    for n in range(len(dates)):\n",
    "    \n",
    "        if dates[n].text.split('.')[0].isdigit():\n",
    "            \n",
    "            # 날짜 처리\n",
    "            this_date = dates[n].text\n",
    "            this_date= date_format(this_date)\n",
    "            \n",
    "            if this_date <= end_date and this_date >= start_date:   # start<=this<=end\n",
    "            # start_date와 end_date 사이에서 데이터 저장\n",
    "                # 종가 처리\n",
    "                this_close = prices[n*4].text   # prices 중 종가지수인 0,4,8,...번째 데이터 추출\n",
    "                this_close = this_close.replace(',', '')\n",
    "                this_close = float(this_close)\n",
    "\n",
    "                # 딕셔너리에 저장\n",
    "                historical_prices[this_date] = this_close\n",
    "                \n",
    "            elif this_date < start_date:\n",
    "            # start_date 이전이면 함수 종료\n",
    "                return historical_prices              \n",
    "            \n",
    "    # 페이지 네비게이션\n",
    "    if last_page == 0:\n",
    "        last_page = source.find('td', class_='pgRR').find('a')['href']\n",
    "        # 마지막페이지 주소 추출\n",
    "        last_page = last_page.split('&')[1]   # & 뒤의 page=506 부분 추출\n",
    "        last_page = last_page.split('=')[1]   # = 뒤의 페이지번호만 추출\n",
    "        last_page = int(last_page)   # 숫자형 변수로 변환\n",
    "        \n",
    "    # 다음 페이지 호출\n",
    "    if page_n < last_page:   # 3페이지 < 670페이지\n",
    "        page_n = page_n + 1 \n",
    "        historical_index_naver(index_cd, start_date, end_date, page_n, last_page)   \n",
    "        \n",
    "    return historical_prices  "
   ]
  },
  {
   "cell_type": "code",
   "execution_count": 29,
   "metadata": {},
   "outputs": [
    {
     "data": {
      "text/plain": [
       "{datetime.date(2021, 12, 30): 2977.65,\n",
       " datetime.date(2021, 12, 29): 2993.29,\n",
       " datetime.date(2021, 12, 28): 3020.24,\n",
       " datetime.date(2021, 12, 27): 2999.55,\n",
       " datetime.date(2021, 12, 24): 3012.43,\n",
       " datetime.date(2021, 12, 23): 2998.17,\n",
       " datetime.date(2021, 12, 22): 2984.48,\n",
       " datetime.date(2021, 12, 21): 2975.03,\n",
       " datetime.date(2021, 12, 20): 2963.0,\n",
       " datetime.date(2021, 12, 17): 3017.73,\n",
       " datetime.date(2021, 12, 16): 3006.41,\n",
       " datetime.date(2021, 12, 15): 2989.39,\n",
       " datetime.date(2021, 12, 14): 2987.95,\n",
       " datetime.date(2021, 12, 13): 3001.66,\n",
       " datetime.date(2021, 12, 10): 3010.23,\n",
       " datetime.date(2021, 12, 9): 3029.57,\n",
       " datetime.date(2021, 12, 8): 3001.8,\n",
       " datetime.date(2021, 12, 7): 2991.72,\n",
       " datetime.date(2021, 12, 6): 2973.25,\n",
       " datetime.date(2021, 12, 3): 2968.33,\n",
       " datetime.date(2021, 12, 2): 2945.27,\n",
       " datetime.date(2021, 12, 1): 2899.72,\n",
       " datetime.date(2021, 11, 30): 2839.01,\n",
       " datetime.date(2021, 11, 29): 2909.32,\n",
       " datetime.date(2021, 11, 26): 2936.44,\n",
       " datetime.date(2021, 11, 25): 2980.27,\n",
       " datetime.date(2021, 11, 24): 2994.29,\n",
       " datetime.date(2021, 11, 23): 2997.33,\n",
       " datetime.date(2021, 11, 22): 3013.25,\n",
       " datetime.date(2021, 11, 19): 2971.02,\n",
       " datetime.date(2021, 11, 18): 2947.38,\n",
       " datetime.date(2021, 11, 17): 2962.42,\n",
       " datetime.date(2021, 11, 16): 2997.21,\n",
       " datetime.date(2021, 11, 15): 2999.52,\n",
       " datetime.date(2021, 11, 12): 2968.8,\n",
       " datetime.date(2021, 11, 11): 2924.92,\n",
       " datetime.date(2021, 11, 10): 2930.17,\n",
       " datetime.date(2021, 11, 9): 2962.46,\n",
       " datetime.date(2021, 11, 8): 2960.2,\n",
       " datetime.date(2021, 11, 5): 2969.27,\n",
       " datetime.date(2021, 11, 4): 2983.22,\n",
       " datetime.date(2021, 11, 3): 2975.71,\n",
       " datetime.date(2021, 11, 2): 3013.49,\n",
       " datetime.date(2021, 11, 1): 2978.94,\n",
       " datetime.date(2021, 10, 29): 2970.68,\n",
       " datetime.date(2021, 10, 28): 3009.55,\n",
       " datetime.date(2021, 10, 27): 3025.49,\n",
       " datetime.date(2021, 10, 26): 3049.08,\n",
       " datetime.date(2021, 10, 25): 3020.54,\n",
       " datetime.date(2021, 10, 22): 3006.16,\n",
       " datetime.date(2021, 10, 21): 3007.33,\n",
       " datetime.date(2021, 10, 20): 3013.13,\n",
       " datetime.date(2021, 10, 19): 3029.04,\n",
       " datetime.date(2021, 10, 18): 3006.68,\n",
       " datetime.date(2021, 10, 15): 3015.06,\n",
       " datetime.date(2021, 10, 14): 2988.64,\n",
       " datetime.date(2021, 10, 13): 2944.41,\n",
       " datetime.date(2021, 10, 12): 2916.38,\n",
       " datetime.date(2021, 10, 8): 2956.3,\n",
       " datetime.date(2021, 10, 7): 2959.46,\n",
       " datetime.date(2021, 10, 6): 2908.31,\n",
       " datetime.date(2021, 10, 5): 2962.17,\n",
       " datetime.date(2021, 10, 1): 3019.18,\n",
       " datetime.date(2021, 9, 30): 3068.82,\n",
       " datetime.date(2021, 9, 29): 3060.27,\n",
       " datetime.date(2021, 9, 28): 3097.92,\n",
       " datetime.date(2021, 9, 27): 3133.64,\n",
       " datetime.date(2021, 9, 24): 3125.24,\n",
       " datetime.date(2021, 9, 23): 3127.58,\n",
       " datetime.date(2021, 9, 17): 3140.51,\n",
       " datetime.date(2021, 9, 16): 3130.09,\n",
       " datetime.date(2021, 9, 15): 3153.4,\n",
       " datetime.date(2021, 9, 14): 3148.83,\n",
       " datetime.date(2021, 9, 13): 3127.86,\n",
       " datetime.date(2021, 9, 10): 3125.76,\n",
       " datetime.date(2021, 9, 9): 3114.7,\n",
       " datetime.date(2021, 9, 8): 3162.99,\n",
       " datetime.date(2021, 9, 7): 3187.42,\n",
       " datetime.date(2021, 9, 6): 3203.33,\n",
       " datetime.date(2021, 9, 3): 3201.06,\n",
       " datetime.date(2021, 9, 2): 3175.85,\n",
       " datetime.date(2021, 9, 1): 3207.02,\n",
       " datetime.date(2021, 8, 31): 3199.27,\n",
       " datetime.date(2021, 8, 30): 3144.19,\n",
       " datetime.date(2021, 8, 27): 3133.9,\n",
       " datetime.date(2021, 8, 26): 3128.53,\n",
       " datetime.date(2021, 8, 25): 3146.81,\n",
       " datetime.date(2021, 8, 24): 3138.3,\n",
       " datetime.date(2021, 8, 23): 3090.21,\n",
       " datetime.date(2021, 8, 20): 3060.51,\n",
       " datetime.date(2021, 8, 19): 3097.83,\n",
       " datetime.date(2021, 8, 18): 3158.93,\n",
       " datetime.date(2021, 8, 17): 3143.09,\n",
       " datetime.date(2021, 8, 13): 3171.29,\n",
       " datetime.date(2021, 8, 12): 3208.38,\n",
       " datetime.date(2021, 8, 11): 3220.62,\n",
       " datetime.date(2021, 8, 10): 3243.19,\n",
       " datetime.date(2021, 8, 9): 3260.42,\n",
       " datetime.date(2021, 8, 6): 3270.36,\n",
       " datetime.date(2021, 8, 5): 3276.13,\n",
       " datetime.date(2021, 8, 4): 3280.38,\n",
       " datetime.date(2021, 8, 3): 3237.14,\n",
       " datetime.date(2021, 8, 2): 3223.04,\n",
       " datetime.date(2021, 7, 30): 3202.32,\n",
       " datetime.date(2021, 7, 29): 3242.65,\n",
       " datetime.date(2021, 7, 28): 3236.86,\n",
       " datetime.date(2021, 7, 27): 3232.53,\n",
       " datetime.date(2021, 7, 26): 3224.95,\n",
       " datetime.date(2021, 7, 23): 3254.42,\n",
       " datetime.date(2021, 7, 22): 3250.21,\n",
       " datetime.date(2021, 7, 21): 3215.91,\n",
       " datetime.date(2021, 7, 20): 3232.7,\n",
       " datetime.date(2021, 7, 19): 3244.04,\n",
       " datetime.date(2021, 7, 16): 3276.91,\n",
       " datetime.date(2021, 7, 15): 3286.22,\n",
       " datetime.date(2021, 7, 14): 3264.81,\n",
       " datetime.date(2021, 7, 13): 3271.38,\n",
       " datetime.date(2021, 7, 12): 3246.47,\n",
       " datetime.date(2021, 7, 9): 3217.95,\n",
       " datetime.date(2021, 7, 8): 3252.68,\n",
       " datetime.date(2021, 7, 7): 3285.34,\n",
       " datetime.date(2021, 7, 6): 3305.21,\n",
       " datetime.date(2021, 7, 5): 3293.21,\n",
       " datetime.date(2021, 7, 2): 3281.78,\n",
       " datetime.date(2021, 7, 1): 3282.06,\n",
       " datetime.date(2021, 6, 30): 3296.68,\n",
       " datetime.date(2021, 6, 29): 3286.68,\n",
       " datetime.date(2021, 6, 28): 3301.89,\n",
       " datetime.date(2021, 6, 25): 3302.84,\n",
       " datetime.date(2021, 6, 24): 3286.1,\n",
       " datetime.date(2021, 6, 23): 3276.19,\n",
       " datetime.date(2021, 6, 22): 3263.88,\n",
       " datetime.date(2021, 6, 21): 3240.79,\n",
       " datetime.date(2021, 6, 18): 3267.93,\n",
       " datetime.date(2021, 6, 17): 3264.96,\n",
       " datetime.date(2021, 6, 16): 3278.68,\n",
       " datetime.date(2021, 6, 15): 3258.63,\n",
       " datetime.date(2021, 6, 14): 3252.13,\n",
       " datetime.date(2021, 6, 11): 3249.32,\n",
       " datetime.date(2021, 6, 10): 3224.64,\n",
       " datetime.date(2021, 6, 9): 3216.18,\n",
       " datetime.date(2021, 6, 8): 3247.83,\n",
       " datetime.date(2021, 6, 7): 3252.12,\n",
       " datetime.date(2021, 6, 4): 3240.08,\n",
       " datetime.date(2021, 6, 3): 3247.43,\n",
       " datetime.date(2021, 6, 2): 3224.23,\n",
       " datetime.date(2021, 6, 1): 3221.87,\n",
       " datetime.date(2021, 5, 31): 3203.92,\n",
       " datetime.date(2021, 5, 28): 3188.73,\n",
       " datetime.date(2021, 5, 27): 3165.51,\n",
       " datetime.date(2021, 5, 26): 3168.43,\n",
       " datetime.date(2021, 5, 25): 3171.32,\n",
       " datetime.date(2021, 5, 24): 3144.3,\n",
       " datetime.date(2021, 5, 21): 3156.42,\n",
       " datetime.date(2021, 5, 20): 3162.28,\n",
       " datetime.date(2021, 5, 18): 3173.05,\n",
       " datetime.date(2021, 5, 17): 3134.52,\n",
       " datetime.date(2021, 5, 14): 3153.32,\n",
       " datetime.date(2021, 5, 13): 3122.11,\n",
       " datetime.date(2021, 5, 12): 3161.66,\n",
       " datetime.date(2021, 5, 11): 3209.43,\n",
       " datetime.date(2021, 5, 10): 3249.3,\n",
       " datetime.date(2021, 5, 7): 3197.2,\n",
       " datetime.date(2021, 5, 6): 3178.74,\n",
       " datetime.date(2021, 5, 4): 3147.37,\n",
       " datetime.date(2021, 5, 3): 3127.2,\n",
       " datetime.date(2021, 4, 30): 3147.86,\n",
       " datetime.date(2021, 4, 29): 3174.07,\n",
       " datetime.date(2021, 4, 28): 3181.47,\n",
       " datetime.date(2021, 4, 27): 3215.42,\n",
       " datetime.date(2021, 4, 26): 3217.53,\n",
       " datetime.date(2021, 4, 23): 3186.1,\n",
       " datetime.date(2021, 4, 22): 3177.52,\n",
       " datetime.date(2021, 4, 21): 3171.66,\n",
       " datetime.date(2021, 4, 20): 3220.7,\n",
       " datetime.date(2021, 4, 19): 3198.84,\n",
       " datetime.date(2021, 4, 16): 3198.62,\n",
       " datetime.date(2021, 4, 15): 3194.33,\n",
       " datetime.date(2021, 4, 14): 3182.38,\n",
       " datetime.date(2021, 4, 13): 3169.08,\n",
       " datetime.date(2021, 4, 12): 3135.59,\n",
       " datetime.date(2021, 4, 9): 3131.88,\n",
       " datetime.date(2021, 4, 8): 3143.26,\n",
       " datetime.date(2021, 4, 7): 3137.41,\n",
       " datetime.date(2021, 4, 6): 3127.08,\n",
       " datetime.date(2021, 4, 5): 3120.83,\n",
       " datetime.date(2021, 4, 2): 3112.8,\n",
       " datetime.date(2021, 4, 1): 3087.4,\n",
       " datetime.date(2021, 3, 31): 3061.42,\n",
       " datetime.date(2021, 3, 30): 3070.0,\n",
       " datetime.date(2021, 3, 29): 3036.04,\n",
       " datetime.date(2021, 3, 26): 3041.01,\n",
       " datetime.date(2021, 3, 25): 3008.33,\n",
       " datetime.date(2021, 3, 24): 2996.35,\n",
       " datetime.date(2021, 3, 23): 3004.74,\n",
       " datetime.date(2021, 3, 22): 3035.46,\n",
       " datetime.date(2021, 3, 19): 3039.53,\n",
       " datetime.date(2021, 3, 18): 3066.01,\n",
       " datetime.date(2021, 3, 17): 3047.5,\n",
       " datetime.date(2021, 3, 16): 3067.17,\n",
       " datetime.date(2021, 3, 15): 3045.71,\n",
       " datetime.date(2021, 3, 12): 3054.39,\n",
       " datetime.date(2021, 3, 11): 3013.7,\n",
       " datetime.date(2021, 3, 10): 2958.12,\n",
       " datetime.date(2021, 3, 9): 2976.12,\n",
       " datetime.date(2021, 3, 8): 2996.11,\n",
       " datetime.date(2021, 3, 5): 3026.26,\n",
       " datetime.date(2021, 3, 4): 3043.49,\n",
       " datetime.date(2021, 3, 3): 3082.99,\n",
       " datetime.date(2021, 3, 2): 3043.87,\n",
       " datetime.date(2021, 2, 26): 3012.95,\n",
       " datetime.date(2021, 2, 25): 3099.69,\n",
       " datetime.date(2021, 2, 24): 2994.98,\n",
       " datetime.date(2021, 2, 23): 3070.09,\n",
       " datetime.date(2021, 2, 22): 3079.75,\n",
       " datetime.date(2021, 2, 19): 3107.62,\n",
       " datetime.date(2021, 2, 18): 3086.66,\n",
       " datetime.date(2021, 2, 17): 3133.73,\n",
       " datetime.date(2021, 2, 16): 3163.25,\n",
       " datetime.date(2021, 2, 15): 3147.0,\n",
       " datetime.date(2021, 2, 10): 3100.58,\n",
       " datetime.date(2021, 2, 9): 3084.67,\n",
       " datetime.date(2021, 2, 8): 3091.24,\n",
       " datetime.date(2021, 2, 5): 3120.63,\n",
       " datetime.date(2021, 2, 4): 3087.55,\n",
       " datetime.date(2021, 2, 3): 3129.68,\n",
       " datetime.date(2021, 2, 2): 3096.81,\n",
       " datetime.date(2021, 2, 1): 3056.53,\n",
       " datetime.date(2021, 1, 29): 2976.21,\n",
       " datetime.date(2021, 1, 28): 3069.05,\n",
       " datetime.date(2021, 1, 27): 3122.56,\n",
       " datetime.date(2021, 1, 26): 3140.31,\n",
       " datetime.date(2021, 1, 25): 3208.99,\n",
       " datetime.date(2021, 1, 22): 3140.63,\n",
       " datetime.date(2021, 1, 21): 3160.84,\n",
       " datetime.date(2021, 1, 20): 3114.55,\n",
       " datetime.date(2021, 1, 19): 3092.66,\n",
       " datetime.date(2021, 1, 18): 3013.93,\n",
       " datetime.date(2021, 1, 15): 3085.9,\n",
       " datetime.date(2021, 1, 14): 3149.93,\n",
       " datetime.date(2021, 1, 13): 3148.29,\n",
       " datetime.date(2021, 1, 12): 3125.95,\n",
       " datetime.date(2021, 1, 11): 3148.45,\n",
       " datetime.date(2021, 1, 8): 3152.18,\n",
       " datetime.date(2021, 1, 7): 3031.68,\n",
       " datetime.date(2021, 1, 6): 2968.21,\n",
       " datetime.date(2021, 1, 5): 2990.57,\n",
       " datetime.date(2021, 1, 4): 2944.45}"
      ]
     },
     "execution_count": 29,
     "metadata": {},
     "output_type": "execute_result"
    }
   ],
   "source": [
    "index_cd = 'KOSPI'\n",
    "historical_prices = dict()\n",
    "historical_index_naver(index_cd, '2021-1-1', '2021-12-31')\n",
    "historical_prices"
   ]
  },
  {
   "cell_type": "code",
   "execution_count": 35,
   "metadata": {},
   "outputs": [],
   "source": [
    "import pandas as pd"
   ]
  },
  {
   "cell_type": "code",
   "execution_count": 39,
   "metadata": {},
   "outputs": [
    {
     "name": "stdout",
     "output_type": "stream",
     "text": [
      "Requirement already satisfied: pandas in c:\\users\\김무현\\appdata\\local\\programs\\python\\python39\\lib\\site-packages (1.4.1)\n",
      "Requirement already satisfied: python-dateutil>=2.8.1 in c:\\users\\김무현\\appdata\\local\\programs\\python\\python39\\lib\\site-packages (from pandas) (2.8.2)\n",
      "Requirement already satisfied: numpy>=1.18.5 in c:\\users\\김무현\\appdata\\local\\programs\\python\\python39\\lib\\site-packages (from pandas) (1.22.3)\n",
      "Requirement already satisfied: pytz>=2020.1 in c:\\users\\김무현\\appdata\\local\\programs\\python\\python39\\lib\\site-packages (from pandas) (2021.3)\n",
      "Requirement already satisfied: six>=1.5 in c:\\users\\김무현\\appdata\\local\\programs\\python\\python39\\lib\\site-packages (from python-dateutil>=2.8.1->pandas) (1.16.0)\n",
      "Note: you may need to restart the kernel to use updated packages.\n"
     ]
    },
    {
     "name": "stderr",
     "output_type": "stream",
     "text": [
      "WARNING: You are using pip version 22.0.3; however, version 22.0.4 is available.\n",
      "You should consider upgrading via the 'C:\\Users\\김무현\\AppData\\Local\\Programs\\Python\\Python39\\python.exe -m pip install --upgrade pip' command.\n"
     ]
    }
   ],
   "source": [
    "pip install pandas"
   ]
  },
  {
   "cell_type": "code",
   "execution_count": 44,
   "metadata": {},
   "outputs": [
    {
     "data": {
      "text/html": [
       "<div>\n",
       "<style scoped>\n",
       "    .dataframe tbody tr th:only-of-type {\n",
       "        vertical-align: middle;\n",
       "    }\n",
       "\n",
       "    .dataframe tbody tr th {\n",
       "        vertical-align: top;\n",
       "    }\n",
       "\n",
       "    .dataframe thead th {\n",
       "        text-align: right;\n",
       "    }\n",
       "</style>\n",
       "<table border=\"1\" class=\"dataframe\">\n",
       "  <thead>\n",
       "    <tr style=\"text-align: right;\">\n",
       "      <th></th>\n",
       "      <th>KOSPI</th>\n",
       "    </tr>\n",
       "  </thead>\n",
       "  <tbody>\n",
       "    <tr>\n",
       "      <th>2021-01-04</th>\n",
       "      <td>2944.45</td>\n",
       "    </tr>\n",
       "    <tr>\n",
       "      <th>2021-01-05</th>\n",
       "      <td>2990.57</td>\n",
       "    </tr>\n",
       "    <tr>\n",
       "      <th>2021-01-06</th>\n",
       "      <td>2968.21</td>\n",
       "    </tr>\n",
       "  </tbody>\n",
       "</table>\n",
       "</div>"
      ],
      "text/plain": [
       "              KOSPI\n",
       "2021-01-04  2944.45\n",
       "2021-01-05  2990.57\n",
       "2021-01-06  2968.21"
      ]
     },
     "execution_count": 44,
     "metadata": {},
     "output_type": "execute_result"
    }
   ],
   "source": [
    "kospi = historical_prices\n",
    "KOSPI = pd.DataFrame({'KOSPI' : kospi})\n",
    "KOSPI.head(3)"
   ]
  },
  {
   "cell_type": "code",
   "execution_count": 43,
   "metadata": {},
   "outputs": [
    {
     "name": "stdout",
     "output_type": "stream",
     "text": [
      "Collecting matplotlib\n",
      "  Downloading matplotlib-3.5.1-cp39-cp39-win_amd64.whl (7.2 MB)\n",
      "     ---------------------------------------- 7.2/7.2 MB 7.4 MB/s eta 0:00:00\n",
      "Requirement already satisfied: python-dateutil>=2.7 in c:\\users\\김무현\\appdata\\local\\programs\\python\\python39\\lib\\site-packages (from matplotlib) (2.8.2)\n",
      "Requirement already satisfied: packaging>=20.0 in c:\\users\\김무현\\appdata\\local\\programs\\python\\python39\\lib\\site-packages (from matplotlib) (21.3)\n",
      "Collecting cycler>=0.10\n",
      "  Downloading cycler-0.11.0-py3-none-any.whl (6.4 kB)\n",
      "Collecting pillow>=6.2.0\n",
      "  Downloading Pillow-9.1.0-cp39-cp39-win_amd64.whl (3.3 MB)\n",
      "     ---------------------------------------- 3.3/3.3 MB 5.6 MB/s eta 0:00:00\n",
      "Requirement already satisfied: pyparsing>=2.2.1 in c:\\users\\김무현\\appdata\\local\\programs\\python\\python39\\lib\\site-packages (from matplotlib) (3.0.7)\n",
      "Collecting kiwisolver>=1.0.1\n",
      "  Downloading kiwisolver-1.4.2-cp39-cp39-win_amd64.whl (55 kB)\n",
      "     ---------------------------------------- 55.4/55.4 KB 2.8 MB/s eta 0:00:00\n",
      "Requirement already satisfied: numpy>=1.17 in c:\\users\\김무현\\appdata\\local\\programs\\python\\python39\\lib\\site-packages (from matplotlib) (1.22.3)\n",
      "Collecting fonttools>=4.22.0\n",
      "  Downloading fonttools-4.32.0-py3-none-any.whl (900 kB)\n",
      "     -------------------------------------- 900.8/900.8 KB 8.1 MB/s eta 0:00:00\n",
      "Requirement already satisfied: six>=1.5 in c:\\users\\김무현\\appdata\\local\\programs\\python\\python39\\lib\\site-packages (from python-dateutil>=2.7->matplotlib) (1.16.0)\n",
      "Installing collected packages: pillow, kiwisolver, fonttools, cycler, matplotlib\n",
      "Successfully installed cycler-0.11.0 fonttools-4.32.0 kiwisolver-1.4.2 matplotlib-3.5.1 pillow-9.1.0\n",
      "Note: you may need to restart the kernel to use updated packages.\n"
     ]
    },
    {
     "name": "stderr",
     "output_type": "stream",
     "text": [
      "WARNING: You are using pip version 22.0.3; however, version 22.0.4 is available.\n",
      "You should consider upgrading via the 'C:\\Users\\김무현\\AppData\\Local\\Programs\\Python\\Python39\\python.exe -m pip install --upgrade pip' command.\n"
     ]
    }
   ],
   "source": [
    "pip install matplotlib"
   ]
  },
  {
   "cell_type": "code",
   "execution_count": 45,
   "metadata": {},
   "outputs": [
    {
     "name": "stderr",
     "output_type": "stream",
     "text": [
      "Matplotlib is building the font cache; this may take a moment.\n"
     ]
    }
   ],
   "source": [
    "import matplotlib.pyplot as plt\n",
    "%matplotlib inline"
   ]
  },
  {
   "cell_type": "code",
   "execution_count": 46,
   "metadata": {
    "scrolled": true
   },
   "outputs": [
    {
     "data": {
      "image/png": "[encoded data removed]",
      "text/plain": [
       "<Figure size 720x360 with 1 Axes>"
      ]
     },
     "metadata": {
      "needs_background": "light"
     },
     "output_type": "display_data"
    }
   ],
   "source": [
    "plt.figure(figsize=(10, 5))\n",
    "plt.plot(KOSPI['KOSPI'])\n",
    "plt.grid(True, color='0.7', linestyle=':', linewidth=1)"
   ]
  },
  {
   "cell_type": "code",
   "execution_count": 47,
   "metadata": {},
   "outputs": [
    {
     "data": {
      "image/png": "[encoded data removed]",
      "text/plain": [
       "<Figure size 720x360 with 1 Axes>"
      ]
     },
     "metadata": {
      "needs_background": "light"
     },
     "output_type": "display_data"
    }
   ],
   "source": [
    "plt.figure(figsize=(10, 5))\n",
    "plt.plot(KOSPI['KOSPI']/KOSPI['KOSPI'][0]*100)\n",
    "plt.grid(True, color='0.7', linestyle=':', linewidth=1)"
   ]
  }
 ],
 "metadata": {
  "kernelspec": {
   "display_name": "Python 3",
   "language": "python",
   "name": "python3"
  },
  "language_info": {
   "codemirror_mode": {
    "name": "ipython",
    "version": 3
   },
   "file_extension": ".py",
   "mimetype": "text/x-python",
   "name": "python",
   "nbconvert_exporter": "python",
   "pygments_lexer": "ipython3",
   "version": "3.9.10"
  }
 },
 "nbformat": 4,
 "nbformat_minor": 4
}
