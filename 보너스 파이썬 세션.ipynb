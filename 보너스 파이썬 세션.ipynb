{
 "cells": [
  {
   "cell_type": "markdown",
   "metadata": {},
   "source": [
    "# 보너스 파이썬 세션"
   ]
  },
  {
   "cell_type": "markdown",
   "metadata": {},
   "source": [
    "<a id=\"bonus\"></a>\n",
    "## 보너스 파이썬 세션 목차\n",
    "1. [업무 자동화](#bo1)\n",
    "1. [어플리케이션](#bo2)\n",
    "\n",
    "참고서적: A. Sweigart. (2020). Automate boring stuff with python, 2nd ed."
   ]
  },
  {
   "cell_type": "markdown",
   "metadata": {},
   "source": [
    "<a id=\"bo1\"></a>\n",
    "## 업무 자동화\n",
    "[Back to Top](#bonus)<br>\n",
    "1. [OS](#bo1s1)\n",
    "1. [Xlwings](#bo1s2)\n",
    "1. [PyAutoGUI](#bo1s3)"
   ]
  },
  {
   "cell_type": "markdown",
   "metadata": {},
   "source": [
    "<a id=\"bo1s1\"></a>\n",
    "## OS\n",
    "[Back to Section Top](#bonus)<br>\n",
    "`OS`는 파일 디렉토리와 관련된 정보를 불러오는데 사용하는 패키지<br>\n",
    "파일을 이동하거나 복사하는 등 고수준의 연산이 필요하면 `shutil` 패키지 사용"
   ]
  },
  {
   "cell_type": "code",
   "execution_count": 1,
   "metadata": {},
   "outputs": [],
   "source": [
    "import os"
   ]
  },
  {
   "cell_type": "markdown",
   "metadata": {},
   "source": [
    "`getcwd()` 메소드를 통해 현재 실행중인 파이썬 파일의 경로를 호출"
   ]
  },
  {
   "cell_type": "code",
   "execution_count": 2,
   "metadata": {},
   "outputs": [
    {
     "data": {
      "text/plain": [
       "'C:\\\\Users\\\\jimmy\\\\OneDrive\\\\바탕 화면\\\\취준\\\\Y-FoRM\\\\22-0w\\\\QuantLib & Bonus Python'"
      ]
     },
     "execution_count": 2,
     "metadata": {},
     "output_type": "execute_result"
    }
   ],
   "source": [
    "os.getcwd()"
   ]
  },
  {
   "cell_type": "code",
   "execution_count": 3,
   "metadata": {},
   "outputs": [
    {
     "data": {
      "text/plain": [
       "['C:',\n",
       " 'Users',\n",
       " 'jimmy',\n",
       " 'OneDrive',\n",
       " '바탕 화면',\n",
       " '취준',\n",
       " 'Y-FoRM',\n",
       " '22-0w',\n",
       " 'QuantLib & Bonus Python']"
      ]
     },
     "execution_count": 3,
     "metadata": {},
     "output_type": "execute_result"
    }
   ],
   "source": [
    "os.getcwd().split('\\\\')"
   ]
  },
  {
   "cell_type": "markdown",
   "metadata": {},
   "source": [
    "`listdir()` 메소드를 통해 현재 실행중인 파일의 폴더에 위치한 모든 파일 및 폴더를 확인"
   ]
  },
  {
   "cell_type": "code",
   "execution_count": 4,
   "metadata": {},
   "outputs": [
    {
     "data": {
      "text/plain": [
       "['.ipynb_checkpoints',\n",
       " 'hello.py',\n",
       " 'QuantLib 세션.ipynb',\n",
       " 'QuantLib_조별_조원명1, 조원명2, ...ipynb',\n",
       " 'work',\n",
       " 'yform.ico',\n",
       " 'yform.py',\n",
       " 'yform.spec',\n",
       " '보너스 파이썬 세션.ipynb']"
      ]
     },
     "execution_count": 4,
     "metadata": {},
     "output_type": "execute_result"
    }
   ],
   "source": [
    "os.listdir()"
   ]
  },
  {
   "cell_type": "code",
   "execution_count": 5,
   "metadata": {},
   "outputs": [
    {
     "name": "stdout",
     "output_type": "stream",
     "text": [
      "C:\\Users\\jimmy\\OneDrive\\바탕 화면\\취준\\Y-FoRM\\22-0w\\QuantLib & Bonus Python\n",
      "['.ipynb_checkpoints', 'work']\n",
      "['hello.py', 'QuantLib 세션.ipynb', 'QuantLib_조별_조원명1, 조원명2, ...ipynb', 'yform.ico', 'yform.py', 'yform.spec', '보너스 파이썬 세션.ipynb']\n",
      "C:\\Users\\jimmy\\OneDrive\\바탕 화면\\취준\\Y-FoRM\\22-0w\\QuantLib & Bonus Python\\.ipynb_checkpoints\n",
      "[]\n",
      "['QuantLib 세션-checkpoint.ipynb', 'QuantLib_조별_조원명1, 조원명2, ..-checkpoint.ipynb', '보너스 파이썬 세션-checkpoint.ipynb']\n",
      "C:\\Users\\jimmy\\OneDrive\\바탕 화면\\취준\\Y-FoRM\\22-0w\\QuantLib & Bonus Python\\work\n",
      "['.ipynb_checkpoints', 'group1', 'group2', 'group3']\n",
      "[]\n",
      "C:\\Users\\jimmy\\OneDrive\\바탕 화면\\취준\\Y-FoRM\\22-0w\\QuantLib & Bonus Python\\work\\.ipynb_checkpoints\n",
      "[]\n",
      "[]\n",
      "C:\\Users\\jimmy\\OneDrive\\바탕 화면\\취준\\Y-FoRM\\22-0w\\QuantLib & Bonus Python\\work\\group1\n",
      "[]\n",
      "['xl1.xlsx', 'xl2.xlsx', 'xl3.xlsx']\n",
      "C:\\Users\\jimmy\\OneDrive\\바탕 화면\\취준\\Y-FoRM\\22-0w\\QuantLib & Bonus Python\\work\\group2\n",
      "[]\n",
      "['xl4.xlsx', 'xl5.xlsx', 'xl6.xlsx']\n",
      "C:\\Users\\jimmy\\OneDrive\\바탕 화면\\취준\\Y-FoRM\\22-0w\\QuantLib & Bonus Python\\work\\group3\n",
      "[]\n",
      "['xl7.xlsx', 'xl8.xlsx', 'xl9.xlsx']\n"
     ]
    }
   ],
   "source": [
    "for root, directory, file in os.walk(os.getcwd()):\n",
    "    print(root)\n",
    "    print(directory)\n",
    "    print(file)"
   ]
  },
  {
   "cell_type": "markdown",
   "metadata": {},
   "source": [
    "`mkdir`로 경로를 생성하고 `rename`으로 이름을 바꾸고 `remove`로 파일을 `removedirs`로 폴더를 삭제<br>\n",
    "이때 파일 삭제의 경우 해당 경로에 권한을 부여해야하며 (`chmod`) 코드는 0o777<br>\n",
    "백슬래시(\\\\)의 경우 따옴표 내에 입력하려면 \\\\\\\\로 입력해야하나 따옴표 앞에 r을 붙여 그대로 인식 가능"
   ]
  },
  {
   "cell_type": "code",
   "execution_count": 6,
   "metadata": {},
   "outputs": [
    {
     "data": {
      "text/plain": [
       "['.ipynb_checkpoints', 'group1', 'group2', 'group3', 'group4']"
      ]
     },
     "execution_count": 6,
     "metadata": {},
     "output_type": "execute_result"
    }
   ],
   "source": [
    "group4_path = r'.\\work\\group4'\n",
    "os.mkdir(r'.\\work\\group4')\n",
    "os.listdir(r'.\\work')"
   ]
  },
  {
   "cell_type": "code",
   "execution_count": 7,
   "metadata": {},
   "outputs": [
    {
     "data": {
      "text/plain": [
       "['.ipynb_checkpoints', 'group1', 'group2', 'group3', 'group5']"
      ]
     },
     "execution_count": 7,
     "metadata": {},
     "output_type": "execute_result"
    }
   ],
   "source": [
    "os.rename(r'.\\work\\group4', r'.\\work\\group5')\n",
    "os.listdir(r'.\\work')"
   ]
  },
  {
   "cell_type": "code",
   "execution_count": 8,
   "metadata": {},
   "outputs": [
    {
     "data": {
      "text/plain": [
       "['.ipynb_checkpoints', 'group1', 'group2', 'group3']"
      ]
     },
     "execution_count": 8,
     "metadata": {},
     "output_type": "execute_result"
    }
   ],
   "source": [
    "os.chmod(r'.\\work\\group5', 0o777)\n",
    "os.removedirs(r'.\\work\\group5')\n",
    "os.listdir(r'.\\work')"
   ]
  },
  {
   "cell_type": "markdown",
   "metadata": {},
   "source": [
    "`abspath`로 상대경로의 절대경로를, `dirname`을 이용하여 파일의 경로를, `basename`을 이용하여 파일의 파일명을 확인<br>\n",
    "`path.split`은 "
   ]
  },
  {
   "cell_type": "code",
   "execution_count": 9,
   "metadata": {},
   "outputs": [
    {
     "data": {
      "text/plain": [
       "'C:\\\\Users\\\\jimmy\\\\OneDrive\\\\바탕 화면\\\\취준\\\\Y-FoRM\\\\22-0w\\\\QuantLib & Bonus Python\\\\work'"
      ]
     },
     "execution_count": 9,
     "metadata": {},
     "output_type": "execute_result"
    }
   ],
   "source": [
    "os.path.abspath(r'.\\work')"
   ]
  },
  {
   "cell_type": "code",
   "execution_count": 10,
   "metadata": {},
   "outputs": [
    {
     "data": {
      "text/plain": [
       "'.\\\\work\\\\group1'"
      ]
     },
     "execution_count": 10,
     "metadata": {},
     "output_type": "execute_result"
    }
   ],
   "source": [
    "os.path.dirname(r'.\\work\\group1\\xl1.xlsx')"
   ]
  },
  {
   "cell_type": "code",
   "execution_count": 11,
   "metadata": {},
   "outputs": [
    {
     "data": {
      "text/plain": [
       "'xl1.xlsx'"
      ]
     },
     "execution_count": 11,
     "metadata": {},
     "output_type": "execute_result"
    }
   ],
   "source": [
    " os.path.basename(r'.\\work\\group1\\xl1.xlsx')"
   ]
  },
  {
   "cell_type": "code",
   "execution_count": 12,
   "metadata": {},
   "outputs": [
    {
     "name": "stdout",
     "output_type": "stream",
     "text": [
      ".\\work\\group1\n",
      "xl1.xlsx\n"
     ]
    }
   ],
   "source": [
    "dir, file = os.path.split(r'.\\work\\group1\\xl1.xlsx')\n",
    "print(dir)\n",
    "print(file)"
   ]
  },
  {
   "cell_type": "code",
   "execution_count": 13,
   "metadata": {},
   "outputs": [
    {
     "data": {
      "text/plain": [
       "'.\\\\work\\\\group1\\\\xl1.xlsx'"
      ]
     },
     "execution_count": 13,
     "metadata": {},
     "output_type": "execute_result"
    }
   ],
   "source": [
    "os.path.join(r'.\\work', 'group1', 'xl1.xlsx')"
   ]
  },
  {
   "cell_type": "markdown",
   "metadata": {},
   "source": [
    "<a id=\"bo1s2\"></a>\n",
    "## Xlwings\n",
    "[Back to Section Top](#bonus)<br>\n",
    "`Xlwings`는 엑셀 파일을 조작하는데 사용하는 패키지로 물리적으로 엑셀을 실행시켜 기능이 많으나 속도가 느림<br>\n",
    "단순히 특정 셀의 값을 불러오거나 간단한 편집에는 파일을 열지 않고 작동하는 `openpyxl` 사용을 추천<br>\n",
    "단, `openpyxl`은 기능이 제한적이며 무엇보다 파일을 읽을 때 시트에 존재하는 차트와 이미지를 읽지 못해<br>\n",
    "이미지가 담긴 엑셀을 `openpyxl`로 다른이름저장 시 이미지가 사라지는 문제 존재<br>\n",
    "<br>\n",
    "참고로 업무자동화에 있어 이미지를 다룰 시 PIL, 워드를 다룰 시 docx, pdf를 다룰 시 PyPDF2 등의 패키지가 있으며<br>\n",
    "관련된 사용법은 pdf 버전이 공개된 위 참고 서적에 예시와 함께 상세한 설명을 제공"
   ]
  },
  {
   "cell_type": "code",
   "execution_count": 14,
   "metadata": {},
   "outputs": [
    {
     "name": "stdout",
     "output_type": "stream",
     "text": [
      "Requirement already satisfied: xlwings in c:\\users\\jimmy\\anaconda3\\lib\\site-packages (0.20.8)\n",
      "Requirement already satisfied: comtypes in c:\\users\\jimmy\\anaconda3\\lib\\site-packages (from xlwings) (1.1.7)\n",
      "Requirement already satisfied: pywin32>=224 in c:\\users\\jimmy\\anaconda3\\lib\\site-packages (from xlwings) (227)\n"
     ]
    }
   ],
   "source": [
    "!pip install xlwings"
   ]
  },
  {
   "cell_type": "code",
   "execution_count": 15,
   "metadata": {},
   "outputs": [],
   "source": [
    "import xlwings"
   ]
  },
  {
   "cell_type": "code",
   "execution_count": 16,
   "metadata": {},
   "outputs": [],
   "source": [
    "import time"
   ]
  },
  {
   "cell_type": "code",
   "execution_count": 17,
   "metadata": {},
   "outputs": [
    {
     "name": "stdout",
     "output_type": "stream",
     "text": [
      "이름: 홍일동\n",
      "생년월일: 900101\n",
      "지점: 서울점\n",
      "방문일: 월요일\n"
     ]
    }
   ],
   "source": [
    "wb = xlwings.Book(r'.\\work\\group1\\xl1.xlsx')\n",
    "ws = wb.sheets['Sheet1']\n",
    "time.sleep(1)\n",
    "print(\"{}: {}\".format(ws.range('A1').value, ws.range('B1').value))\n",
    "print(\"{}: {}\".format(ws.range('A2').value, int(ws.range('B2').value)))\n",
    "print(\"{}: {}\".format(ws.range('A3').value, ws.range('B3').value))\n",
    "print(\"{}: {}\".format(ws.range('A4').value, ws.range('B4').value))\n",
    "xlwings.apps.active.kill()"
   ]
  },
  {
   "cell_type": "markdown",
   "metadata": {},
   "source": [
    "문제 상황: 입력 오류로 생년월일 혹은 지점이 누락된 고객 다수 발견<br>\n",
    "Work 폴더 하의 group1, 2, 3 폴더의 엑셀의 정보가 누락된 파일의 누락된 정보와 파일명을 모두 반환<br>\n",
    "또한 방문일이 월요일인 모든 고객의 방문일을 화요일로 변경"
   ]
  },
  {
   "cell_type": "code",
   "execution_count": 18,
   "metadata": {},
   "outputs": [
    {
     "name": "stdout",
     "output_type": "stream",
     "text": [
      "C:\\Users\\jimmy\\OneDrive\\바탕 화면\\취준\\Y-FoRM\\22-0w\\QuantLib & Bonus Python\\work\n",
      "['.ipynb_checkpoints', 'group1', 'group2', 'group3']\n"
     ]
    }
   ],
   "source": [
    "folder_path = os.path.join(os.getcwd(), 'work')\n",
    "folder_list = os.listdir(folder_path)\n",
    "print(folder_path)\n",
    "print(folder_list)"
   ]
  },
  {
   "cell_type": "code",
   "execution_count": 19,
   "metadata": {},
   "outputs": [
    {
     "name": "stdout",
     "output_type": "stream",
     "text": [
      "C:\\Users\\jimmy\\OneDrive\\바탕 화면\\취준\\Y-FoRM\\22-0w\\QuantLib & Bonus Python\\work\\.ipynb_checkpoints\n",
      "[]\n",
      "C:\\Users\\jimmy\\OneDrive\\바탕 화면\\취준\\Y-FoRM\\22-0w\\QuantLib & Bonus Python\\work\\group1\n",
      "['xl1.xlsx', 'xl2.xlsx', 'xl3.xlsx']\n",
      "C:\\Users\\jimmy\\OneDrive\\바탕 화면\\취준\\Y-FoRM\\22-0w\\QuantLib & Bonus Python\\work\\group2\n",
      "['xl4.xlsx', 'xl5.xlsx', 'xl6.xlsx']\n",
      "C:\\Users\\jimmy\\OneDrive\\바탕 화면\\취준\\Y-FoRM\\22-0w\\QuantLib & Bonus Python\\work\\group3\n",
      "['xl7.xlsx', 'xl8.xlsx', 'xl9.xlsx']\n"
     ]
    }
   ],
   "source": [
    "for folder in folder_list:\n",
    "    file_path = os.path.join(folder_path, folder)\n",
    "    file_list = os.listdir(file_path)\n",
    "    print(file_path)\n",
    "    print(file_list)"
   ]
  },
  {
   "cell_type": "code",
   "execution_count": 20,
   "metadata": {},
   "outputs": [
    {
     "name": "stdout",
     "output_type": "stream",
     "text": [
      "C:\\Users\\jimmy\\OneDrive\\바탕 화면\\취준\\Y-FoRM\\22-0w\\QuantLib & Bonus Python\\work\\group1\\xl1.xlsx\n",
      "C:\\Users\\jimmy\\OneDrive\\바탕 화면\\취준\\Y-FoRM\\22-0w\\QuantLib & Bonus Python\\work\\group1\\xl2.xlsx\n",
      "C:\\Users\\jimmy\\OneDrive\\바탕 화면\\취준\\Y-FoRM\\22-0w\\QuantLib & Bonus Python\\work\\group1\\xl3.xlsx\n",
      "C:\\Users\\jimmy\\OneDrive\\바탕 화면\\취준\\Y-FoRM\\22-0w\\QuantLib & Bonus Python\\work\\group2\\xl4.xlsx\n",
      "C:\\Users\\jimmy\\OneDrive\\바탕 화면\\취준\\Y-FoRM\\22-0w\\QuantLib & Bonus Python\\work\\group2\\xl5.xlsx\n",
      "C:\\Users\\jimmy\\OneDrive\\바탕 화면\\취준\\Y-FoRM\\22-0w\\QuantLib & Bonus Python\\work\\group2\\xl6.xlsx\n",
      "C:\\Users\\jimmy\\OneDrive\\바탕 화면\\취준\\Y-FoRM\\22-0w\\QuantLib & Bonus Python\\work\\group3\\xl7.xlsx\n",
      "C:\\Users\\jimmy\\OneDrive\\바탕 화면\\취준\\Y-FoRM\\22-0w\\QuantLib & Bonus Python\\work\\group3\\xl8.xlsx\n",
      "C:\\Users\\jimmy\\OneDrive\\바탕 화면\\취준\\Y-FoRM\\22-0w\\QuantLib & Bonus Python\\work\\group3\\xl9.xlsx\n"
     ]
    }
   ],
   "source": [
    "for folder in folder_list:\n",
    "    file_path = os.path.join(folder_path, folder)\n",
    "    file_list = os.listdir(file_path)\n",
    "    for file in file_list:\n",
    "        if os.path.splitext(file)[-1] != '.xlsx':\n",
    "            continue\n",
    "        else:\n",
    "            file_name = os.path.join(file_path, file)\n",
    "            print(file_name)"
   ]
  },
  {
   "cell_type": "markdown",
   "metadata": {},
   "source": [
    "이제 각 엑셀 파일을 열고 값이 None 인지 확인하여 출력<br>\n",
    "(미리 홍일동 홍삼동 월요일인지 확인)"
   ]
  },
  {
   "cell_type": "code",
   "execution_count": 21,
   "metadata": {},
   "outputs": [
    {
     "name": "stdout",
     "output_type": "stream",
     "text": [
      "홍일동 고객 방문일 월요일에서 화요일로 변경\n",
      "C:\\Users\\jimmy\\OneDrive\\바탕 화면\\취준\\Y-FoRM\\22-0w\\QuantLib & Bonus Python\\work\\group1\\xl2.xlsx 파일의 생년월일 정보 누락\n",
      "C:\\Users\\jimmy\\OneDrive\\바탕 화면\\취준\\Y-FoRM\\22-0w\\QuantLib & Bonus Python\\work\\group1\\xl3.xlsx 파일의 지점 정보 누락\n",
      "홍삼동 고객 방문일 월요일에서 화요일로 변경\n",
      "C:\\Users\\jimmy\\OneDrive\\바탕 화면\\취준\\Y-FoRM\\22-0w\\QuantLib & Bonus Python\\work\\group2\\xl5.xlsx 파일의 생년월일 정보 누락\n",
      "C:\\Users\\jimmy\\OneDrive\\바탕 화면\\취준\\Y-FoRM\\22-0w\\QuantLib & Bonus Python\\work\\group2\\xl5.xlsx 파일의 지점 정보 누락\n",
      "C:\\Users\\jimmy\\OneDrive\\바탕 화면\\취준\\Y-FoRM\\22-0w\\QuantLib & Bonus Python\\work\\group3\\xl7.xlsx 파일의 지점 정보 누락\n",
      "C:\\Users\\jimmy\\OneDrive\\바탕 화면\\취준\\Y-FoRM\\22-0w\\QuantLib & Bonus Python\\work\\group3\\xl8.xlsx 파일의 지점 정보 누락\n",
      "C:\\Users\\jimmy\\OneDrive\\바탕 화면\\취준\\Y-FoRM\\22-0w\\QuantLib & Bonus Python\\work\\group3\\xl9.xlsx 파일의 지점 정보 누락\n",
      "\n",
      "\n",
      "총 9개 파일에서 7개의 정보 누락 발견!\n",
      "총 2명의 고객 방문일 월요일에서 화요일로 변경!!\n"
     ]
    }
   ],
   "source": [
    "total_count = 0\n",
    "error_count = 0\n",
    "change_count = 0\n",
    "\n",
    "folder_path = os.path.join(os.getcwd(), 'work')\n",
    "folder_list = os.listdir(folder_path)\n",
    "for folder in folder_list:\n",
    "    file_path = os.path.join(folder_path, folder)\n",
    "    file_list = os.listdir(file_path)\n",
    "    for file in file_list:\n",
    "        total_count += 1\n",
    "        if os.path.splitext(file)[-1] != '.xlsx':\n",
    "            continue\n",
    "        else:\n",
    "            file_name = os.path.join(file_path, file)\n",
    "            wb = xlwings.Book(file_name)\n",
    "            ws = wb.sheets['Sheet1']\n",
    "            \n",
    "            for i in range(3):\n",
    "                if ws.range('B' + str(i + 1)).value == None:\n",
    "                    error_count += 1\n",
    "                    print(\"{} 파일의 {} 정보 누락\".format(file_name, ws.range('A' + str(i + 1)).value))\n",
    "                else:\n",
    "                    pass\n",
    "            \n",
    "            if ws.range('B4').value == \"월요일\":\n",
    "                ws.range('B4').value = \"화요일\"\n",
    "                wb.save(file_name)\n",
    "                \n",
    "                change_count += 1\n",
    "                print(\"{} 고객 방문일 월요일에서 화요일로 변경\".format(ws.range('B1').value))\n",
    "            else:\n",
    "                pass\n",
    "            xlwings.apps.active.kill()\n",
    "\n",
    "print(\"\\n\")\n",
    "print(\"총 {}개 파일에서 {}개의 정보 누락 발견!\".format(total_count, error_count))\n",
    "print(\"총 {}명의 고객 방문일 월요일에서 화요일로 변경!!\".format(change_count))"
   ]
  },
  {
   "cell_type": "markdown",
   "metadata": {},
   "source": [
    "<a id=\"bo1s3\"></a>\n",
    "## Pyautogui\n",
    "[Back to Section Top](#bonus)<br>\n",
    "`Pyautogui`는 키보드와 마우스를 조작하여 동작을 자동화하는 매크로 패키지<br>\n",
    "키보드의 입력을 불러와야하는 경우 `keyboard` 패키지를 호출하여 함께 사용"
   ]
  },
  {
   "cell_type": "code",
   "execution_count": 22,
   "metadata": {},
   "outputs": [
    {
     "name": "stdout",
     "output_type": "stream",
     "text": [
      "Requirement already satisfied: pyautogui in c:\\users\\jimmy\\anaconda3\\lib\\site-packages (0.9.53)\n",
      "Requirement already satisfied: pymsgbox in c:\\users\\jimmy\\anaconda3\\lib\\site-packages (from pyautogui) (1.0.9)\n",
      "Requirement already satisfied: pyscreeze>=0.1.21 in c:\\users\\jimmy\\anaconda3\\lib\\site-packages (from pyautogui) (0.1.28)\n",
      "Requirement already satisfied: pygetwindow>=0.0.5 in c:\\users\\jimmy\\anaconda3\\lib\\site-packages (from pyautogui) (0.0.9)\n",
      "Requirement already satisfied: PyTweening>=1.0.1 in c:\\users\\jimmy\\anaconda3\\lib\\site-packages (from pyautogui) (1.0.4)\n",
      "Requirement already satisfied: mouseinfo in c:\\users\\jimmy\\anaconda3\\lib\\site-packages (from pyautogui) (0.1.3)\n",
      "Requirement already satisfied: pyrect in c:\\users\\jimmy\\anaconda3\\lib\\site-packages (from pygetwindow>=0.0.5->pyautogui) (0.1.4)\n",
      "Requirement already satisfied: Pillow>=6.2.1 in c:\\users\\jimmy\\anaconda3\\lib\\site-packages (from pyscreeze>=0.1.21->pyautogui) (8.0.1)\n",
      "Requirement already satisfied: pyperclip in c:\\users\\jimmy\\anaconda3\\lib\\site-packages (from mouseinfo->pyautogui) (1.8.2)\n"
     ]
    }
   ],
   "source": [
    "!pip install pyautogui"
   ]
  },
  {
   "cell_type": "code",
   "execution_count": 23,
   "metadata": {},
   "outputs": [],
   "source": [
    "import pyautogui"
   ]
  },
  {
   "cell_type": "markdown",
   "metadata": {},
   "source": [
    "`sleep`로 타임 슬립을 지정할 수 있으며 `countdown`시 시간을 출력하며 슬립<br>\n",
    "`PAUSE` 설정시 모든 `pyautogui` 이벤트의 간격을 기본값으로 설정"
   ]
  },
  {
   "cell_type": "code",
   "execution_count": 24,
   "metadata": {},
   "outputs": [],
   "source": [
    "pyautogui.sleep(3)"
   ]
  },
  {
   "cell_type": "code",
   "execution_count": 25,
   "metadata": {},
   "outputs": [
    {
     "name": "stdout",
     "output_type": "stream",
     "text": [
      "3 2 1 \n"
     ]
    }
   ],
   "source": [
    "pyautogui.countdown(3)"
   ]
  },
  {
   "cell_type": "code",
   "execution_count": 26,
   "metadata": {},
   "outputs": [],
   "source": [
    "pyautogui.PAUSE = 1\n",
    "\n",
    "for i in range(3):\n",
    "    pyautogui.move(25, 25)"
   ]
  },
  {
   "cell_type": "code",
   "execution_count": 27,
   "metadata": {},
   "outputs": [],
   "source": [
    "pyautogui.PAUSE = 0"
   ]
  },
  {
   "cell_type": "markdown",
   "metadata": {},
   "source": [
    "마우스를 조작할 때 `moveTo`는 절대위치 `move`는 상대위치로 이동하며 `duration`으로 이동 시간 설정<br>\n",
    "`position`은 x와 y좌표를 순서대로 출력하며 `click`, `doubleClick`, `rightClick`, `drag` 등의 조작도 가능\n"
   ]
  },
  {
   "cell_type": "code",
   "execution_count": 28,
   "metadata": {},
   "outputs": [],
   "source": [
    "pyautogui.moveTo(100, 100)"
   ]
  },
  {
   "cell_type": "code",
   "execution_count": 29,
   "metadata": {},
   "outputs": [],
   "source": [
    "pyautogui.moveTo(100, 100, duration=0.25)"
   ]
  },
  {
   "cell_type": "code",
   "execution_count": 30,
   "metadata": {},
   "outputs": [],
   "source": [
    "pyautogui.move(100, 100)"
   ]
  },
  {
   "cell_type": "code",
   "execution_count": 31,
   "metadata": {},
   "outputs": [],
   "source": [
    "pyautogui.move(100, 100, duration=0.25)"
   ]
  },
  {
   "cell_type": "code",
   "execution_count": 32,
   "metadata": {},
   "outputs": [
    {
     "name": "stdout",
     "output_type": "stream",
     "text": [
      "마우스의 x 좌표: 652\n",
      "마우스의 y 좌표: 191\n"
     ]
    }
   ],
   "source": [
    "p = pyautogui.position()\n",
    "print(\"마우스의 x 좌표: {}\".format(p[0]))\n",
    "print(\"마우스의 y 좌표: {}\".format(p[1]))"
   ]
  },
  {
   "cell_type": "code",
   "execution_count": 33,
   "metadata": {},
   "outputs": [],
   "source": [
    "pyautogui.click()"
   ]
  },
  {
   "cell_type": "code",
   "execution_count": 34,
   "metadata": {},
   "outputs": [],
   "source": [
    "pyautogui.click(265, 15)"
   ]
  },
  {
   "cell_type": "code",
   "execution_count": 35,
   "metadata": {},
   "outputs": [],
   "source": [
    "pyautogui.click(265, 15, duration=1)"
   ]
  },
  {
   "cell_type": "code",
   "execution_count": 36,
   "metadata": {},
   "outputs": [],
   "source": [
    "pyautogui.doubleClick()"
   ]
  },
  {
   "cell_type": "code",
   "execution_count": 37,
   "metadata": {},
   "outputs": [],
   "source": [
    "pyautogui.click(clicks=50)"
   ]
  },
  {
   "cell_type": "code",
   "execution_count": 38,
   "metadata": {},
   "outputs": [],
   "source": [
    "pyautogui.rightClick()"
   ]
  },
  {
   "cell_type": "code",
   "execution_count": 39,
   "metadata": {},
   "outputs": [],
   "source": [
    "pyautogui.drag(-100, -150, duration=0.25)"
   ]
  },
  {
   "cell_type": "markdown",
   "metadata": {},
   "source": [
    "`getAllWindows`로 열려있는 창을 출력받고 `getWindowWithTitle`로 특정 창 선택 및 활성화"
   ]
  },
  {
   "cell_type": "code",
   "execution_count": 40,
   "metadata": {},
   "outputs": [
    {
     "name": "stdout",
     "output_type": "stream",
     "text": [
      "<Win32Window left=\"0\", top=\"1040\", width=\"1920\", height=\"40\", title=\"\">\n",
      "<Win32Window left=\"1920\", top=\"824\", width=\"1536\", height=\"40\", title=\"\">\n",
      "<Win32Window left=\"-8\", top=\"-8\", width=\"1936\", height=\"1056\", title=\"JupyterLab - Chrome\">\n",
      "<Win32Window left=\"723\", top=\"441\", width=\"979\", height=\"762\", title=\"제목 없음 - Windows 메모장\">\n",
      "<Win32Window left=\"1913\", top=\"-7\", width=\"1550\", height=\"838\", title=\"QuantLib & Bonus Python\">\n",
      "<Win32Window left=\"1913\", top=\"-7\", width=\"1550\", height=\"838\", title=\"22-0w\">\n",
      "<Win32Window left=\"0\", top=\"0\", width=\"1920\", height=\"1040\", title=\"\">\n",
      "<Win32Window left=\"-32000\", top=\"-32000\", width=\"160\", height=\"28\", title=\"Jupyter Notebook (anaconda3)\">\n",
      "<Win32Window left=\"-32000\", top=\"-32000\", width=\"16\", height=\"16\", title=\"\">\n",
      "<Win32Window left=\"0\", top=\"0\", width=\"0\", height=\"0\", title=\"\">\n",
      "<Win32Window left=\"1935\", top=\"0\", width=\"1521\", height=\"3\", title=\"\">\n",
      "<Win32Window left=\"15\", top=\"0\", width=\"1905\", height=\"4\", title=\"\">\n",
      "<Win32Window left=\"0\", top=\"0\", width=\"0\", height=\"0\", title=\"\">\n",
      "<Win32Window left=\"0\", top=\"0\", width=\"0\", height=\"0\", title=\"\">\n",
      "<Win32Window left=\"0\", top=\"0\", width=\"1920\", height=\"1080\", title=\"Microsoft Text Input Application\">\n",
      "<Win32Window left=\"-32000\", top=\"-32000\", width=\"160\", height=\"28\", title=\"캡처 도구\">\n",
      "<Win32Window left=\"384\", top=\"0\", width=\"3072\", height=\"864\", title=\"Program Manager\">\n"
     ]
    }
   ],
   "source": [
    "for win in pyautogui.getAllWindows():\n",
    "    print(win)"
   ]
  },
  {
   "cell_type": "code",
   "execution_count": 41,
   "metadata": {},
   "outputs": [],
   "source": [
    "# 미리 메모장 실행 후 최소화\n",
    "win = pyautogui.getWindowsWithTitle(\"제목 없음 - Windows 메모장\")[0]\n",
    "if win.isMinimized == True:\n",
    "    win.restore()"
   ]
  },
  {
   "cell_type": "code",
   "execution_count": 42,
   "metadata": {},
   "outputs": [],
   "source": [
    "win.activate()"
   ]
  },
  {
   "cell_type": "code",
   "execution_count": 43,
   "metadata": {},
   "outputs": [],
   "source": [
    "win.activate()\n",
    "pyautogui.sleep(0.5)\n",
    "pyautogui.write(\"12345 \")\n",
    "pyautogui.write(\"Hello\", interval=0.1)"
   ]
  },
  {
   "cell_type": "code",
   "execution_count": 44,
   "metadata": {},
   "outputs": [],
   "source": [
    "win.activate()\n",
    "pyautogui.sleep(0.5)\n",
    "pyautogui.write([\"w\", \"o\", \"r\", \"l\", \"d\", \"left\", \"left\", \"left\", \"left\", \"left\", \"h\", \"i\", \" \", \"enter\"], interval=0.1)"
   ]
  },
  {
   "cell_type": "code",
   "execution_count": 45,
   "metadata": {},
   "outputs": [],
   "source": [
    "pyautogui.sleep(0.5)\n",
    "pyautogui.hotkey(\"ctrl\", \"a\")"
   ]
  },
  {
   "cell_type": "code",
   "execution_count": 46,
   "metadata": {},
   "outputs": [],
   "source": [
    "pyautogui.sleep(0.5)\n",
    "pyautogui.keyDown(\"ctrl\")\n",
    "pyautogui.keyDown(\"a\")\n",
    "pyautogui.keyUp(\"a\")\n",
    "pyautogui.keyUp(\"ctrl\")"
   ]
  },
  {
   "cell_type": "markdown",
   "metadata": {},
   "source": [
    "`locateOnScreen` 메소드를 활용하면 화면에서 이미지와 동일(유사)한 위치를 찾아 클릭하는 것도 가능"
   ]
  },
  {
   "cell_type": "markdown",
   "metadata": {},
   "source": [
    "<a id=\"bo2\"></a>\n",
    "## 어플리케이션\n",
    "[Back to Top](#bonus)<br>\n",
    "1. [PySimpleGUI](#bo2s1)\n",
    "1. [bat 파일](#bo2s2)\n",
    "1. [PyInstaller](#bo2s3)"
   ]
  },
  {
   "cell_type": "markdown",
   "metadata": {},
   "source": [
    "<a id=\"bo2s1\"></a>\n",
    "## PySimpleGUI\n",
    "[Back to Section Top](#bonus)<br>\n",
    "GUI: Graphic User Interface vs TUI: Text User Interface<br>\n",
    "파이썬의 대표적인 GUI 패키지로는 `TkInter`와 `PyQt5`가 있음<br>\n",
    "`PySimpleGUI`는 `TkInter` 기반의 단순화된 GUI로 요소를 자동적으로 배치하고 단순한 적층 구조의 레이아웃"
   ]
  },
  {
   "cell_type": "code",
   "execution_count": 47,
   "metadata": {},
   "outputs": [
    {
     "name": "stdout",
     "output_type": "stream",
     "text": [
      "Requirement already satisfied: PySimpleGUI in c:\\users\\jimmy\\anaconda3\\lib\\site-packages (4.55.1)\n"
     ]
    }
   ],
   "source": [
    "!pip install PySimpleGUI"
   ]
  },
  {
   "cell_type": "code",
   "execution_count": 48,
   "metadata": {},
   "outputs": [],
   "source": [
    "# 1. The Import\n",
    "import PySimpleGUI as sg\n",
    "\n",
    "# 2. Layout Definition\n",
    "layout = [[sg.Text('Enter something: '), sg.Input(key='-IN-')], # 1st floor from the top\n",
    "          [sg.Text('Our output will go here', size=(30,1), key='-OUT-')], # 2nd floor from the top\n",
    "          [sg.Button('OK'), sg.Button('Exit')]] # 3rd floor from the top\n",
    "\n",
    "# 3. Create Window\n",
    "window = sg.Window('Title', layout)\n",
    "\n",
    "# 4. Event Loop\n",
    "while True:\n",
    "    event, values = window.read()\n",
    "    if event == 'OK':\n",
    "        window['-OUT-'].update(values['-IN-'])\n",
    "    elif event == 'Exit' or event == sg.WIN_CLOSED:\n",
    "        break\n",
    "\n",
    "# 5. Close Window\n",
    "window.close()"
   ]
  },
  {
   "cell_type": "markdown",
   "metadata": {},
   "source": [
    "<a id=\"bo2s2\"></a>\n",
    "## bat 파일\n",
    "[Back to Section Top](#bonus)<br>\n",
    "파이썬에 친숙하지 않은 사용자에게 파이썬 실행파일을 보내야하거나 응용프로그램 형태로 만들고 쉽다면 배치 파일 사용을 고려<br>\n",
    ".py 파일을 콘솔(Powershell: shift+F10)에서 실행하는 과정을 배치 파일을 만든다면 자동적으로 진행할 수 있음<br>\n",
    "텍스트 파일을 만들고 확장자를 .txt가 아닌 .bat로 저장하면 배치 파일이 생성되며 텍스트 편집기(메모장)으로 편집 가능\n",
    "```Python\n",
    "@echo off & python -x \"%~f0\" %* & pause & goto :eof\n",
    "\n",
    "print('Hello Python')\n",
    "```\n",
    "만일 특정 패키지가 없을 시 자동으로 설치하도록 요구한다면 다음과 같이 설정\n",
    "```python\n",
    "@echo off & python -x \"%~f0\" %* & pause & goto :eof\n",
    "import sys\n",
    "import subprocess\n",
    "import pkg_resources\n",
    "\n",
    "required = {'name_of_package_1','name_of_package_2'} \n",
    "installed = {pkg.key for pkg in pkg_resources.working_set}\n",
    "missing = required - installed\n",
    "\n",
    "\n",
    "if missing:\n",
    "    # implement pip as a subprocess:\n",
    "    subprocess.check_call([sys.executable, '-m', 'pip', 'install',*missing])\n",
    "```"
   ]
  },
  {
   "cell_type": "markdown",
   "metadata": {},
   "source": [
    "<a id=\"bo2s3\"></a>\n",
    "## PyInstaller\n",
    "[Back to Section Top](#bonus)<br>\n",
    "파이썬 파일을 .exe 형태의 실행 프로그램으로 만들고 싶다면 `PyInstaller` 사용<br>\n",
    "아이콘 사용시 .ico 파일을 포함하고, "
   ]
  },
  {
   "cell_type": "code",
   "execution_count": 49,
   "metadata": {},
   "outputs": [
    {
     "name": "stdout",
     "output_type": "stream",
     "text": [
      "Requirement already satisfied: pyinstaller in c:\\users\\jimmy\\anaconda3\\lib\\site-packages (4.4)\n",
      "Requirement already satisfied: pyinstaller-hooks-contrib>=2020.6 in c:\\users\\jimmy\\anaconda3\\lib\\site-packages (from pyinstaller) (2021.2)\n",
      "Requirement already satisfied: setuptools in c:\\users\\jimmy\\anaconda3\\lib\\site-packages (from pyinstaller) (50.3.1.post20201107)\n",
      "Requirement already satisfied: pywin32-ctypes>=0.2.0 in c:\\users\\jimmy\\anaconda3\\lib\\site-packages (from pyinstaller) (0.2.0)\n",
      "Requirement already satisfied: pefile>=2017.8.1 in c:\\users\\jimmy\\anaconda3\\lib\\site-packages (from pyinstaller) (2021.5.24)\n",
      "Requirement already satisfied: altgraph in c:\\users\\jimmy\\anaconda3\\lib\\site-packages (from pyinstaller) (0.17)\n",
      "Requirement already satisfied: future in c:\\users\\jimmy\\anaconda3\\lib\\site-packages (from pefile>=2017.8.1->pyinstaller) (0.18.2)\n"
     ]
    }
   ],
   "source": [
    "!pip install pyinstaller"
   ]
  },
  {
   "cell_type": "code",
   "execution_count": 50,
   "metadata": {},
   "outputs": [
    {
     "name": "stderr",
     "output_type": "stream",
     "text": [
      "1245 INFO: PyInstaller: 4.4\n",
      "1245 INFO: Python: 3.8.5 (conda)\n",
      "1245 INFO: Platform: Windows-10-10.0.19041-SP0\n",
      "1246 INFO: wrote C:\\Users\\jimmy\\OneDrive\\바탕 화면\\취준\\Y-FoRM\\22-0w\\QuantLib & Bonus Python\\yform.spec\n",
      "1248 INFO: UPX is not available.\n",
      "1252 INFO: Extending PYTHONPATH with paths\n",
      "['C:\\\\Users\\\\jimmy\\\\OneDrive\\\\바탕 화면\\\\취준\\\\Y-FoRM\\\\22-0w\\\\QuantLib & Bonus '\n",
      " 'Python',\n",
      " 'C:\\\\Users\\\\jimmy\\\\OneDrive\\\\바탕 화면\\\\취준\\\\Y-FoRM\\\\22-0w\\\\QuantLib & Bonus '\n",
      " 'Python']\n",
      "1296 INFO: checking Analysis\n",
      "1296 INFO: Building Analysis because Analysis-00.toc is non existent\n",
      "1296 INFO: Initializing module dependency graph...\n",
      "1301 INFO: Caching module graph hooks...\n",
      "1314 INFO: Analyzing base_library.zip ...\n",
      "6116 INFO: Processing pre-find module path hook distutils from 'c:\\\\users\\\\jimmy\\\\anaconda3\\\\lib\\\\site-packages\\\\PyInstaller\\\\hooks\\\\pre_find_module_path\\\\hook-distutils.py'.\n",
      "6117 INFO: distutils: retargeting to non-venv dir 'c:\\\\users\\\\jimmy\\\\anaconda3\\\\lib'\n",
      "9951 INFO: Caching module dependency graph...\n",
      "10188 INFO: running Analysis Analysis-00.toc\n",
      "10202 INFO: Adding Microsoft.Windows.Common-Controls to dependent assemblies of final executable\n",
      "  required by c:\\users\\jimmy\\anaconda3\\python.exe\n",
      "10420 INFO: Analyzing C:\\Users\\jimmy\\OneDrive\\바탕 화면\\취준\\Y-FoRM\\22-0w\\QuantLib & Bonus Python\\yform.py\n",
      "10421 INFO: Processing module hooks...\n",
      "10421 INFO: Loading module hook 'hook-difflib.py' from 'c:\\\\users\\\\jimmy\\\\anaconda3\\\\lib\\\\site-packages\\\\PyInstaller\\\\hooks'...\n",
      "10422 INFO: Loading module hook 'hook-distutils.py' from 'c:\\\\users\\\\jimmy\\\\anaconda3\\\\lib\\\\site-packages\\\\PyInstaller\\\\hooks'...\n",
      "10423 INFO: Loading module hook 'hook-distutils.util.py' from 'c:\\\\users\\\\jimmy\\\\anaconda3\\\\lib\\\\site-packages\\\\PyInstaller\\\\hooks'...\n",
      "10424 INFO: Loading module hook 'hook-encodings.py' from 'c:\\\\users\\\\jimmy\\\\anaconda3\\\\lib\\\\site-packages\\\\PyInstaller\\\\hooks'...\n",
      "10531 INFO: Loading module hook 'hook-heapq.py' from 'c:\\\\users\\\\jimmy\\\\anaconda3\\\\lib\\\\site-packages\\\\PyInstaller\\\\hooks'...\n",
      "10532 INFO: Loading module hook 'hook-lib2to3.py' from 'c:\\\\users\\\\jimmy\\\\anaconda3\\\\lib\\\\site-packages\\\\PyInstaller\\\\hooks'...\n",
      "10582 INFO: Loading module hook 'hook-multiprocessing.util.py' from 'c:\\\\users\\\\jimmy\\\\anaconda3\\\\lib\\\\site-packages\\\\PyInstaller\\\\hooks'...\n",
      "10583 INFO: Loading module hook 'hook-pickle.py' from 'c:\\\\users\\\\jimmy\\\\anaconda3\\\\lib\\\\site-packages\\\\PyInstaller\\\\hooks'...\n",
      "10584 INFO: Loading module hook 'hook-sysconfig.py' from 'c:\\\\users\\\\jimmy\\\\anaconda3\\\\lib\\\\site-packages\\\\PyInstaller\\\\hooks'...\n",
      "10585 INFO: Loading module hook 'hook-xml.etree.cElementTree.py' from 'c:\\\\users\\\\jimmy\\\\anaconda3\\\\lib\\\\site-packages\\\\PyInstaller\\\\hooks'...\n",
      "10585 INFO: Loading module hook 'hook-xml.py' from 'c:\\\\users\\\\jimmy\\\\anaconda3\\\\lib\\\\site-packages\\\\PyInstaller\\\\hooks'...\n",
      "10744 INFO: Loading module hook 'hook-_tkinter.py' from 'c:\\\\users\\\\jimmy\\\\anaconda3\\\\lib\\\\site-packages\\\\PyInstaller\\\\hooks'...\n",
      "10954 INFO: checking Tree\n",
      "10954 INFO: Building Tree because Tree-00.toc is non existent\n",
      "10954 INFO: Building Tree Tree-00.toc\n",
      "11038 INFO: checking Tree\n",
      "11038 INFO: Building Tree because Tree-01.toc is non existent\n",
      "11038 INFO: Building Tree Tree-01.toc\n",
      "11166 INFO: checking Tree\n",
      "11166 INFO: Building Tree because Tree-02.toc is non existent\n",
      "11166 INFO: Building Tree Tree-02.toc\n",
      "11185 INFO: Looking for ctypes DLLs\n",
      "11200 INFO: Analyzing run-time hooks ...\n",
      "11202 INFO: Including run-time hook 'c:\\\\users\\\\jimmy\\\\anaconda3\\\\lib\\\\site-packages\\\\PyInstaller\\\\hooks\\\\rthooks\\\\pyi_rth_pkgutil.py'\n",
      "11205 INFO: Including run-time hook 'c:\\\\users\\\\jimmy\\\\anaconda3\\\\lib\\\\site-packages\\\\PyInstaller\\\\hooks\\\\rthooks\\\\pyi_rth_multiprocessing.py'\n",
      "11208 INFO: Including run-time hook 'c:\\\\users\\\\jimmy\\\\anaconda3\\\\lib\\\\site-packages\\\\PyInstaller\\\\hooks\\\\rthooks\\\\pyi_rth_win32api.py'\n",
      "11219 INFO: Including run-time hook 'c:\\\\users\\\\jimmy\\\\anaconda3\\\\lib\\\\site-packages\\\\PyInstaller\\\\hooks\\\\rthooks\\\\pyi_rth_inspect.py'\n",
      "11224 INFO: Looking for dynamic libraries\n",
      "11388 INFO: Looking for eggs\n",
      "11388 INFO: Using Python library c:\\users\\jimmy\\anaconda3\\python38.dll\n",
      "11388 INFO: Found binding redirects: \n",
      "[]\n",
      "11392 INFO: Warnings written to C:\\Users\\jimmy\\OneDrive\\바탕 화면\\취준\\Y-FoRM\\22-0w\\QuantLib & Bonus Python\\build\\yform\\warn-yform.txt\n",
      "11434 INFO: Graph cross-reference written to C:\\Users\\jimmy\\OneDrive\\바탕 화면\\취준\\Y-FoRM\\22-0w\\QuantLib & Bonus Python\\build\\yform\\xref-yform.html\n",
      "11443 INFO: checking PYZ\n",
      "11443 INFO: Building PYZ because PYZ-00.toc is non existent\n",
      "11443 INFO: Building PYZ (ZlibArchive) C:\\Users\\jimmy\\OneDrive\\바탕 화면\\취준\\Y-FoRM\\22-0w\\QuantLib & Bonus Python\\build\\yform\\PYZ-00.pyz\n",
      "12039 INFO: Building PYZ (ZlibArchive) C:\\Users\\jimmy\\OneDrive\\바탕 화면\\취준\\Y-FoRM\\22-0w\\QuantLib & Bonus Python\\build\\yform\\PYZ-00.pyz completed successfully.\n",
      "12047 INFO: checking PKG\n",
      "12047 INFO: Building PKG because PKG-00.toc is non existent\n",
      "12047 INFO: Building PKG (CArchive) PKG-00.pkg\n",
      "13523 INFO: Building PKG (CArchive) PKG-00.pkg completed successfully.\n",
      "13525 INFO: Bootloader c:\\users\\jimmy\\anaconda3\\lib\\site-packages\\PyInstaller\\bootloader\\Windows-64bit\\runw.exe\n",
      "13526 INFO: checking EXE\n",
      "13526 INFO: Building EXE because EXE-00.toc is non existent\n",
      "13526 INFO: Building EXE from EXE-00.toc\n",
      "13527 INFO: Copying icons from ['yform.ico']\n",
      "13529 INFO: Writing RT_GROUP_ICON 0 resource with 20 bytes\n",
      "13529 INFO: Writing RT_ICON 1 resource with 28700 bytes\n",
      "13534 INFO: Updating manifest in C:\\Users\\jimmy\\OneDrive\\바탕 화면\\취준\\Y-FoRM\\22-0w\\QuantLib & Bonus Python\\build\\yform\\runw.exe.lupi47sq\n",
      "13544 INFO: Updating resource type 24 name 1 language 0\n",
      "13549 INFO: Appending archive to EXE C:\\Users\\jimmy\\OneDrive\\바탕 화면\\취준\\Y-FoRM\\22-0w\\QuantLib & Bonus Python\\dist\\yform.exe\n",
      "15221 INFO: Building EXE from EXE-00.toc completed successfully.\n"
     ]
    }
   ],
   "source": [
    "!pyinstaller --noconsole --onefile --icon=yform.ico yform.py"
   ]
  },
  {
   "cell_type": "code",
   "execution_count": null,
   "metadata": {},
   "outputs": [],
   "source": []
  }
 ],
 "metadata": {
  "kernelspec": {
   "display_name": "Python 3",
   "language": "python",
   "name": "python3"
  },
  "language_info": {
   "codemirror_mode": {
    "name": "ipython",
    "version": 3
   },
   "file_extension": ".py",
   "mimetype": "text/x-python",
   "name": "python",
   "nbconvert_exporter": "python",
   "pygments_lexer": "ipython3",
   "version": "3.8.5"
  }
 },
 "nbformat": 4,
 "nbformat_minor": 4
}
