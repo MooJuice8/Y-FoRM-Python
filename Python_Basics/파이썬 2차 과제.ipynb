{
 "cells": [
  {
   "cell_type": "code",
   "execution_count": 2,
   "metadata": {},
   "outputs": [],
   "source": [
    "import pandas as pd\n",
    "import numpy as np"
   ]
  },
  {
   "cell_type": "markdown",
   "metadata": {},
   "source": [
    "## 1번\n",
    "1-1, 1-2 <br>\n",
    "아래 제가 정의한 frame 변수를 가지고 문제를 푸시면 됩니다."
   ]
  },
  {
   "cell_type": "code",
   "execution_count": 5,
   "metadata": {},
   "outputs": [
    {
     "data": {
      "text/html": [
       "<div>\n",
       "<style scoped>\n",
       "    .dataframe tbody tr th:only-of-type {\n",
       "        vertical-align: middle;\n",
       "    }\n",
       "\n",
       "    .dataframe tbody tr th {\n",
       "        vertical-align: top;\n",
       "    }\n",
       "\n",
       "    .dataframe thead th {\n",
       "        text-align: right;\n",
       "    }\n",
       "</style>\n",
       "<table border=\"1\" class=\"dataframe\">\n",
       "  <thead>\n",
       "    <tr style=\"text-align: right;\">\n",
       "      <th></th>\n",
       "      <th>state</th>\n",
       "      <th>year</th>\n",
       "      <th>pop</th>\n",
       "    </tr>\n",
       "  </thead>\n",
       "  <tbody>\n",
       "    <tr>\n",
       "      <th>0</th>\n",
       "      <td>Ohio</td>\n",
       "      <td>2000</td>\n",
       "      <td>1.5</td>\n",
       "    </tr>\n",
       "    <tr>\n",
       "      <th>1</th>\n",
       "      <td>Ohio</td>\n",
       "      <td>2001</td>\n",
       "      <td>1.7</td>\n",
       "    </tr>\n",
       "    <tr>\n",
       "      <th>2</th>\n",
       "      <td>Ohio</td>\n",
       "      <td>2002</td>\n",
       "      <td>3.6</td>\n",
       "    </tr>\n",
       "    <tr>\n",
       "      <th>3</th>\n",
       "      <td>Nevada</td>\n",
       "      <td>2001</td>\n",
       "      <td>2.4</td>\n",
       "    </tr>\n",
       "    <tr>\n",
       "      <th>4</th>\n",
       "      <td>Nevada</td>\n",
       "      <td>2002</td>\n",
       "      <td>2.9</td>\n",
       "    </tr>\n",
       "    <tr>\n",
       "      <th>5</th>\n",
       "      <td>Nevada</td>\n",
       "      <td>2003</td>\n",
       "      <td>3.2</td>\n",
       "    </tr>\n",
       "  </tbody>\n",
       "</table>\n",
       "</div>"
      ],
      "text/plain": [
       "    state  year  pop\n",
       "0    Ohio  2000  1.5\n",
       "1    Ohio  2001  1.7\n",
       "2    Ohio  2002  3.6\n",
       "3  Nevada  2001  2.4\n",
       "4  Nevada  2002  2.9\n",
       "5  Nevada  2003  3.2"
      ]
     },
     "execution_count": 5,
     "metadata": {},
     "output_type": "execute_result"
    }
   ],
   "source": [
    "#건드리지 마세요.\n",
    "data = {'state' : ['Ohio','Ohio','Ohio','Nevada','Nevada','Nevada'], #'state'가 열에 대한 변수임\n",
    "        'year' : [2000,2001,2002,2001,2002,2003],\n",
    "        'pop' : [1.5,1.7,3.6,2.4,2.9,3.2]}\n",
    "frame=pd.DataFrame(data)\n",
    "frame"
   ]
  },
  {
   "cell_type": "markdown",
   "metadata": {},
   "source": [
    "### 1-1 번 문제<br>\n",
    "frame 변수에 저장되어 있는 데이터프레임의 column 이름을 바꾸세요. <br>\n",
    "'state' 컬럼 이름을 'location'으로 바꾸세요. "
   ]
  },
  {
   "cell_type": "code",
   "execution_count": 2,
   "metadata": {
    "scrolled": true
   },
   "outputs": [],
   "source": [
    "# 코드를 여기에 작성하세요"
   ]
  },
  {
   "cell_type": "markdown",
   "metadata": {},
   "source": [
    "### 1-2번 문제<br>\n",
    "frame 변수에 저장되어 있는 데이터 프레임의 인덱스 값을 바꾸세요. <br>\n",
    "row의 인덱스 값을 기존의 0, 1, 2, 3, 4, 5에서 'id1', 'id2', 'id3', 'id4', 'id5', 'id6'로 바꾸세요."
   ]
  },
  {
   "cell_type": "code",
   "execution_count": 3,
   "metadata": {
    "scrolled": true
   },
   "outputs": [],
   "source": [
    "# 코드를 여기에 작성하세요"
   ]
  },
  {
   "cell_type": "markdown",
   "metadata": {},
   "source": [
    "## 2번 문제\n",
    "2-1, 2-2, 2-3, 2-4"
   ]
  },
  {
   "cell_type": "code",
   "execution_count": 15,
   "metadata": {},
   "outputs": [
    {
     "data": {
      "text/html": [
       "<div>\n",
       "<style scoped>\n",
       "    .dataframe tbody tr th:only-of-type {\n",
       "        vertical-align: middle;\n",
       "    }\n",
       "\n",
       "    .dataframe tbody tr th {\n",
       "        vertical-align: top;\n",
       "    }\n",
       "\n",
       "    .dataframe thead th {\n",
       "        text-align: right;\n",
       "    }\n",
       "</style>\n",
       "<table border=\"1\" class=\"dataframe\">\n",
       "  <thead>\n",
       "    <tr style=\"text-align: right;\">\n",
       "      <th></th>\n",
       "      <th>first</th>\n",
       "      <th>second</th>\n",
       "    </tr>\n",
       "  </thead>\n",
       "  <tbody>\n",
       "    <tr>\n",
       "      <th>a</th>\n",
       "      <td>1.40</td>\n",
       "      <td>NaN</td>\n",
       "    </tr>\n",
       "    <tr>\n",
       "      <th>b</th>\n",
       "      <td>7.10</td>\n",
       "      <td>-4.5</td>\n",
       "    </tr>\n",
       "    <tr>\n",
       "      <th>c</th>\n",
       "      <td>NaN</td>\n",
       "      <td>NaN</td>\n",
       "    </tr>\n",
       "    <tr>\n",
       "      <th>d</th>\n",
       "      <td>0.75</td>\n",
       "      <td>-1.3</td>\n",
       "    </tr>\n",
       "  </tbody>\n",
       "</table>\n",
       "</div>"
      ],
      "text/plain": [
       "   first  second\n",
       "a   1.40     NaN\n",
       "b   7.10    -4.5\n",
       "c    NaN     NaN\n",
       "d   0.75    -1.3"
      ]
     },
     "execution_count": 15,
     "metadata": {},
     "output_type": "execute_result"
    }
   ],
   "source": [
    "#건드리지 마세요\n",
    "df=pd.DataFrame([ [1.4,np.nan],[7.1,-4.5],[np.nan,  ],[0.75,-1.3]], \n",
    "               index=['a','b','c','d'],columns=['first','second'])\n",
    "df"
   ]
  },
  {
   "cell_type": "markdown",
   "metadata": {},
   "source": [
    "### 2-1번 문제 <br>\n",
    "df 변수에 저장된 데이터프레임에서 first, second column의 데이터의 개수를(결측 값을 제외한 데이터의 개수)를 특정 함수를 사용하여 구하세요."
   ]
  },
  {
   "cell_type": "code",
   "execution_count": 4,
   "metadata": {},
   "outputs": [],
   "source": [
    "# 코드를 여기에 작성하세요"
   ]
  },
  {
   "cell_type": "markdown",
   "metadata": {},
   "source": [
    "### 2-2번 문제<br>\n",
    "df 변수에 저장된 데이터 프레임에서 각 컬럼별 25%사분위값(Q1)값을 구하세요."
   ]
  },
  {
   "cell_type": "code",
   "execution_count": 5,
   "metadata": {},
   "outputs": [],
   "source": [
    "# 코드를 여기에 작성하세요"
   ]
  },
  {
   "cell_type": "markdown",
   "metadata": {},
   "source": [
    "### 2-3번 문제<br>\n",
    "df변수에 저장된 데이터 프레임에서 각 컬럼에서 결측값이 있는 행을 모두 삭제하세요."
   ]
  },
  {
   "cell_type": "code",
   "execution_count": 6,
   "metadata": {},
   "outputs": [],
   "source": [
    "# 코드를 여기에 작성하세요"
   ]
  },
  {
   "cell_type": "markdown",
   "metadata": {},
   "source": [
    "### 2-4번 문제 <br>\n",
    "df변수에 저장된 데이터 프레임에서 결측값을 모두 0으로 채우세요."
   ]
  },
  {
   "cell_type": "code",
   "execution_count": 7,
   "metadata": {},
   "outputs": [],
   "source": [
    "df=pd.DataFrame([ [1.4,np.nan],[7.1,-4.5],[np.nan,  ],[0.75,-1.3]], \n",
    "               index=['a','b','c','d'],columns=['first','second'])\n",
    "\n",
    "##2-4번 코드는 여기 아래 작성하시면 됩니다.\n",
    "# 코드를 여기에 작성하세요"
   ]
  },
  {
   "cell_type": "markdown",
   "metadata": {},
   "source": [
    "## 3번 문제\n",
    "3-1, 3-2번"
   ]
  },
  {
   "cell_type": "markdown",
   "metadata": {},
   "source": [
    "### 3-1번 문제 <br>\n",
    "df1, df2를 column bind로 concat하세요."
   ]
  },
  {
   "cell_type": "code",
   "execution_count": 23,
   "metadata": {},
   "outputs": [],
   "source": [
    "#건드리지 마세요\n",
    "df1=pd.DataFrame({'Key' : ['a','c','b','d','e'],'data1':range(10,15)})\n",
    "df2=pd.DataFrame({'Key' :['a','b','f'], 'data2':range(3)})"
   ]
  },
  {
   "cell_type": "code",
   "execution_count": 8,
   "metadata": {},
   "outputs": [],
   "source": [
    "#여기에 코드를 작성하시오"
   ]
  },
  {
   "cell_type": "markdown",
   "metadata": {},
   "source": [
    "### 3-2번 문제 <br>\n",
    "df1, df2를 df1 에서는 Key1, df2에서는 Key2를 기준으로 하여 outer merge하세요."
   ]
  },
  {
   "cell_type": "code",
   "execution_count": 55,
   "metadata": {},
   "outputs": [],
   "source": [
    "#건드리지 마세요\n",
    "df1=pd.DataFrame({'Key1' : ['a','c','b','d','e'],'data1':range(10,15)})\n",
    "df2=pd.DataFrame({'Key2' :['a','b','f'], 'data2':range(3)})"
   ]
  },
  {
   "cell_type": "code",
   "execution_count": 9,
   "metadata": {},
   "outputs": [],
   "source": [
    "#여기에 답을 적으시오"
   ]
  },
  {
   "cell_type": "markdown",
   "metadata": {},
   "source": [
    "## 4번 문제"
   ]
  },
  {
   "cell_type": "markdown",
   "metadata": {},
   "source": [
    "아래 행렬을 x1에 입력하고,상수항 4를 1)더하고, 2)빼고, 3)곱하고, 4)나누고, 5)4만큼 제곱승하세요. (5개 모두 프린트하세요)\n",
    "\n",
    "$$\\begin{bmatrix} \n",
    " 1 & 1  \\\\\n",
    " 3 & 3  \n",
    "\\end{bmatrix}$$"
   ]
  },
  {
   "cell_type": "code",
   "execution_count": 10,
   "metadata": {},
   "outputs": [],
   "source": [
    "# 여기에 코드를 작성하세요"
   ]
  },
  {
   "cell_type": "markdown",
   "metadata": {},
   "source": [
    "## 5번 문제"
   ]
  },
  {
   "cell_type": "markdown",
   "metadata": {},
   "source": [
    "10명의 학생에 대한 점수를 다음과 같이 얻었다.\n",
    "\n",
    "[100, 0, 50, 45, 60, 50, 55, 52, 46, 57]\n",
    "\n",
    "100점과 0점의 학생을 제외하고 8명에 대하여 평균과 표준편차를 구하려 한다.\n",
    "\n",
    "(1) 100점과 0점에 대하여 numpy의 결측치 np.nan로 대체하세요. * np.nan은 float형에서만 사용가능함\n",
    "\n",
    "(2) np.nanmean, np.nanstd로 평균, 표준편차를 구하는 함수를 이용하세요."
   ]
  },
  {
   "cell_type": "code",
   "execution_count": 12,
   "metadata": {},
   "outputs": [],
   "source": [
    "# 여기에 코드를 작성하세요"
   ]
  },
  {
   "cell_type": "markdown",
   "metadata": {},
   "source": [
    "## 6번 문제"
   ]
  },
  {
   "cell_type": "markdown",
   "metadata": {},
   "source": [
    "다음의 8x4 행렬을 만들고\n",
    "\n",
    " $ \\begin{bmatrix} 0 & 1 & 2 & 3 \\\\\n",
    " 4 & 5 & 6 & 7 \\\\ \n",
    " 8 & 9 & 10 & 11 \\\\\n",
    "12 & 13 & 14 & 15 \\\\\n",
    "16 & 17 & 18 & 19 \\\\\n",
    "20 & 21 & 22 & 23 \\\\\n",
    "24 & 25 & 26 & 27 \\\\\n",
    "28 & 29 & 30 & 31 \\end{bmatrix} $\n",
    "\n",
    "이를 이용하여 열을 선택하여 다음과 같은 행렬을 만드세요.\n",
    "\n",
    " $ \\begin{bmatrix} 2 & 1 & 3 \\\\\n",
    " 6 & 5 & 7 \\\\ \n",
    " 10 & 9  & 11 \\\\\n",
    "14 & 13  & 15 \\\\\n",
    "18 & 17  & 19 \\\\\n",
    "22 & 21  & 23 \\\\\n",
    "26 & 25  & 27 \\\\\n",
    "30 & 29  & 31 \\end{bmatrix} $"
   ]
  },
  {
   "cell_type": "code",
   "execution_count": null,
   "metadata": {},
   "outputs": [],
   "source": [
    "# 여기에 코드를 작성하세요"
   ]
  }
 ],
 "metadata": {
  "kernelspec": {
   "display_name": "Python 3",
   "language": "python",
   "name": "python3"
  },
  "language_info": {
   "codemirror_mode": {
    "name": "ipython",
    "version": 3
   },
   "file_extension": ".py",
   "mimetype": "text/x-python",
   "name": "python",
   "nbconvert_exporter": "python",
   "pygments_lexer": "ipython3",
   "version": "3.8.3"
  }
 },
 "nbformat": 4,
 "nbformat_minor": 4
}
